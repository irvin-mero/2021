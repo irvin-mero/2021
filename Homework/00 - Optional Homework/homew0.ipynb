{
 "cells": [
  {
   "cell_type": "code",
   "execution_count": 2,
   "id": "64426de1-2efb-4186-96fc-2108c09da102",
   "metadata": {},
   "outputs": [],
   "source": [
    "import numpy as np\n",
    "import pandas as pd\n",
    "import matplotlib.pyplot as plt\n",
    "%matplotlib inline"
   ]
  },
  {
   "cell_type": "code",
   "execution_count": 152,
   "id": "ca68912b-0892-433c-b9d5-af7bb0c3dbc1",
   "metadata": {},
   "outputs": [
    {
     "name": "stdout",
     "output_type": "stream",
     "text": [
      "(540, 8)\n",
      "33599\n",
      "21058\n",
      "0.626745 of deaths are suicides\n"
     ]
    }
   ],
   "source": [
    "#load file\n",
    "\n",
    "import pandas as pd\n",
    " \n",
    "# Read data from memory and clean it\n",
    "df = pd.read_csv('./guns-data/interactive_data.csv')\n",
    "df['Intent']=df['Intent'].astype(str)\n",
    "df['Gender']=df['Gender'].astype(str)\n",
    "df['Age'] = df['Age'].astype(str)\n",
    "df['Race'] = df['Race'].astype(str)\n",
    "df['Deaths'] = df['Deaths'].astype(int)\n",
    "df['Population'] = df['Population'].astype(float)\n",
    "df['Rate'] = df['Rate'].astype(float)\n",
    "\n",
    "i =df.shape[0]\n",
    "print(df.shape)\n",
    "All_deaths=0\n",
    "for row in range(i):\n",
    "    if df.values[row][1]=='None selected'and df.values[row][2]=='None selected':\n",
    "        if df.values[row][3]=='None selected' and df.values[row][4]=='None selected':\n",
    "            All_deaths=df.values[row][5]\n",
    "print(All_deaths)\n",
    "Suicides=0\n",
    "\n",
    "for row in range(i):\n",
    "    if df.values[row][1]=='Suicide'and df.values[row][2]=='None selected':\n",
    "        if df.values[row][3]=='None selected' and df.values[row][4]=='None selected':\n",
    "            Suicides=df.values[row][5]\n",
    "print(Suicides)\n",
    "ratio=Suicides/All_deaths\n",
    "print( \"%f of deaths are suicides\" %ratio)\n",
    "\n"
   ]
  },
  {
   "cell_type": "code",
   "execution_count": 142,
   "id": "cfe9597f-deb1-4543-a06e-b63e81d8f033",
   "metadata": {},
   "outputs": [
    {
     "name": "stdout",
     "output_type": "stream",
     "text": [
      "18162\n",
      "86.247507 pourcentage of suicides victims are males\n"
     ]
    }
   ],
   "source": [
    "Male_Suicide=0\n",
    "for row in range(i):\n",
    "    if df.values[row][1]=='Suicide'and df.values[row][2]=='Male':\n",
    "        if df.values[row][3]=='None selected' and df.values[row][4]=='None selected':\n",
    "            Male_Suicide=df.values[row][5]\n",
    "print(Male_Suicide)\n",
    "print( \"%f pourcentage of suicides victims are males\" %(Male_Suicide*100/Suicides) )"
   ]
  },
  {
   "cell_type": "code",
   "execution_count": 143,
   "id": "feffb3bc-d851-4c3b-a7be-f40a74c329fe",
   "metadata": {},
   "outputs": [
    {
     "name": "stdout",
     "output_type": "stream",
     "text": [
      "11726\n",
      "0.348998 of deaths are homicides\n"
     ]
    }
   ],
   "source": [
    "Homicide=0\n",
    "for row in range(i):\n",
    "    if df.values[row][1]=='Homicide' and df.values[row][2]=='None selected':\n",
    "        if df.values[row][3]=='None selected' and df.values[row][4]=='None selected':\n",
    "            Homicide=df.values[row][5]\n",
    "print(Homicide)\n",
    "print( \"%f of deaths are homicides\" %(Homicide/All_deaths) )"
   ]
  },
  {
   "cell_type": "code",
   "execution_count": 149,
   "id": "06a6c32b-eda0-413c-91a5-de6e5514f0db",
   "metadata": {},
   "outputs": [
    {
     "name": "stdout",
     "output_type": "stream",
     "text": [
      "6520\n",
      "0.661350 of homicides by male between 15-34 are black\n"
     ]
    }
   ],
   "source": [
    "HomicideM=0\n",
    "for row in range(i):\n",
    "    if df.values[row][1]=='Homicide' and df.values[row][2]=='Male':\n",
    "        if df.values[row][3]=='15 - 34' and df.values[row][4]=='None selected':\n",
    "            HomicideM=df.values[row][5]\n",
    "print(HomicideM)\n",
    "HomicideMB=0\n",
    "for row in range(i):\n",
    "    if df.values[row][1]=='Homicide' and df.values[row][2]=='Male':\n",
    "        if df.values[row][3]=='15 - 34' and df.values[row][4]=='Black':\n",
    "            HomicideMB=df.values[row][5]\n",
    "\n",
    "print( \"%f of homicides by male between 15-34 are black\" %(HomicideMB/HomicideM) )"
   ]
  },
  {
   "cell_type": "code",
   "execution_count": 150,
   "id": "3cc02cf1-5fec-4c85-886b-0a185f121968",
   "metadata": {},
   "outputs": [
    {
     "name": "stdout",
     "output_type": "stream",
     "text": [
      "1791\n",
      "0.152738 of homicides are women\n"
     ]
    }
   ],
   "source": [
    "HomicideW=0\n",
    "for row in range(i):\n",
    "    if df.values[row][1]=='Homicide' and df.values[row][2]=='Female':\n",
    "        if df.values[row][3]=='None selected' and df.values[row][4]=='None selected':\n",
    "            HomicideW=df.values[row][5]\n",
    "print(HomicideW)\n",
    "print( \"%f of homicides are women\" %(HomicideW/Homicide) )"
   ]
  },
  {
   "cell_type": "code",
   "execution_count": null,
   "id": "78bc5187-9664-40d6-aaa6-07c014b49c23",
   "metadata": {},
   "outputs": [],
   "source": []
  }
 ],
 "metadata": {
  "kernelspec": {
   "display_name": "Python [conda env:ada] *",
   "language": "python",
   "name": "conda-env-ada-py"
  },
  "language_info": {
   "codemirror_mode": {
    "name": "ipython",
    "version": 3
   },
   "file_extension": ".py",
   "mimetype": "text/x-python",
   "name": "python",
   "nbconvert_exporter": "python",
   "pygments_lexer": "ipython3",
   "version": "3.8.11"
  }
 },
 "nbformat": 4,
 "nbformat_minor": 5
}
