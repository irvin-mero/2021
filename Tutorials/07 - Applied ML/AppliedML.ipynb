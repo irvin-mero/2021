{
 "cells": [
  {
   "cell_type": "markdown",
   "metadata": {},
   "source": [
    "## All you need is love… And a pet!\n",
    "\n",
    "<img src=\"img/dataset-cover.jpg\" width=\"920\">\n",
    "\n",
    "Here we are going to build a classifier to predict whether an animal from an animal shelter will be adopted or not (aac_intakes_outcomes.csv, available at: https://www.kaggle.com/aaronschlegel/austin-animal-center-shelter-intakes-and-outcomes/version/1#aac_intakes_outcomes.csv). You will be working with the following features:\n",
    "\n",
    "1. *animal_type:* Type of animal. May be one of 'cat', 'dog', 'bird', etc.\n",
    "2. *intake_year:* Year of intake\n",
    "3. *intake_condition:* The intake condition of the animal. Can be one of 'normal', 'injured', 'sick', etc.\n",
    "4. *intake_number:* The intake number denoting the number of occurrences the animal has been brought into the shelter. Values higher than 1 indicate the animal has been taken into the shelter on more than one occasion.\n",
    "5. *intake_type:* The type of intake, for example, 'stray', 'owner surrender', etc.\n",
    "6. *sex_upon_intake:* The gender of the animal and if it has been spayed or neutered at the time of intake\n",
    "7. *age_upon\\_intake_(years):* The age of the animal upon intake represented in years\n",
    "8. *time_in_shelter_days:* Numeric value denoting the number of days the animal remained at the shelter from intake to outcome.\n",
    "9. *sex_upon_outcome:* The gender of the animal and if it has been spayed or neutered at time of outcome\n",
    "10. *age_upon\\_outcome_(years):* The age of the animal upon outcome represented in years\n",
    "11. *outcome_type:* The outcome type. Can be one of ‘adopted’, ‘transferred’, etc."
   ]
  },
  {
   "cell_type": "code",
   "execution_count": 2,
   "metadata": {
    "tags": []
   },
   "outputs": [],
   "source": [
    "import numpy as np\n",
    "import matplotlib.pyplot as plt\n",
    "import pandas as pd\n",
    "import scipy as sp\n",
    "from itertools import combinations \n",
    "import ast\n",
    "from sklearn.linear_model import LogisticRegression\n",
    "import seaborn as sn\n",
    "%matplotlib inline\n",
    "\n",
    "data_folder = './data/'"
   ]
  },
  {
   "cell_type": "markdown",
   "metadata": {},
   "source": [
    "### A) Load the dataset and convert categorical features to a suitable numerical representation (use dummy-variable encoding). \n",
    "- Split the data into a training set (80%) and a test set (20%). Pair each feature vector with the corresponding label, i.e., whether the outcome_type is adoption or not. \n",
    "- Standardize the values of each feature in the data to have mean 0 and variance 1.\n",
    "\n",
    "The use of external libraries is not permitted in part A, except for numpy and pandas. \n",
    "You can drop entries with missing values."
   ]
  },
  {
   "cell_type": "code",
   "execution_count": 3,
   "metadata": {
    "tags": []
   },
   "outputs": [],
   "source": [
    "columns = ['animal_type', 'intake_year', 'intake_condition', 'intake_number', 'intake_type', 'sex_upon_intake', \\\n",
    "          'age_upon_intake_(years)', 'time_in_shelter_days', 'sex_upon_outcome', 'age_upon_outcome_(years)', \\\n",
    "          'outcome_type']\n",
    "original_data = pd.read_csv(data_folder+'aac_intakes_outcomes.csv', usecols=columns)"
   ]
  },
  {
   "cell_type": "code",
   "execution_count": 4,
   "metadata": {},
   "outputs": [
    {
     "data": {
      "text/html": [
       "<div>\n",
       "<style scoped>\n",
       "    .dataframe tbody tr th:only-of-type {\n",
       "        vertical-align: middle;\n",
       "    }\n",
       "\n",
       "    .dataframe tbody tr th {\n",
       "        vertical-align: top;\n",
       "    }\n",
       "\n",
       "    .dataframe thead th {\n",
       "        text-align: right;\n",
       "    }\n",
       "</style>\n",
       "<table border=\"1\" class=\"dataframe\">\n",
       "  <thead>\n",
       "    <tr style=\"text-align: right;\">\n",
       "      <th></th>\n",
       "      <th>outcome_type</th>\n",
       "      <th>sex_upon_outcome</th>\n",
       "      <th>age_upon_outcome_(years)</th>\n",
       "      <th>animal_type</th>\n",
       "      <th>intake_condition</th>\n",
       "      <th>intake_type</th>\n",
       "      <th>sex_upon_intake</th>\n",
       "      <th>age_upon_intake_(years)</th>\n",
       "      <th>intake_year</th>\n",
       "      <th>intake_number</th>\n",
       "      <th>time_in_shelter_days</th>\n",
       "    </tr>\n",
       "  </thead>\n",
       "  <tbody>\n",
       "    <tr>\n",
       "      <th>0</th>\n",
       "      <td>Return to Owner</td>\n",
       "      <td>Neutered Male</td>\n",
       "      <td>10.0</td>\n",
       "      <td>Dog</td>\n",
       "      <td>Normal</td>\n",
       "      <td>Stray</td>\n",
       "      <td>Neutered Male</td>\n",
       "      <td>10.0</td>\n",
       "      <td>2017</td>\n",
       "      <td>1.0</td>\n",
       "      <td>0.588194</td>\n",
       "    </tr>\n",
       "    <tr>\n",
       "      <th>1</th>\n",
       "      <td>Return to Owner</td>\n",
       "      <td>Neutered Male</td>\n",
       "      <td>7.0</td>\n",
       "      <td>Dog</td>\n",
       "      <td>Normal</td>\n",
       "      <td>Public Assist</td>\n",
       "      <td>Neutered Male</td>\n",
       "      <td>7.0</td>\n",
       "      <td>2014</td>\n",
       "      <td>2.0</td>\n",
       "      <td>1.259722</td>\n",
       "    </tr>\n",
       "    <tr>\n",
       "      <th>2</th>\n",
       "      <td>Return to Owner</td>\n",
       "      <td>Neutered Male</td>\n",
       "      <td>6.0</td>\n",
       "      <td>Dog</td>\n",
       "      <td>Normal</td>\n",
       "      <td>Public Assist</td>\n",
       "      <td>Neutered Male</td>\n",
       "      <td>6.0</td>\n",
       "      <td>2014</td>\n",
       "      <td>3.0</td>\n",
       "      <td>1.113889</td>\n",
       "    </tr>\n",
       "    <tr>\n",
       "      <th>3</th>\n",
       "      <td>Transfer</td>\n",
       "      <td>Neutered Male</td>\n",
       "      <td>10.0</td>\n",
       "      <td>Dog</td>\n",
       "      <td>Normal</td>\n",
       "      <td>Owner Surrender</td>\n",
       "      <td>Neutered Male</td>\n",
       "      <td>10.0</td>\n",
       "      <td>2014</td>\n",
       "      <td>1.0</td>\n",
       "      <td>4.970139</td>\n",
       "    </tr>\n",
       "    <tr>\n",
       "      <th>4</th>\n",
       "      <td>Return to Owner</td>\n",
       "      <td>Neutered Male</td>\n",
       "      <td>16.0</td>\n",
       "      <td>Dog</td>\n",
       "      <td>Injured</td>\n",
       "      <td>Public Assist</td>\n",
       "      <td>Neutered Male</td>\n",
       "      <td>16.0</td>\n",
       "      <td>2013</td>\n",
       "      <td>1.0</td>\n",
       "      <td>0.119444</td>\n",
       "    </tr>\n",
       "  </tbody>\n",
       "</table>\n",
       "</div>"
      ],
      "text/plain": [
       "      outcome_type sex_upon_outcome  age_upon_outcome_(years) animal_type  \\\n",
       "0  Return to Owner    Neutered Male                      10.0         Dog   \n",
       "1  Return to Owner    Neutered Male                       7.0         Dog   \n",
       "2  Return to Owner    Neutered Male                       6.0         Dog   \n",
       "3         Transfer    Neutered Male                      10.0         Dog   \n",
       "4  Return to Owner    Neutered Male                      16.0         Dog   \n",
       "\n",
       "  intake_condition      intake_type sex_upon_intake  age_upon_intake_(years)  \\\n",
       "0           Normal            Stray   Neutered Male                     10.0   \n",
       "1           Normal    Public Assist   Neutered Male                      7.0   \n",
       "2           Normal    Public Assist   Neutered Male                      6.0   \n",
       "3           Normal  Owner Surrender   Neutered Male                     10.0   \n",
       "4          Injured    Public Assist   Neutered Male                     16.0   \n",
       "\n",
       "   intake_year  intake_number  time_in_shelter_days  \n",
       "0         2017            1.0              0.588194  \n",
       "1         2014            2.0              1.259722  \n",
       "2         2014            3.0              1.113889  \n",
       "3         2014            1.0              4.970139  \n",
       "4         2013            1.0              0.119444  "
      ]
     },
     "execution_count": 4,
     "metadata": {},
     "output_type": "execute_result"
    }
   ],
   "source": [
    "original_data.head()"
   ]
  },
  {
   "cell_type": "code",
   "execution_count": 5,
   "metadata": {},
   "outputs": [
    {
     "name": "stdout",
     "output_type": "stream",
     "text": [
      "The length of the data with all rows is : 79672\n",
      "The length of the data without the rows with nan value is: 79661\n"
     ]
    }
   ],
   "source": [
    "print('The length of the data with all rows is : {}'.format(len(original_data)))\n",
    "original_data.dropna(inplace=True)\n",
    "print('The length of the data without the rows with nan value is: {}'.format(len(original_data)))"
   ]
  },
  {
   "cell_type": "code",
   "execution_count": 6,
   "metadata": {},
   "outputs": [
    {
     "data": {
      "text/html": [
       "<div>\n",
       "<style scoped>\n",
       "    .dataframe tbody tr th:only-of-type {\n",
       "        vertical-align: middle;\n",
       "    }\n",
       "\n",
       "    .dataframe tbody tr th {\n",
       "        vertical-align: top;\n",
       "    }\n",
       "\n",
       "    .dataframe thead th {\n",
       "        text-align: right;\n",
       "    }\n",
       "</style>\n",
       "<table border=\"1\" class=\"dataframe\">\n",
       "  <thead>\n",
       "    <tr style=\"text-align: right;\">\n",
       "      <th></th>\n",
       "      <th>sex_upon_outcome</th>\n",
       "      <th>age_upon_outcome_(years)</th>\n",
       "      <th>animal_type</th>\n",
       "      <th>intake_condition</th>\n",
       "      <th>intake_type</th>\n",
       "      <th>sex_upon_intake</th>\n",
       "      <th>age_upon_intake_(years)</th>\n",
       "      <th>intake_year</th>\n",
       "      <th>intake_number</th>\n",
       "      <th>time_in_shelter_days</th>\n",
       "      <th>adopted</th>\n",
       "    </tr>\n",
       "  </thead>\n",
       "  <tbody>\n",
       "    <tr>\n",
       "      <th>0</th>\n",
       "      <td>Neutered Male</td>\n",
       "      <td>10.0</td>\n",
       "      <td>Dog</td>\n",
       "      <td>Normal</td>\n",
       "      <td>Stray</td>\n",
       "      <td>Neutered Male</td>\n",
       "      <td>10.0</td>\n",
       "      <td>2017</td>\n",
       "      <td>1.0</td>\n",
       "      <td>0.588194</td>\n",
       "      <td>0</td>\n",
       "    </tr>\n",
       "    <tr>\n",
       "      <th>1</th>\n",
       "      <td>Neutered Male</td>\n",
       "      <td>7.0</td>\n",
       "      <td>Dog</td>\n",
       "      <td>Normal</td>\n",
       "      <td>Public Assist</td>\n",
       "      <td>Neutered Male</td>\n",
       "      <td>7.0</td>\n",
       "      <td>2014</td>\n",
       "      <td>2.0</td>\n",
       "      <td>1.259722</td>\n",
       "      <td>0</td>\n",
       "    </tr>\n",
       "    <tr>\n",
       "      <th>2</th>\n",
       "      <td>Neutered Male</td>\n",
       "      <td>6.0</td>\n",
       "      <td>Dog</td>\n",
       "      <td>Normal</td>\n",
       "      <td>Public Assist</td>\n",
       "      <td>Neutered Male</td>\n",
       "      <td>6.0</td>\n",
       "      <td>2014</td>\n",
       "      <td>3.0</td>\n",
       "      <td>1.113889</td>\n",
       "      <td>0</td>\n",
       "    </tr>\n",
       "    <tr>\n",
       "      <th>3</th>\n",
       "      <td>Neutered Male</td>\n",
       "      <td>10.0</td>\n",
       "      <td>Dog</td>\n",
       "      <td>Normal</td>\n",
       "      <td>Owner Surrender</td>\n",
       "      <td>Neutered Male</td>\n",
       "      <td>10.0</td>\n",
       "      <td>2014</td>\n",
       "      <td>1.0</td>\n",
       "      <td>4.970139</td>\n",
       "      <td>0</td>\n",
       "    </tr>\n",
       "    <tr>\n",
       "      <th>4</th>\n",
       "      <td>Neutered Male</td>\n",
       "      <td>16.0</td>\n",
       "      <td>Dog</td>\n",
       "      <td>Injured</td>\n",
       "      <td>Public Assist</td>\n",
       "      <td>Neutered Male</td>\n",
       "      <td>16.0</td>\n",
       "      <td>2013</td>\n",
       "      <td>1.0</td>\n",
       "      <td>0.119444</td>\n",
       "      <td>0</td>\n",
       "    </tr>\n",
       "  </tbody>\n",
       "</table>\n",
       "</div>"
      ],
      "text/plain": [
       "  sex_upon_outcome  age_upon_outcome_(years) animal_type intake_condition  \\\n",
       "0    Neutered Male                      10.0         Dog           Normal   \n",
       "1    Neutered Male                       7.0         Dog           Normal   \n",
       "2    Neutered Male                       6.0         Dog           Normal   \n",
       "3    Neutered Male                      10.0         Dog           Normal   \n",
       "4    Neutered Male                      16.0         Dog          Injured   \n",
       "\n",
       "       intake_type sex_upon_intake  age_upon_intake_(years)  intake_year  \\\n",
       "0            Stray   Neutered Male                     10.0         2017   \n",
       "1    Public Assist   Neutered Male                      7.0         2014   \n",
       "2    Public Assist   Neutered Male                      6.0         2014   \n",
       "3  Owner Surrender   Neutered Male                     10.0         2014   \n",
       "4    Public Assist   Neutered Male                     16.0         2013   \n",
       "\n",
       "   intake_number  time_in_shelter_days  adopted  \n",
       "0            1.0              0.588194        0  \n",
       "1            2.0              1.259722        0  \n",
       "2            3.0              1.113889        0  \n",
       "3            1.0              4.970139        0  \n",
       "4            1.0              0.119444        0  "
      ]
     },
     "execution_count": 6,
     "metadata": {},
     "output_type": "execute_result"
    }
   ],
   "source": [
    "data_features = original_data.copy()\n",
    "data_features['adopted'] = data_features.outcome_type.apply(lambda r: 1 if r=='Adoption' else 0)\n",
    "data_features.drop(\"outcome_type\", axis = 1, inplace=True)\n",
    "data_features.head()"
   ]
  },
  {
   "cell_type": "code",
   "execution_count": 8,
   "metadata": {},
   "outputs": [],
   "source": [
    "##separe les données a environ un 80% pour training set return [training set;test set]\n",
    "def split(data_to_split, ratio=0.8):\n",
    "    mask = np.random.rand(len(data_to_split)) < ratio\n",
    "    return [data_to_split[mask].reset_index(drop=True), data_to_split[~mask].reset_index(drop=True)]"
   ]
  },
  {
   "cell_type": "code",
   "execution_count": 10,
   "metadata": {},
   "outputs": [],
   "source": [
    "[train,test]=split(data_features)"
   ]
  },
  {
   "cell_type": "code",
   "execution_count": 14,
   "metadata": {},
   "outputs": [
    {
     "data": {
      "text/plain": [
       "Index(['age_upon_outcome_(years)', 'age_upon_intake_(years)', 'intake_year',\n",
       "       'intake_number', 'time_in_shelter_days', 'adopted',\n",
       "       'sex_upon_outcome_Intact Female', 'sex_upon_outcome_Intact Male',\n",
       "       'sex_upon_outcome_Neutered Male', 'sex_upon_outcome_Spayed Female',\n",
       "       'sex_upon_outcome_Unknown', 'animal_type_Bird', 'animal_type_Cat',\n",
       "       'animal_type_Dog', 'animal_type_Other', 'intake_condition_Aged',\n",
       "       'intake_condition_Feral', 'intake_condition_Injured',\n",
       "       'intake_condition_Normal', 'intake_condition_Nursing',\n",
       "       'intake_condition_Other', 'intake_condition_Pregnant',\n",
       "       'intake_condition_Sick', 'intake_type_Euthanasia Request',\n",
       "       'intake_type_Owner Surrender', 'intake_type_Public Assist',\n",
       "       'intake_type_Stray', 'intake_type_Wildlife',\n",
       "       'sex_upon_intake_Intact Female', 'sex_upon_intake_Intact Male',\n",
       "       'sex_upon_intake_Neutered Male', 'sex_upon_intake_Spayed Female',\n",
       "       'sex_upon_intake_Unknown'],\n",
       "      dtype='object')"
      ]
     },
     "execution_count": 14,
     "metadata": {},
     "output_type": "execute_result"
    }
   ],
   "source": [
    "##conversion of categorical features to numerical \n",
    "categorical_features = ['sex_upon_outcome','animal_type','intake_condition','intake_type','sex_upon_intake']\n",
    "\n",
    "train_categorical = pd.get_dummies(train, columns= categorical_features)\n",
    "train_categorical.columns\n"
   ]
  },
  {
   "cell_type": "markdown",
   "metadata": {},
   "source": [
    "**The features in the testing set must be matched with the traning set.**"
   ]
  },
  {
   "cell_type": "code",
   "execution_count": 17,
   "metadata": {},
   "outputs": [],
   "source": [
    "test_categorical = pd.get_dummies(test, columns= categorical_features)[train_categorical.columns]"
   ]
  },
  {
   "cell_type": "code",
   "execution_count": 18,
   "metadata": {},
   "outputs": [
    {
     "name": "stdout",
     "output_type": "stream",
     "text": [
      "Length of the train dataset : 63869\n",
      "Length of the test dataset : 15792\n"
     ]
    }
   ],
   "source": [
    "train_label=train_categorical.adopted\n",
    "train_features = train_categorical.drop('adopted', axis=1)\n",
    "print('Length of the train dataset : {}'.format(len(train)))\n",
    "\n",
    "test_label=test_categorical.adopted\n",
    "test_features = test_categorical.drop('adopted', axis=1)\n",
    "print('Length of the test dataset : {}'.format(len(test)))"
   ]
  },
  {
   "cell_type": "code",
   "execution_count": 19,
   "metadata": {},
   "outputs": [
    {
     "data": {
      "text/html": [
       "<div>\n",
       "<style scoped>\n",
       "    .dataframe tbody tr th:only-of-type {\n",
       "        vertical-align: middle;\n",
       "    }\n",
       "\n",
       "    .dataframe tbody tr th {\n",
       "        vertical-align: top;\n",
       "    }\n",
       "\n",
       "    .dataframe thead th {\n",
       "        text-align: right;\n",
       "    }\n",
       "</style>\n",
       "<table border=\"1\" class=\"dataframe\">\n",
       "  <thead>\n",
       "    <tr style=\"text-align: right;\">\n",
       "      <th></th>\n",
       "      <th>age_upon_outcome_(years)</th>\n",
       "      <th>age_upon_intake_(years)</th>\n",
       "      <th>intake_year</th>\n",
       "      <th>intake_number</th>\n",
       "      <th>time_in_shelter_days</th>\n",
       "      <th>sex_upon_outcome_Intact Female</th>\n",
       "      <th>sex_upon_outcome_Intact Male</th>\n",
       "      <th>sex_upon_outcome_Neutered Male</th>\n",
       "      <th>sex_upon_outcome_Spayed Female</th>\n",
       "      <th>sex_upon_outcome_Unknown</th>\n",
       "      <th>...</th>\n",
       "      <th>intake_type_Euthanasia Request</th>\n",
       "      <th>intake_type_Owner Surrender</th>\n",
       "      <th>intake_type_Public Assist</th>\n",
       "      <th>intake_type_Stray</th>\n",
       "      <th>intake_type_Wildlife</th>\n",
       "      <th>sex_upon_intake_Intact Female</th>\n",
       "      <th>sex_upon_intake_Intact Male</th>\n",
       "      <th>sex_upon_intake_Neutered Male</th>\n",
       "      <th>sex_upon_intake_Spayed Female</th>\n",
       "      <th>sex_upon_intake_Unknown</th>\n",
       "    </tr>\n",
       "  </thead>\n",
       "  <tbody>\n",
       "    <tr>\n",
       "      <th>0</th>\n",
       "      <td>2.699789</td>\n",
       "      <td>2.718204</td>\n",
       "      <td>1.194579</td>\n",
       "      <td>-0.279211</td>\n",
       "      <td>-0.382857</td>\n",
       "      <td>-0.364567</td>\n",
       "      <td>-0.375262</td>\n",
       "      <td>1.349736</td>\n",
       "      <td>-0.686579</td>\n",
       "      <td>-0.303777</td>\n",
       "      <td>...</td>\n",
       "      <td>-0.055623</td>\n",
       "      <td>-0.481653</td>\n",
       "      <td>-0.258617</td>\n",
       "      <td>0.650875</td>\n",
       "      <td>-0.213243</td>\n",
       "      <td>-0.651314</td>\n",
       "      <td>-0.683397</td>\n",
       "      <td>2.295824</td>\n",
       "      <td>-0.403190</td>\n",
       "      <td>-0.303777</td>\n",
       "    </tr>\n",
       "    <tr>\n",
       "      <th>1</th>\n",
       "      <td>4.763754</td>\n",
       "      <td>4.787093</td>\n",
       "      <td>-1.872527</td>\n",
       "      <td>-0.279211</td>\n",
       "      <td>-0.393984</td>\n",
       "      <td>-0.364567</td>\n",
       "      <td>-0.375262</td>\n",
       "      <td>1.349736</td>\n",
       "      <td>-0.686579</td>\n",
       "      <td>-0.303777</td>\n",
       "      <td>...</td>\n",
       "      <td>-0.055623</td>\n",
       "      <td>-0.481653</td>\n",
       "      <td>3.866661</td>\n",
       "      <td>-1.536368</td>\n",
       "      <td>-0.213243</td>\n",
       "      <td>-0.651314</td>\n",
       "      <td>-0.683397</td>\n",
       "      <td>2.295824</td>\n",
       "      <td>-0.403190</td>\n",
       "      <td>-0.303777</td>\n",
       "    </tr>\n",
       "    <tr>\n",
       "      <th>2</th>\n",
       "      <td>4.419760</td>\n",
       "      <td>4.442278</td>\n",
       "      <td>-1.872527</td>\n",
       "      <td>-0.279211</td>\n",
       "      <td>-0.376148</td>\n",
       "      <td>-0.364567</td>\n",
       "      <td>-0.375262</td>\n",
       "      <td>-0.740874</td>\n",
       "      <td>1.456473</td>\n",
       "      <td>-0.303777</td>\n",
       "      <td>...</td>\n",
       "      <td>-0.055623</td>\n",
       "      <td>-0.481653</td>\n",
       "      <td>-0.258617</td>\n",
       "      <td>0.650875</td>\n",
       "      <td>-0.213243</td>\n",
       "      <td>-0.651314</td>\n",
       "      <td>-0.683397</td>\n",
       "      <td>-0.435567</td>\n",
       "      <td>2.480179</td>\n",
       "      <td>-0.303777</td>\n",
       "    </tr>\n",
       "    <tr>\n",
       "      <th>3</th>\n",
       "      <td>4.419760</td>\n",
       "      <td>4.442278</td>\n",
       "      <td>-1.105751</td>\n",
       "      <td>-0.279211</td>\n",
       "      <td>-0.392583</td>\n",
       "      <td>2.742937</td>\n",
       "      <td>-0.375262</td>\n",
       "      <td>-0.740874</td>\n",
       "      <td>-0.686579</td>\n",
       "      <td>-0.303777</td>\n",
       "      <td>...</td>\n",
       "      <td>-0.055623</td>\n",
       "      <td>-0.481653</td>\n",
       "      <td>-0.258617</td>\n",
       "      <td>0.650875</td>\n",
       "      <td>-0.213243</td>\n",
       "      <td>1.535333</td>\n",
       "      <td>-0.683397</td>\n",
       "      <td>-0.435567</td>\n",
       "      <td>-0.403190</td>\n",
       "      <td>-0.303777</td>\n",
       "    </tr>\n",
       "    <tr>\n",
       "      <th>4</th>\n",
       "      <td>4.419760</td>\n",
       "      <td>4.442278</td>\n",
       "      <td>-1.105751</td>\n",
       "      <td>-0.279211</td>\n",
       "      <td>-0.391759</td>\n",
       "      <td>-0.364567</td>\n",
       "      <td>-0.375262</td>\n",
       "      <td>1.349736</td>\n",
       "      <td>-0.686579</td>\n",
       "      <td>-0.303777</td>\n",
       "      <td>...</td>\n",
       "      <td>-0.055623</td>\n",
       "      <td>-0.481653</td>\n",
       "      <td>-0.258617</td>\n",
       "      <td>0.650875</td>\n",
       "      <td>-0.213243</td>\n",
       "      <td>-0.651314</td>\n",
       "      <td>-0.683397</td>\n",
       "      <td>2.295824</td>\n",
       "      <td>-0.403190</td>\n",
       "      <td>-0.303777</td>\n",
       "    </tr>\n",
       "  </tbody>\n",
       "</table>\n",
       "<p>5 rows × 32 columns</p>\n",
       "</div>"
      ],
      "text/plain": [
       "   age_upon_outcome_(years)  age_upon_intake_(years)  intake_year  \\\n",
       "0                  2.699789                 2.718204     1.194579   \n",
       "1                  4.763754                 4.787093    -1.872527   \n",
       "2                  4.419760                 4.442278    -1.872527   \n",
       "3                  4.419760                 4.442278    -1.105751   \n",
       "4                  4.419760                 4.442278    -1.105751   \n",
       "\n",
       "   intake_number  time_in_shelter_days  sex_upon_outcome_Intact Female  \\\n",
       "0      -0.279211             -0.382857                       -0.364567   \n",
       "1      -0.279211             -0.393984                       -0.364567   \n",
       "2      -0.279211             -0.376148                       -0.364567   \n",
       "3      -0.279211             -0.392583                        2.742937   \n",
       "4      -0.279211             -0.391759                       -0.364567   \n",
       "\n",
       "   sex_upon_outcome_Intact Male  sex_upon_outcome_Neutered Male  \\\n",
       "0                     -0.375262                        1.349736   \n",
       "1                     -0.375262                        1.349736   \n",
       "2                     -0.375262                       -0.740874   \n",
       "3                     -0.375262                       -0.740874   \n",
       "4                     -0.375262                        1.349736   \n",
       "\n",
       "   sex_upon_outcome_Spayed Female  sex_upon_outcome_Unknown  ...  \\\n",
       "0                       -0.686579                 -0.303777  ...   \n",
       "1                       -0.686579                 -0.303777  ...   \n",
       "2                        1.456473                 -0.303777  ...   \n",
       "3                       -0.686579                 -0.303777  ...   \n",
       "4                       -0.686579                 -0.303777  ...   \n",
       "\n",
       "   intake_type_Euthanasia Request  intake_type_Owner Surrender  \\\n",
       "0                       -0.055623                    -0.481653   \n",
       "1                       -0.055623                    -0.481653   \n",
       "2                       -0.055623                    -0.481653   \n",
       "3                       -0.055623                    -0.481653   \n",
       "4                       -0.055623                    -0.481653   \n",
       "\n",
       "   intake_type_Public Assist  intake_type_Stray  intake_type_Wildlife  \\\n",
       "0                  -0.258617           0.650875             -0.213243   \n",
       "1                   3.866661          -1.536368             -0.213243   \n",
       "2                  -0.258617           0.650875             -0.213243   \n",
       "3                  -0.258617           0.650875             -0.213243   \n",
       "4                  -0.258617           0.650875             -0.213243   \n",
       "\n",
       "   sex_upon_intake_Intact Female  sex_upon_intake_Intact Male  \\\n",
       "0                      -0.651314                    -0.683397   \n",
       "1                      -0.651314                    -0.683397   \n",
       "2                      -0.651314                    -0.683397   \n",
       "3                       1.535333                    -0.683397   \n",
       "4                      -0.651314                    -0.683397   \n",
       "\n",
       "   sex_upon_intake_Neutered Male  sex_upon_intake_Spayed Female  \\\n",
       "0                       2.295824                      -0.403190   \n",
       "1                       2.295824                      -0.403190   \n",
       "2                      -0.435567                       2.480179   \n",
       "3                      -0.435567                      -0.403190   \n",
       "4                       2.295824                      -0.403190   \n",
       "\n",
       "   sex_upon_intake_Unknown  \n",
       "0                -0.303777  \n",
       "1                -0.303777  \n",
       "2                -0.303777  \n",
       "3                -0.303777  \n",
       "4                -0.303777  \n",
       "\n",
       "[5 rows x 32 columns]"
      ]
     },
     "execution_count": 19,
     "metadata": {},
     "output_type": "execute_result"
    }
   ],
   "source": [
    "means = train_features.mean()\n",
    "stddevs = train_features.std()\n",
    "\n",
    "train_features_std = pd.DataFrame()\n",
    "for c in train_features.columns:\n",
    "    train_features_std[c] = (train_features[c]-means[c])/stddevs[c]\n",
    "\n",
    "# Use the mean and stddev of the training set\n",
    "test_features_std = pd.DataFrame()\n",
    "for c in test_features.columns:\n",
    "    test_features_std[c] = (test_features[c]-means[c])/stddevs[c]\n",
    "\n",
    "train_features_std.head()"
   ]
  },
  {
   "cell_type": "markdown",
   "metadata": {},
   "source": [
    "### B) Train a logistic regression classifier on your training set. Logistic regression returns probabilities as predictions, so in order to arrive at a binary prediction, you need to put a threshold on the predicted probabilities. \n",
    "- For the decision threshold of 0.5, present the performance of your classifier on the test set by displaying the confusion matrix. Based on the confusion matrix, manually calculate accuracy, precision, recall, and F1-score with respect to the positive and the negative class. "
   ]
  },
  {
   "cell_type": "code",
   "execution_count": 20,
   "metadata": {
    "tags": []
   },
   "outputs": [],
   "source": [
    "def compute_confusion_matrix(true_label, prediction_proba, decision_threshold=0.5): \n",
    "    \n",
    "    predict_label = (prediction_proba[:,1]>decision_threshold).astype(int)   \n",
    "                                                                                                                       \n",
    "    TP = np.sum(np.logical_and(predict_label==1, true_label==1))\n",
    "    TN = np.sum(np.logical_and(predict_label==0, true_label==0))\n",
    "    FP = np.sum(np.logical_and(predict_label==1, true_label==0))\n",
    "    FN = np.sum(np.logical_and(predict_label==0, true_label==1))\n",
    "    \n",
    "    confusion_matrix = np.asarray([[TP, FP],\n",
    "                                    [FN, TN]])\n",
    "    return confusion_matrix\n",
    "\n",
    "\n",
    "def plot_confusion_matrix(confusion_matrix):\n",
    "    [[TP, FP],[FN, TN]] = confusion_matrix\n",
    "    label = np.asarray([['TP {}'.format(TP), 'FP {}'.format(FP)],\n",
    "                        ['FN {}'.format(FN), 'TN {}'.format(TN)]])\n",
    "    \n",
    "    df_cm = pd.DataFrame(confusion_matrix, index=['Yes', 'No'], columns=['Positive', 'Negative']) \n",
    "    \n",
    "    return sn.heatmap(df_cm, cmap='YlOrRd', annot=label, annot_kws={\"size\": 16}, cbar=False, fmt='')\n",
    "\n",
    "\n",
    "def compute_all_score(confusion_matrix, t=0.5):\n",
    "    [[TP, FP],[FN, TN]] = confusion_matrix.astype(float)\n",
    "    \n",
    "    accuracy =  (TP+TN)/np.sum(confusion_matrix)\n",
    "    \n",
    "    precision_positive = TP/(TP+FP) if (TP+FP) !=0 else np.nan\n",
    "    precision_negative = TN/(TN+FN) if (TN+FN) !=0 else np.nan\n",
    "    \n",
    "    recall_positive = TP/(TP+FN) if (TP+FN) !=0 else np.nan\n",
    "    recall_negative = TN/(TN+FP) if (TN+FP) !=0 else np.nan\n",
    "\n",
    "    F1_score_positive = 2 *(precision_positive*recall_positive)/(precision_positive+recall_positive) if (precision_positive+recall_positive) !=0 else np.nan\n",
    "    F1_score_negative = 2 *(precision_negative*recall_negative)/(precision_negative+recall_negative) if (precision_negative+recall_negative) !=0 else np.nan\n",
    "\n",
    "    return [t, accuracy, precision_positive, recall_positive, F1_score_positive, precision_negative, recall_negative, F1_score_negative]"
   ]
  },
  {
   "cell_type": "code",
   "execution_count": 21,
   "metadata": {},
   "outputs": [
    {
     "data": {
      "text/plain": [
       "LogisticRegression(max_iter=10000)"
      ]
     },
     "execution_count": 21,
     "metadata": {},
     "output_type": "execute_result"
    }
   ],
   "source": [
    "logistic = LogisticRegression(solver='lbfgs', max_iter=10000)\n",
    "logistic.fit(train_features_std,train_label)"
   ]
  },
  {
   "cell_type": "code",
   "execution_count": 23,
   "metadata": {},
   "outputs": [],
   "source": [
    "prediction_proba= logistic.predict_proba(test_features_std)"
   ]
  },
  {
   "cell_type": "code",
   "execution_count": 30,
   "metadata": {},
   "outputs": [
    {
     "data": {
      "text/plain": [
       "Text(0.5, 1.0, 'Confusion matrix for a 0.5 threshold')"
      ]
     },
     "execution_count": 30,
     "metadata": {},
     "output_type": "execute_result"
    },
    {
     "data": {
      "image/png": "[encoded data removed]",
      "text/plain": [
       "<Figure size 288x216 with 1 Axes>"
      ]
     },
     "metadata": {
      "needs_background": "light"
     },
     "output_type": "display_data"
    }
   ],
   "source": [
    "confusion_matrix_05 = compute_confusion_matrix(test_label, prediction_proba, 0.5 )\n",
    "plt.figure(figsize = (4,3)) \n",
    "ax = plot_confusion_matrix(confusion_matrix_05)\n",
    "plt.xlabel('Actual')\n",
    "plt.ylabel('Predicted')\n",
    "plt.title('Confusion matrix for a 0.5 threshold')"
   ]
  },
  {
   "cell_type": "code",
   "execution_count": 31,
   "metadata": {},
   "outputs": [
    {
     "name": "stdout",
     "output_type": "stream",
     "text": [
      "The accuracy of this model is 0.820\n",
      "For the positive case, the precision is 0.772, the recall is 0.820 and the F1 score is 0.796\n",
      "For the negative case, the precision is 0.860, the recall is 0.820 and the F1 score is 0.840\n"
     ]
    }
   ],
   "source": [
    "#computation of scores : \n",
    "[threshold,accuracy,precision_positive, recall_positive, F1_score_positive, precision_negative, recall_negative, F1_score_negative] = compute_all_score(confusion_matrix_05,0.5)\n",
    "\n",
    "print(\"The accuracy of this model is {0:1.3f}\".format(accuracy))\n",
    "print(\"For the positive case, the precision is {0:1.3f}, the recall is {1:1.3f} and the F1 score is {2:1.3f}\"\\\n",
    "      .format(precision_positive, recall_positive, F1_score_positive))\n",
    "print(\"For the negative case, the precision is {0:1.3f}, the recall is {1:1.3f} and the F1 score is {2:1.3f}\"\\\n",
    "      .format(precision_negative, recall_negative, F1_score_negative))"
   ]
  },
  {
   "cell_type": "markdown",
   "metadata": {},
   "source": [
    "### C) Vary the value of the threshold in the range from 0 to 1 and visualize the value of accuracy, precision, recall, and F1-score (with respect to both classes) as a function of the threshold."
   ]
  },
  {
   "cell_type": "code",
   "execution_count": 37,
   "metadata": {
    "tags": []
   },
   "outputs": [],
   "source": [
    "thresholds = np.linspace(0,1,100)"
   ]
  },
  {
   "cell_type": "code",
   "execution_count": null,
   "metadata": {},
   "outputs": [],
   "source": [
    "for t in thresholds:\n",
    "    confusion_matrix_t = compute_confusion_matrix(test_label, prediction_proba,t)\n",
    "    "
   ]
  },
  {
   "cell_type": "code",
   "execution_count": 39,
   "metadata": {},
   "outputs": [],
   "source": [
    "columns_score_name = ['Threshold', 'Accuracy', 'Precision P', 'Recall P', 'F1 score P', \\\n",
    "                                              'Precision N', 'Recall N', 'F1 score N']\n",
    "threshold_score = pd.concat([pd.DataFrame([compute_all_score(compute_confusion_matrix(test_label, prediction_proba, t ),t)]\\\n",
    "                                             , columns=columns_score_name) for t in thresholds], ignore_index=True)\n",
    "threshold_score.set_index('Threshold', inplace=True)"
   ]
  },
  {
   "cell_type": "code",
   "execution_count": 40,
   "metadata": {},
   "outputs": [
    {
     "data": {
      "text/plain": [
       "Text(0.5, 1.0, 'Accuracy')"
      ]
     },
     "execution_count": 40,
     "metadata": {},
     "output_type": "execute_result"
    },
    {
     "data": {
      "image/png": "[encoded data removed]",
      "text/plain": [
       "<Figure size 432x288 with 1 Axes>"
      ]
     },
     "metadata": {
      "needs_background": "light"
     },
     "output_type": "display_data"
    }
   ],
   "source": [
    "threshold_score['Accuracy'].plot(grid=True).set_title('Accuracy')"
   ]
  },
  {
   "cell_type": "code",
   "execution_count": 44,
   "metadata": {},
   "outputs": [
    {
     "data": {
      "image/png": "[encoded data removed]",
      "text/plain": [
       "<Figure size 720x360 with 6 Axes>"
      ]
     },
     "metadata": {
      "needs_background": "light"
     },
     "output_type": "display_data"
    }
   ],
   "source": [
    "figs,axs = plt.subplots(nrows=2,ncols=3,sharex=True,sharey=True, figsize=(10,5))\n",
    "cols_plot=['Precision P','Recall P','F1 score P','Precision N','Recall N','F1 score N']\n",
    "\n",
    "major_ticks = np.linspace(0,1,5)\n",
    "\n",
    "for axe,col, in zip(axs.flat, cols_plot): #on prend chaque graphe et on y ajoute une valeur\n",
    "    threshold_score[col].plot(ax=axe,grid=True)\n",
    "    axe.set_title(col)\n",
    "    axe.set_xticks(major_ticks)    \n",
    "    axe.grid(which='major', alpha=0.5)"
   ]
  },
  {
   "cell_type": "markdown",
   "metadata": {},
   "source": [
    "### D) Plot in a bar chart the coefficients of the logistic regression sorted by their contribution to the prediction."
   ]
  },
  {
   "cell_type": "code",
   "execution_count": 48,
   "metadata": {
    "tags": []
   },
   "outputs": [
    {
     "data": {
      "text/plain": [
       "LogisticRegression(max_iter=10000)"
      ]
     },
     "execution_count": 48,
     "metadata": {},
     "output_type": "execute_result"
    }
   ],
   "source": [
    "logistic = LogisticRegression(solver='lbfgs', max_iter=10000)\n",
    "logistic.fit(train_features_std, train_label)"
   ]
  },
  {
   "cell_type": "code",
   "execution_count": 54,
   "metadata": {},
   "outputs": [
    {
     "data": {
      "text/plain": [
       "array([ 1.29579282, -1.68171767,  0.20175072,  0.05477875,  0.76629286,\n",
       "       -0.68375223, -0.78324407,  0.65085156,  0.6596392 , -0.50859458,\n",
       "        0.23349695, -0.03038129, -0.05712857,  0.1229753 ,  0.03332773,\n",
       "       -0.06197267, -0.05688022,  0.07209745, -0.00720925, -0.02114639,\n",
       "        0.01527756, -0.0482787 , -0.04864594,  0.45617636, -0.33821383,\n",
       "        0.13917948, -0.77116926,  0.36265139,  0.34469038, -0.29196785,\n",
       "       -0.22512523, -0.50859458])"
      ]
     },
     "execution_count": 54,
     "metadata": {},
     "output_type": "execute_result"
    }
   ],
   "source": [
    "logistic.coef_[0]"
   ]
  },
  {
   "cell_type": "code",
   "execution_count": 63,
   "metadata": {},
   "outputs": [
    {
     "data": {
      "text/html": [
       "<div>\n",
       "<style scoped>\n",
       "    .dataframe tbody tr th:only-of-type {\n",
       "        vertical-align: middle;\n",
       "    }\n",
       "\n",
       "    .dataframe tbody tr th {\n",
       "        vertical-align: top;\n",
       "    }\n",
       "\n",
       "    .dataframe thead th {\n",
       "        text-align: right;\n",
       "    }\n",
       "</style>\n",
       "<table border=\"1\" class=\"dataframe\">\n",
       "  <thead>\n",
       "    <tr style=\"text-align: right;\">\n",
       "      <th></th>\n",
       "      <th>name</th>\n",
       "      <th>value</th>\n",
       "    </tr>\n",
       "  </thead>\n",
       "  <tbody>\n",
       "    <tr>\n",
       "      <th>1</th>\n",
       "      <td>age_upon_intake_(years)</td>\n",
       "      <td>-1.681718</td>\n",
       "    </tr>\n",
       "    <tr>\n",
       "      <th>6</th>\n",
       "      <td>sex_upon_outcome_Intact Male</td>\n",
       "      <td>-0.783244</td>\n",
       "    </tr>\n",
       "    <tr>\n",
       "      <th>26</th>\n",
       "      <td>intake_type_Wildlife</td>\n",
       "      <td>-0.771169</td>\n",
       "    </tr>\n",
       "    <tr>\n",
       "      <th>5</th>\n",
       "      <td>sex_upon_outcome_Intact Female</td>\n",
       "      <td>-0.683752</td>\n",
       "    </tr>\n",
       "    <tr>\n",
       "      <th>31</th>\n",
       "      <td>sex_upon_intake_Unknown</td>\n",
       "      <td>-0.508595</td>\n",
       "    </tr>\n",
       "  </tbody>\n",
       "</table>\n",
       "</div>"
      ],
      "text/plain": [
       "                              name     value\n",
       "1          age_upon_intake_(years) -1.681718\n",
       "6     sex_upon_outcome_Intact Male -0.783244\n",
       "26            intake_type_Wildlife -0.771169\n",
       "5   sex_upon_outcome_Intact Female -0.683752\n",
       "31         sex_upon_intake_Unknown -0.508595"
      ]
     },
     "execution_count": 63,
     "metadata": {},
     "output_type": "execute_result"
    }
   ],
   "source": [
    "tmp=[]\n",
    "for feature,coef_ in zip(train_features_std.columns,logistic.coef_[0]) :\n",
    "    tmp.append({\"name\": feature, \"value\": coef_})\n",
    "\n",
    "feat_coef= pd.DataFrame(tmp).sort_values(\"value\")\n",
    "feat_coef.head()"
   ]
  },
  {
   "cell_type": "code",
   "execution_count": 78,
   "metadata": {},
   "outputs": [
    {
     "data": {
      "text/plain": [
       "Text(0, 0.5, 'features')"
      ]
     },
     "execution_count": 78,
     "metadata": {},
     "output_type": "execute_result"
    },
    {
     "data": {
      "image/png": "[encoded data removed]",
      "text/plain": [
       "<Figure size 360x576 with 1 Axes>"
      ]
     },
     "metadata": {
      "needs_background": "light"
     },
     "output_type": "display_data"
    }
   ],
   "source": [
    "plt.subplots(figsize=(5,8))\n",
    "plt.barh(feat_coef['name'],width=feat_coef['value'],alpha=0.5)\n",
    "plt.xlabel('Contribution')\n",
    "plt.ylabel('features')"
   ]
  },
  {
   "cell_type": "markdown",
   "metadata": {},
   "source": [
    "\n",
    "## Question 1: Which of the following metrics is most suitable when you are dealing with unbalanced classes?\n",
    "\n",
    "- a) F1 Score\n",
    "- b) Recall\n",
    "- c) Precision\n",
    "- d) Accuracy"
   ]
  },
  {
   "cell_type": "markdown",
   "metadata": {
    "jupyter": {
     "outputs_hidden": true
    }
   },
   "source": [
    " **F1 Score**"
   ]
  },
  {
   "cell_type": "markdown",
   "metadata": {},
   "source": [
    "## Question 2: You are working on a binary classification problem. You trained a model on a training dataset and got the following confusion matrix on the test dataset. What is true about the evaluation metrics (rounded to the second decimal point):\n",
    "\n",
    "|            | Pred = NO|Pred=YES|\n",
    "|------------|----------|--------|\n",
    "| Actual NO  |    50    |   10   |\n",
    "| Actual YES |    5     |   100  |\n",
    "\n",
    "- a) Accuracy is 0.95\n",
    "- b) Accuracy is 0.85\n",
    "- c) False positive rate is 0.95\n",
    "- d) True positive rate is 0.95"
   ]
  },
  {
   "cell_type": "markdown",
   "metadata": {
    "jupyter": {
     "outputs_hidden": true
    }
   },
   "source": [
    "**True positive rate is 0.95**"
   ]
  }
 ],
 "metadata": {
  "kernelspec": {
   "display_name": "Python 3 (ipykernel)",
   "language": "python",
   "name": "python3"
  },
  "language_info": {
   "codemirror_mode": {
    "name": "ipython",
    "version": 3
   },
   "file_extension": ".py",
   "mimetype": "text/x-python",
   "name": "python",
   "nbconvert_exporter": "python",
   "pygments_lexer": "ipython3",
   "version": "3.8.11"
  },
  "varInspector": {
   "cols": {
    "lenName": 16,
    "lenType": 16,
    "lenVar": 40
   },
   "kernels_config": {
    "python": {
     "delete_cmd_postfix": "",
     "delete_cmd_prefix": "del ",
     "library": "var_list.py",
     "varRefreshCmd": "print(var_dic_list())"
    },
    "r": {
     "delete_cmd_postfix": ") ",
     "delete_cmd_prefix": "rm(",
     "library": "var_list.r",
     "varRefreshCmd": "cat(var_dic_list()) "
    }
   },
   "types_to_exclude": [
    "module",
    "function",
    "builtin_function_or_method",
    "instance",
    "_Feature"
   ],
   "window_display": false
  }
 },
 "nbformat": 4,
 "nbformat_minor": 4
}
