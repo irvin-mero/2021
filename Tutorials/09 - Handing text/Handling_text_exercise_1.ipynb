{
 "cells": [
  {
   "cell_type": "markdown",
   "metadata": {},
   "source": [
    "# Handling text exercise"
   ]
  },
  {
   "cell_type": "markdown",
   "metadata": {},
   "source": [
    "## Welcome! This exercise consists of:\n",
    "\n",
    "## Part 1: Hands on tutorial\n",
    "1. Implementing the natural language processing pipeline\n",
    "2. Solving four typical language processing tasks:\n",
    "   * Sentiment analysis\n",
    "   * Document classification\n",
    "   * Topic detection\n",
    "   * Semantic analysis\n",
    "\n",
    "\n",
    "### We will be working with four books in plain text:\n",
    "1. Moby-Dick, by Herman Melville\n",
    "2. Frankenstein; or, The Modern Prometheus, by Mary Shelley\n",
    "3. Pride and Prejudice, by Jane Austen\n",
    "4. Dracula, Bram Stoker\n",
    "\n",
    "#### To run this notebook, you need to install the following libraries:\n",
    "\n",
    "conda install nltk gensim spacy <br>\n",
    "pip install pyLDAvis  <br>\n",
    "pip install vaderSentiment  <br>\n",
    "pip install empath <br>\n",
    "python -m spacy download en  <br>\n",
    "python -m nltk.downloader punkt <br>\n",
    "python -m nltk.downloader all-corpora <br>\n",
    "\n",
    "## Part 2: Handling text comprehension questions\n",
    "- You can test your understanding of important NLP concepts. Solutions will be released next week.\n",
    "\n",
    "## Part 3: Coding exercise\n",
    "- When you are done, in \"Handling_text_exercise_2.ipynb\", you will find additional exercises you can work on independently."
   ]
  },
  {
   "cell_type": "markdown",
   "metadata": {},
   "source": [
    "## Part 1"
   ]
  },
  {
   "cell_type": "code",
   "execution_count": 8,
   "metadata": {
    "tags": []
   },
   "outputs": [
    {
     "name": "stdout",
     "output_type": "stream",
     "text": [
      "The autoreload extension is already loaded. To reload it, use:\n",
      "  %reload_ext autoreload\n"
     ]
    }
   ],
   "source": [
    "%load_ext autoreload\n",
    "%autoreload 2\n",
    "\n",
    "import warnings; warnings.simplefilter('ignore')\n",
    "import os, codecs, string, random\n",
    "import numpy as np\n",
    "from numpy.random import seed as random_seed\n",
    "from numpy.random import shuffle as random_shuffle\n",
    "import matplotlib.pyplot as plt\n",
    "%matplotlib inline  \n",
    "\n",
    "seed = 42\n",
    "random.seed(seed)\n",
    "np.random.seed(seed)\n",
    "\n",
    "#NLP libraries\n",
    "import spacy, nltk, gensim, sklearn\n",
    "import pyLDAvis.gensim_models\n",
    "\n",
    "#Vader\n",
    "import vaderSentiment\n",
    "from vaderSentiment.vaderSentiment import SentimentIntensityAnalyzer\n",
    "\n",
    "#Scikit imports\n",
    "from sklearn.feature_extraction.text import CountVectorizer\n",
    "from sklearn.model_selection import train_test_split\n",
    "from sklearn.model_selection import cross_val_score\n",
    "from sklearn.linear_model import LogisticRegression\n",
    "from sklearn import preprocessing\n",
    "from sklearn.preprocessing import StandardScaler\n",
    "from sklearn.utils import shuffle\n",
    "\n",
    "#The data\n",
    "corpus_root = 'books/'"
   ]
  },
  {
   "cell_type": "markdown",
   "metadata": {},
   "source": [
    "#### In this tutorial we will be working with text in English. The same principles apply, but the methods cannot be applied directly to the text in unknown or other languages. We will be working mainly with the Spacy library."
   ]
  },
  {
   "cell_type": "markdown",
   "metadata": {},
   "source": [
    "Initialize the Spacy analyzer in English"
   ]
  },
  {
   "cell_type": "code",
   "execution_count": 9,
   "metadata": {},
   "outputs": [],
   "source": [
    "nlp = spacy.load('en_core_web_sm')"
   ]
  },
  {
   "cell_type": "markdown",
   "metadata": {},
   "source": [
    "Load the books"
   ]
  },
  {
   "cell_type": "code",
   "execution_count": 10,
   "metadata": {},
   "outputs": [
    {
     "name": "stdout",
     "output_type": "stream",
     "text": [
      "Moby_Dick.txt\n",
      "Frankenstein.txt\n",
      "DRACULA.txt\n",
      "PRIDE_AND_PREJUDICE.txt\n"
     ]
    }
   ],
   "source": [
    "books = list()\n",
    "\n",
    "for book_file in os.listdir(corpus_root):\n",
    "    if \".txt\" in book_file:\n",
    "        print(book_file)\n",
    "        with codecs.open(os.path.join(corpus_root,book_file),encoding=\"utf8\") as f:\n",
    "            books.append(f.read())"
   ]
  },
  {
   "cell_type": "markdown",
   "metadata": {},
   "source": [
    "Print the beginning of Pride and Prejudice"
   ]
  },
  {
   "cell_type": "code",
   "execution_count": 11,
   "metadata": {},
   "outputs": [
    {
     "name": "stdout",
     "output_type": "stream",
     "text": [
      "PRIDE AND PREJUDICE\n",
      "\n",
      "By Jane Austen\n",
      "\n",
      "\n",
      "\n",
      "Chapter 1\n",
      "\n",
      "\n",
      "It is a truth universally acknowledged, that a single man in possession\n",
      "of a good fortune, must be in want of a wife.\n",
      "\n",
      "However little known the feelings or views of such a man may be on his\n",
      "first entering a neighbourhood, this truth is so well fixed in the minds\n",
      "of the surrounding families, that he is considered the rightful property\n",
      "of some one or other of their daughters.\n",
      "\n",
      "“My dear Mr. Bennet,” said his lady to him one day, “have you heard that\n",
      "Netherfield Park is let at last?”\n",
      "\n",
      "Mr. Bennet replied that he had not.\n",
      "\n",
      "“But it is,” returned she;\n"
     ]
    }
   ],
   "source": [
    "print(books[3][0:600])"
   ]
  },
  {
   "cell_type": "markdown",
   "metadata": {},
   "source": [
    "#### Let's remove the new lines"
   ]
  },
  {
   "cell_type": "code",
   "execution_count": 12,
   "metadata": {},
   "outputs": [],
   "source": [
    "books = [\" \".join(b.split()) for b in books]"
   ]
  },
  {
   "cell_type": "code",
   "execution_count": 13,
   "metadata": {},
   "outputs": [
    {
     "name": "stdout",
     "output_type": "stream",
     "text": [
      "PRIDE AND PREJUDICE By Jane Austen Chapter 1 It is a truth universally acknowledged, that a single man in possession of a good fortune, must be in want of a wife. However little known the feelings or views of such a man may be on his first entering a neighbourhood, this truth is so well fixed in the minds of the surrounding families, that he is considered the rightful property of some one or other of their daughters. “My dear Mr. Bennet,” said his lady to him one day, “have you heard that Netherfield Park is let at last?” Mr. Bennet replied that he had not. “But it is,” returned she; “for Mrs.\n"
     ]
    }
   ],
   "source": [
    "print(books[3][0:600])"
   ]
  },
  {
   "cell_type": "markdown",
   "metadata": {},
   "source": [
    "### Load Frankenstein"
   ]
  },
  {
   "cell_type": "code",
   "execution_count": 14,
   "metadata": {},
   "outputs": [],
   "source": [
    "#index all books\n",
    "book = books[1]\n",
    "\n",
    "#put in raw text, get a Spacy object\n",
    "doc = nlp(book)"
   ]
  },
  {
   "cell_type": "markdown",
   "metadata": {},
   "source": [
    "## Let's create our own NLP pipeline with Spacy!"
   ]
  },
  {
   "cell_type": "markdown",
   "metadata": {},
   "source": [
    "### Step 1: Sentence splitting\n",
    "\n",
    "#### May sound trivial, but it's not! (e.g., U.K. or Yahoo!) Spacy uses a statistical model to generate accurate predictions. This works well out of the box for general-purpose text or web text. For social media use dedicated libraries."
   ]
  },
  {
   "cell_type": "code",
   "execution_count": 15,
   "metadata": {},
   "outputs": [
    {
     "name": "stdout",
     "output_type": "stream",
     "text": [
      "Sentence 1: Frankenstein, or the Modern Prometheus by Mary Wollstonecraft (Godwin) Shelley Letter 1 St. Petersburgh, Dec. 11th, 17-- TO Mrs. Saville, England \n",
      "\n",
      "Sentence 2: You will rejoice to hear that no disaster has accompanied the commencement of an enterprise which you have regarded with such evil forebodings. \n",
      "\n",
      "Sentence 3: I arrived here yesterday, and my first task is to assure my dear sister of my welfare and increasing confidence in the success of my undertaking. \n",
      "\n"
     ]
    }
   ],
   "source": [
    "sentences = [sent for sent in doc.sents]\n",
    "print('Sentence 1:',sentences[0],'\\n')\n",
    "print('Sentence 2:',sentences[1],'\\n')\n",
    "print('Sentence 3:',sentences[2],'\\n')"
   ]
  },
  {
   "cell_type": "markdown",
   "metadata": {},
   "source": [
    "### Step 2: Tokenization\n",
    "\n",
    "#### The task of splitting a text into meaningful segments called tokens. We segment the sentence into words, punctuation, etc. This is done by first splitting on whitespace characters and them applying rules specific to each language. For example, \"don't\" does not contain whitespace, but should be split into two tokens, \"do\" and \"n't\", while \"U.K.\" should always remain one token and \"but,\" shouldn't."
   ]
  },
  {
   "cell_type": "markdown",
   "metadata": {},
   "source": [
    "### We will analyze the methods on an example sentence first"
   ]
  },
  {
   "cell_type": "code",
   "execution_count": 18,
   "metadata": {},
   "outputs": [
    {
     "name": "stdout",
     "output_type": "stream",
     "text": [
      "I am already far north of London, and as I walk in the streets of Petersburgh, I feel a cold northern breeze play upon my cheeks, which braces my nerves and fills me with delight. \n",
      "\n",
      "['I', 'am', 'already', 'far', 'north', 'of', 'London', ',', 'and', 'as', 'I', 'walk', 'in', 'the', 'streets', 'of', 'Petersburgh', ',', 'I', 'feel', 'a', 'cold', 'northern', 'breeze', 'play', 'upon', 'my', 'cheeks', ',', 'which', 'braces', 'my', 'nerves', 'and', 'fills', 'me', 'with', 'delight', '.']\n"
     ]
    }
   ],
   "source": [
    "example = 'I am already far north of London, and as I walk in the streets of Petersburgh, I feel a cold northern breeze play upon my cheeks, which braces my nerves and fills me with delight.'\n",
    "\n",
    "doc = nlp(example)\n",
    "\n",
    "#strings are encoded to hashes\n",
    "tokens = [token.text for token in doc]\n",
    "\n",
    "print(example,'\\n')\n",
    "print(tokens)"
   ]
  },
  {
   "cell_type": "markdown",
   "metadata": {},
   "source": [
    "### Step 3: Part of speech tagging\n",
    "\n",
    "#### The model makes a prediction of which tag or label most likely applies in this context. For example, a word following \"the\" in English is most likely a noun."
   ]
  },
  {
   "cell_type": "code",
   "execution_count": 19,
   "metadata": {},
   "outputs": [
    {
     "name": "stdout",
     "output_type": "stream",
     "text": [
      "I am already far north of London, and as I walk in the streets of Petersburgh, I feel a cold northern breeze play upon my cheeks, which braces my nerves and fills me with delight. \n",
      "\n",
      "[('I', 'PRON'), ('am', 'AUX'), ('already', 'ADV'), ('far', 'ADV'), ('north', 'ADV'), ('of', 'ADP'), ('London', 'PROPN'), (',', 'PUNCT'), ('and', 'CCONJ'), ('as', 'SCONJ'), ('I', 'PRON'), ('walk', 'VERB'), ('in', 'ADP'), ('the', 'DET'), ('streets', 'NOUN'), ('of', 'ADP'), ('Petersburgh', 'PROPN'), (',', 'PUNCT'), ('I', 'PRON'), ('feel', 'VERB'), ('a', 'DET'), ('cold', 'ADJ'), ('northern', 'ADJ'), ('breeze', 'NOUN'), ('play', 'NOUN'), ('upon', 'SCONJ'), ('my', 'DET'), ('cheeks', 'NOUN'), (',', 'PUNCT'), ('which', 'DET'), ('braces', 'VERB'), ('my', 'DET'), ('nerves', 'NOUN'), ('and', 'CCONJ'), ('fills', 'VERB'), ('me', 'PRON'), ('with', 'ADP'), ('delight', 'NOUN'), ('.', 'PUNCT')]\n"
     ]
    }
   ],
   "source": [
    "pos_tagged = [(token.text, token.pos_) for token in doc]\n",
    "\n",
    "print(example,'\\n')\n",
    "print(pos_tagged)"
   ]
  },
  {
   "cell_type": "code",
   "execution_count": 20,
   "metadata": {},
   "outputs": [
    {
     "name": "stdout",
     "output_type": "stream",
     "text": [
      "coordinating conjunction\n",
      "adposition\n",
      "determiner\n"
     ]
    }
   ],
   "source": [
    "print(spacy.explain('CCONJ'))\n",
    "print(spacy.explain('ADP'))\n",
    "print(spacy.explain('DET'))"
   ]
  },
  {
   "cell_type": "markdown",
   "metadata": {},
   "source": [
    "### When unsure, see here for more details: http://universaldependencies.org/u/pos/all.html"
   ]
  },
  {
   "cell_type": "markdown",
   "metadata": {},
   "source": [
    "#### More detailed annotation:"
   ]
  },
  {
   "cell_type": "code",
   "execution_count": 21,
   "metadata": {},
   "outputs": [
    {
     "name": "stdout",
     "output_type": "stream",
     "text": [
      "[('I', 'PRP'), ('am', 'VBP'), ('already', 'RB'), ('far', 'RB'), ('north', 'RB'), ('of', 'IN'), ('London', 'NNP'), (',', ','), ('and', 'CC'), ('as', 'IN'), ('I', 'PRP'), ('walk', 'VBP'), ('in', 'IN'), ('the', 'DT'), ('streets', 'NNS'), ('of', 'IN'), ('Petersburgh', 'NNP'), (',', ','), ('I', 'PRP'), ('feel', 'VBP'), ('a', 'DT'), ('cold', 'JJ'), ('northern', 'JJ'), ('breeze', 'NN'), ('play', 'NN'), ('upon', 'IN'), ('my', 'PRP$'), ('cheeks', 'NNS'), (',', ','), ('which', 'WDT'), ('braces', 'VBZ'), ('my', 'PRP$'), ('nerves', 'NNS'), ('and', 'CC'), ('fills', 'VBZ'), ('me', 'PRP'), ('with', 'IN'), ('delight', 'NN'), ('.', '.')]\n"
     ]
    }
   ],
   "source": [
    "pos_tagged = [(token.text, token.tag_) for token in doc]\n",
    "\n",
    "print(pos_tagged)"
   ]
  },
  {
   "cell_type": "code",
   "execution_count": 22,
   "metadata": {},
   "outputs": [
    {
     "name": "stdout",
     "output_type": "stream",
     "text": [
      "pronoun, personal\n",
      "verb, non-3rd person singular present\n"
     ]
    }
   ],
   "source": [
    "print(spacy.explain('PRP'))\n",
    "print(spacy.explain('VBP'))"
   ]
  },
  {
   "cell_type": "markdown",
   "metadata": {},
   "source": [
    "### Step 4: Named entity recognition\n",
    "\n",
    "#### For example, a person, a country, a product or a book title. Spacy can recognise various types of named entities in a document. This doesn't always work perfectly and might need some tuning later, depending on your use case.\n",
    "\n",
    "Built in entity types: <br>\n",
    "\n",
    "PERSON  People, including fictional.  <br>\n",
    "NORP\tNationalities or religious or political groups. <br>\n",
    "FAC\tBuildings, airports, highways, bridges, etc. <br>\n",
    "ORG\tCompanies, agencies, institutions, etc. <br>\n",
    "GPE\tCountries, cities, states. <br>\n",
    "LOC\tNon-GPE locations, mountain ranges, bodies of water. <br>\n",
    "PRODUCT\tObjects, vehicles, foods, etc. (Not services.) <br>\n",
    "EVENT\tNamed hurricanes, battles, wars, sports events, etc. <br>\n",
    "WORK_OF_ART\tTitles of books, songs, etc. <br>\n",
    "LAW\tNamed documents made into laws. <br>\n",
    "LANGUAGE\tAny named language. <br>\n",
    "DATE\tAbsolute or relative dates or periods. <br>\n",
    "TIME\tTimes smaller than a day. <br>\n",
    "PERCENT\tPercentage, including \"%\". <br>\n",
    "MONEY\tMonetary values, including unit. <br>\n",
    "QUANTITY\tMeasurements, as of weight or distance. <br>\n",
    "ORDINAL\t\"first\", \"second\", etc. <br>\n",
    "CARDINAL\tNumerals that do not fall under another type. <br>"
   ]
  },
  {
   "cell_type": "code",
   "execution_count": 26,
   "metadata": {},
   "outputs": [
    {
     "name": "stdout",
     "output_type": "stream",
     "text": [
      "I am already far north of London, and as I walk in the streets of Petersburgh, I feel a cold northern breeze play upon my cheeks, which braces my nerves and fills me with delight. \n",
      "\n",
      "London GPE\n",
      "Petersburgh GPE\n"
     ]
    }
   ],
   "source": [
    "print(example,'\\n')\n",
    "for ent in doc.ents:\n",
    "    print(ent.text, ent.label_)"
   ]
  },
  {
   "cell_type": "markdown",
   "metadata": {},
   "source": [
    "### Step 5: Removing stop words"
   ]
  },
  {
   "cell_type": "markdown",
   "metadata": {},
   "source": [
    "Let's check out all the stopwords:"
   ]
  },
  {
   "cell_type": "code",
   "execution_count": 27,
   "metadata": {},
   "outputs": [
    {
     "name": "stdout",
     "output_type": "stream",
     "text": [
      "Number of stop words: 326\n",
      "First ten stop words: ['nobody', 'hers', 'always', 'them', '’d', 'their', 'wherever', 'moreover', 'first', 'seemed']\n"
     ]
    }
   ],
   "source": [
    "spacy_stopwords = spacy.lang.en.stop_words.STOP_WORDS\n",
    "print('Number of stop words: %d' % len(spacy_stopwords))\n",
    "print('First ten stop words:',list(spacy_stopwords)[:10])"
   ]
  },
  {
   "cell_type": "markdown",
   "metadata": {},
   "source": [
    "Detecting stopwords in the example:"
   ]
  },
  {
   "cell_type": "code",
   "execution_count": 29,
   "metadata": {},
   "outputs": [
    {
     "name": "stdout",
     "output_type": "stream",
     "text": [
      "I am already far north of London, and as I walk in the streets of Petersburgh, I feel a cold northern breeze play upon my cheeks, which braces my nerves and fills me with delight. \n",
      "\n",
      "['I', 'am', 'already', 'of', 'and', 'as', 'I', 'in', 'the', 'of', 'I', 'a', 'upon', 'my', 'which', 'my', 'and', 'me', 'with']\n"
     ]
    }
   ],
   "source": [
    "print(example,'\\n')\n",
    "\n",
    "stop_words = [token.text for token in doc if token.is_stop]\n",
    "\n",
    "print(stop_words)"
   ]
  },
  {
   "cell_type": "markdown",
   "metadata": {},
   "source": [
    "#### Sometimes it's useful to define a custom list of stopwords. Other solutions: https://www.ranks.nl/stopwords \n"
   ]
  },
  {
   "cell_type": "markdown",
   "metadata": {},
   "source": [
    "### Step 6: Lemmatization\n",
    "\n",
    "#### A rule-based deterministic lemmatizer maps the surface form of a token to a lemma."
   ]
  },
  {
   "cell_type": "code",
   "execution_count": 30,
   "metadata": {},
   "outputs": [
    {
     "name": "stdout",
     "output_type": "stream",
     "text": [
      "I am already far north of London, and as I walk in the streets of Petersburgh, I feel a cold northern breeze play upon my cheeks, which braces my nerves and fills me with delight. \n",
      "\n",
      "I ---> -PRON-\n",
      "am ---> be\n",
      "I ---> -PRON-\n",
      "streets ---> street\n",
      "I ---> -PRON-\n",
      "my ---> -PRON-\n",
      "cheeks ---> cheek\n",
      "braces ---> brace\n",
      "my ---> -PRON-\n",
      "nerves ---> nerve\n",
      "fills ---> fill\n",
      "me ---> -PRON-\n"
     ]
    }
   ],
   "source": [
    "print(example,'\\n')\n",
    "for token in doc:\n",
    "    if token.text != token.lemma_:\n",
    "        print(token.text,'--->',token.lemma_)"
   ]
  },
  {
   "cell_type": "markdown",
   "metadata": {},
   "source": [
    "### Step 7: Chunking (shallow parsing)\n",
    "\n",
    "#### Noun chunks are \"base noun phrases\" – flat phrases that have a noun as their head -- a noun plus the words describing the noun – for example, \"the lavish green grass\" or \"the world’s largest tech fund\". "
   ]
  },
  {
   "cell_type": "code",
   "execution_count": 31,
   "metadata": {},
   "outputs": [
    {
     "name": "stdout",
     "output_type": "stream",
     "text": [
      "I am already far north of London, and as I walk in the streets of Petersburgh, I feel a cold northern breeze play upon my cheeks, which braces my nerves and fills me with delight. \n",
      "\n",
      "I\n",
      "London\n",
      "I\n",
      "the streets\n",
      "Petersburgh\n",
      "I\n",
      "a cold northern breeze\n",
      "my cheeks\n",
      "my nerves\n",
      "me\n",
      "delight\n"
     ]
    }
   ],
   "source": [
    "print(example,'\\n')\n",
    "\n",
    "for chunk in doc.noun_chunks:\n",
    "    print(chunk.text)"
   ]
  },
  {
   "cell_type": "markdown",
   "metadata": {},
   "source": [
    "### Step 8: Dependancy parsing\n",
    "\n",
    "#### The terms head and child describe the words connected by an arc in the dependency tree. The type of syntactic relation that connects the child to the head can be obtain through .dep_."
   ]
  },
  {
   "cell_type": "code",
   "execution_count": 32,
   "metadata": {},
   "outputs": [
    {
     "name": "stdout",
     "output_type": "stream",
     "text": [
      "I am already far north of London, and as I walk in the streets of Petersburgh, I feel a cold northern breeze play upon my cheeks, which braces my nerves and fills me with delight. \n",
      "\n",
      "Token: I Head: am Children: []\n",
      "Token: am Head: am Children: [I, already, north, ,, and, feel]\n",
      "Token: already Head: am Children: []\n",
      "Token: far Head: north Children: []\n",
      "Token: north Head: am Children: [far, of]\n",
      "Token: of Head: north Children: [London]\n",
      "Token: London Head: of Children: []\n",
      "Token: , Head: am Children: []\n",
      "Token: and Head: am Children: []\n",
      "Token: as Head: walk Children: []\n",
      "Token: I Head: walk Children: []\n",
      "Token: walk Head: feel Children: [as, I, in]\n",
      "Token: in Head: walk Children: [streets]\n",
      "Token: the Head: streets Children: []\n",
      "Token: streets Head: in Children: [the, of]\n",
      "Token: of Head: streets Children: [Petersburgh]\n",
      "Token: Petersburgh Head: of Children: []\n",
      "Token: , Head: feel Children: []\n",
      "Token: I Head: feel Children: []\n",
      "Token: feel Head: am Children: [walk, ,, I, play, .]\n",
      "Token: a Head: breeze Children: []\n",
      "Token: cold Head: breeze Children: []\n",
      "Token: northern Head: breeze Children: []\n",
      "Token: breeze Head: play Children: [a, cold, northern]\n",
      "Token: play Head: feel Children: [breeze, upon]\n",
      "Token: upon Head: play Children: [cheeks]\n",
      "Token: my Head: cheeks Children: []\n",
      "Token: cheeks Head: upon Children: [my, ,, braces]\n",
      "Token: , Head: cheeks Children: []\n",
      "Token: which Head: braces Children: []\n",
      "Token: braces Head: cheeks Children: [which, nerves, and, fills]\n",
      "Token: my Head: nerves Children: []\n",
      "Token: nerves Head: braces Children: [my]\n",
      "Token: and Head: braces Children: []\n",
      "Token: fills Head: braces Children: [me, with]\n",
      "Token: me Head: fills Children: []\n",
      "Token: with Head: fills Children: [delight]\n",
      "Token: delight Head: with Children: []\n",
      "Token: . Head: feel Children: []\n"
     ]
    }
   ],
   "source": [
    "print(example,'\\n')\n",
    "\n",
    "for token in doc:\n",
    "    print('Token:',token.text,'Head:',token.head.text, 'Children:',[child for child in token.children])"
   ]
  },
  {
   "cell_type": "markdown",
   "metadata": {},
   "source": [
    "### Counting word occurences"
   ]
  },
  {
   "cell_type": "code",
   "execution_count": 33,
   "metadata": {},
   "outputs": [
    {
     "name": "stdout",
     "output_type": "stream",
     "text": [
      "I am already far north of London, and as I walk in the streets of Petersburgh, I feel a cold northern breeze play upon my cheeks, which braces my nerves and fills me with delight. \n",
      "\n",
      "[('I', 3), (',', 3), ('of', 2), ('and', 2), ('my', 2), ('am', 1), ('already', 1), ('far', 1), ('north', 1), ('London', 1), ('as', 1), ('walk', 1), ('in', 1), ('the', 1), ('streets', 1), ('Petersburgh', 1), ('feel', 1), ('a', 1), ('cold', 1), ('northern', 1), ('breeze', 1), ('play', 1), ('upon', 1), ('cheeks', 1), ('which', 1), ('braces', 1), ('nerves', 1), ('fills', 1), ('me', 1), ('with', 1), ('delight', 1), ('.', 1)]\n"
     ]
    }
   ],
   "source": [
    "from collections import Counter\n",
    "\n",
    "print(example,'\\n')\n",
    "words = [token.text for token in doc]\n",
    "\n",
    "# five most common tokens\n",
    "word_freq = Counter(words)\n",
    "common_words = word_freq.most_common()\n",
    "\n",
    "print(common_words)"
   ]
  },
  {
   "cell_type": "markdown",
   "metadata": {},
   "source": [
    "### Without stop words and punctuation"
   ]
  },
  {
   "cell_type": "code",
   "execution_count": 34,
   "metadata": {},
   "outputs": [
    {
     "name": "stdout",
     "output_type": "stream",
     "text": [
      "[('far', 1), ('north', 1), ('London', 1), ('walk', 1), ('streets', 1), ('Petersburgh', 1), ('feel', 1), ('cold', 1), ('northern', 1), ('breeze', 1), ('play', 1), ('cheeks', 1), ('braces', 1), ('nerves', 1), ('fills', 1), ('delight', 1)]\n"
     ]
    }
   ],
   "source": [
    "words = [token.text for token in doc if token.is_stop != True and token.is_punct != True]\n",
    "\n",
    "# five most common tokens\n",
    "word_freq = Counter(words)\n",
    "common_words = word_freq.most_common()\n",
    "\n",
    "print(common_words)"
   ]
  },
  {
   "cell_type": "markdown",
   "metadata": {},
   "source": [
    "## Putting all the components together"
   ]
  },
  {
   "cell_type": "markdown",
   "metadata": {},
   "source": [
    "### Under the hood: the pipeline [\"tokenizer\",\"tagger\", \"parser\", \"ner\"]."
   ]
  },
  {
   "cell_type": "markdown",
   "metadata": {},
   "source": [
    "#### The NLP pipeline with Spacy\n",
    "<img src=\"spacy.png\">"
   ]
  },
  {
   "cell_type": "code",
   "execution_count": 35,
   "metadata": {},
   "outputs": [],
   "source": [
    "nlp = spacy.load('en_core_web_sm')"
   ]
  },
  {
   "cell_type": "markdown",
   "metadata": {},
   "source": [
    "### If you don't need a particular component of the pipeline – for example, the tagger or the parser, you can disable loading it. This can sometimes make a big difference and improve loading speed. "
   ]
  },
  {
   "cell_type": "code",
   "execution_count": 36,
   "metadata": {},
   "outputs": [
    {
     "data": {
      "text/plain": [
       "('tagger', <spacy.pipeline.pipes.Tagger at 0x7fb7af72e1c0>)"
      ]
     },
     "execution_count": 36,
     "metadata": {},
     "output_type": "execute_result"
    }
   ],
   "source": [
    "nlp.remove_pipe('parser')\n",
    "nlp.remove_pipe('tagger')"
   ]
  },
  {
   "cell_type": "markdown",
   "metadata": {},
   "source": [
    "# Task 1: Sentiment analysis"
   ]
  },
  {
   "cell_type": "markdown",
   "metadata": {},
   "source": [
    "### Initialize the analyzer. Typically used for data from social media (short sentences)."
   ]
  },
  {
   "cell_type": "code",
   "execution_count": 37,
   "metadata": {},
   "outputs": [],
   "source": [
    "analyzer = SentimentIntensityAnalyzer()\n",
    "vs = analyzer.polarity_scores(example)"
   ]
  },
  {
   "cell_type": "markdown",
   "metadata": {},
   "source": [
    "### The sentiment score consits of four values. Neutral, positive and negative sum to one. The final score is obtained by thresholding the compound value (e.g. +/-0.05)."
   ]
  },
  {
   "cell_type": "code",
   "execution_count": 39,
   "metadata": {},
   "outputs": [
    {
     "name": "stdout",
     "output_type": "stream",
     "text": [
      "I am already far north of London, and as I walk in the streets of Petersburgh, I feel a cold northern breeze play upon my cheeks, which braces my nerves and fills me with delight. \n",
      "\n",
      "Negative sentiment: 0.035\n",
      "Neutral sentiment: 0.806\n",
      "Positive sentiment: 0.159\n",
      "Compound sentiment: 0.7096\n"
     ]
    }
   ],
   "source": [
    "print(example, '\\n')\n",
    "print('Negative sentiment:',vs['neg'])\n",
    "print('Neutral sentiment:',vs['neu'])\n",
    "print('Positive sentiment:',vs['pos'])\n",
    "print('Compound sentiment:',vs['compound'])"
   ]
  },
  {
   "cell_type": "markdown",
   "metadata": {},
   "source": [
    "### We can now observe the distributions of sentiment across all sentences in the book Pride and Prejudice:"
   ]
  },
  {
   "cell_type": "code",
   "execution_count": 40,
   "metadata": {},
   "outputs": [],
   "source": [
    "nlp = spacy.load('en_core_web_sm')\n",
    "doc = nlp(books[3])"
   ]
  },
  {
   "cell_type": "code",
   "execution_count": 41,
   "metadata": {},
   "outputs": [
    {
     "data": {
      "text/plain": [
       "Text(0, 0.5, 'Number of sentences')"
      ]
     },
     "execution_count": 41,
     "metadata": {},
     "output_type": "execute_result"
    },
    {
     "data": {
      "image/png": "[encoded data removed]",
      "text/plain": [
       "<Figure size 432x288 with 1 Axes>"
      ]
     },
     "metadata": {
      "needs_background": "light"
     },
     "output_type": "display_data"
    }
   ],
   "source": [
    "positive_sent = []\n",
    "#iterate through the sentences, get polarity scores, choose a value\n",
    "[positive_sent.append(analyzer.polarity_scores(sent.text)['pos']) for sent in doc.sents]\n",
    "plt.hist(positive_sent,bins=15)\n",
    "plt.xlim([0,1])\n",
    "plt.ylim([0,8000])\n",
    "plt.xlabel('Positive sentiment')\n",
    "plt.ylabel('Number of sentences')"
   ]
  },
  {
   "cell_type": "code",
   "execution_count": 42,
   "metadata": {},
   "outputs": [
    {
     "data": {
      "text/plain": [
       "Text(0, 0.5, 'Number of sentences')"
      ]
     },
     "execution_count": 42,
     "metadata": {},
     "output_type": "execute_result"
    },
    {
     "data": {
      "image/png": "[encoded data removed]",
      "text/plain": [
       "<Figure size 432x288 with 1 Axes>"
      ]
     },
     "metadata": {
      "needs_background": "light"
     },
     "output_type": "display_data"
    }
   ],
   "source": [
    "negative_sent = []\n",
    "[negative_sent.append(analyzer.polarity_scores(sent.text)['neg']) for sent in doc.sents]\n",
    "plt.hist(negative_sent,bins=15)\n",
    "plt.xlim([0,1])\n",
    "plt.ylim([0,8000])\n",
    "plt.xlabel('Negative sentiment')\n",
    "plt.ylabel('Number of sentences')"
   ]
  },
  {
   "cell_type": "code",
   "execution_count": 43,
   "metadata": {},
   "outputs": [
    {
     "data": {
      "text/plain": [
       "Text(0, 0.5, 'Number of sentences')"
      ]
     },
     "execution_count": 43,
     "metadata": {},
     "output_type": "execute_result"
    },
    {
     "data": {
      "image/png": "[encoded data removed]",
      "text/plain": [
       "<Figure size 432x288 with 1 Axes>"
      ]
     },
     "metadata": {
      "needs_background": "light"
     },
     "output_type": "display_data"
    }
   ],
   "source": [
    "total_sent = []\n",
    "[total_sent.append(analyzer.polarity_scores(sent.text)['compound']) for sent in doc.sents]\n",
    "plt.hist(total_sent,bins = 15)\n",
    "plt.xlim([-1,1])\n",
    "plt.ylim([0,8000])\n",
    "plt.xlabel('Compound sentiment')\n",
    "plt.ylabel('Number of sentences')"
   ]
  },
  {
   "cell_type": "code",
   "execution_count": 44,
   "metadata": {},
   "outputs": [
    {
     "name": "stdout",
     "output_type": "stream",
     "text": [
      "Number of positive sentences: 2788\n",
      "Number of negative sentences: 1368\n",
      "Number of neutral sentences: 2000\n"
     ]
    }
   ],
   "source": [
    "sents = [analyzer.polarity_scores(sent.text)['compound'] for sent in doc.sents]\n",
    "print('Number of positive sentences:',sum(np.array(sents)>=0.05))\n",
    "print('Number of negative sentences:',sum(np.array(sents)<=-0.05))\n",
    "print('Number of neutral sentences:',sum(np.abs(np.array(sents))<0.05))"
   ]
  },
  {
   "cell_type": "markdown",
   "metadata": {},
   "source": [
    "#### Most of the sentences are quite neutral in sentiment. This is not the case when working with data from other sources (e.g., in social media opinions are strong and polarized (bimodal distribution))."
   ]
  },
  {
   "cell_type": "markdown",
   "metadata": {},
   "source": [
    "# Task 2: Document classification: Can we detect paragraphs from Frankenstein?"
   ]
  },
  {
   "cell_type": "code",
   "execution_count": 45,
   "metadata": {},
   "outputs": [
    {
     "name": "stdout",
     "output_type": "stream",
     "text": [
      "['DRACULA.txt', 'Frankenstein.txt', 'Moby_Dick.txt', 'PRIDE_AND_PREJUDICE.txt']\n"
     ]
    },
    {
     "data": {
      "text/plain": [
       "\u001b[0;31mInit signature:\u001b[0m\n",
       "\u001b[0mPlaintextCorpusReader\u001b[0m\u001b[0;34m(\u001b[0m\u001b[0;34m\u001b[0m\n",
       "\u001b[0;34m\u001b[0m    \u001b[0mroot\u001b[0m\u001b[0;34m,\u001b[0m\u001b[0;34m\u001b[0m\n",
       "\u001b[0;34m\u001b[0m    \u001b[0mfileids\u001b[0m\u001b[0;34m,\u001b[0m\u001b[0;34m\u001b[0m\n",
       "\u001b[0;34m\u001b[0m    \u001b[0mword_tokenizer\u001b[0m\u001b[0;34m=\u001b[0m\u001b[0mWordPunctTokenizer\u001b[0m\u001b[0;34m(\u001b[0m\u001b[0mpattern\u001b[0m\u001b[0;34m=\u001b[0m\u001b[0;34m'\\\\w+|[^\\\\w\\\\s]+'\u001b[0m\u001b[0;34m,\u001b[0m \u001b[0mgaps\u001b[0m\u001b[0;34m=\u001b[0m\u001b[0;32mFalse\u001b[0m\u001b[0;34m,\u001b[0m \u001b[0mdiscard_empty\u001b[0m\u001b[0;34m=\u001b[0m\u001b[0;32mTrue\u001b[0m\u001b[0;34m,\u001b[0m \u001b[0mflags\u001b[0m\u001b[0;34m=\u001b[0m\u001b[0mre\u001b[0m\u001b[0;34m.\u001b[0m\u001b[0mUNICODE\u001b[0m\u001b[0;34m|\u001b[0m\u001b[0mre\u001b[0m\u001b[0;34m.\u001b[0m\u001b[0mMULTILINE\u001b[0m\u001b[0;34m|\u001b[0m\u001b[0mre\u001b[0m\u001b[0;34m.\u001b[0m\u001b[0mDOTALL\u001b[0m\u001b[0;34m)\u001b[0m\u001b[0;34m,\u001b[0m\u001b[0;34m\u001b[0m\n",
       "\u001b[0;34m\u001b[0m    \u001b[0msent_tokenizer\u001b[0m\u001b[0;34m=\u001b[0m\u001b[0;34m<\u001b[0m\u001b[0mnltk\u001b[0m\u001b[0;34m.\u001b[0m\u001b[0mtokenize\u001b[0m\u001b[0;34m.\u001b[0m\u001b[0mpunkt\u001b[0m\u001b[0;34m.\u001b[0m\u001b[0mPunktSentenceTokenizer\u001b[0m \u001b[0mobject\u001b[0m \u001b[0mat\u001b[0m \u001b[0;36m0x7fb7ad03b9a0\u001b[0m\u001b[0;34m>\u001b[0m\u001b[0;34m,\u001b[0m\u001b[0;34m\u001b[0m\n",
       "\u001b[0;34m\u001b[0m    \u001b[0mpara_block_reader\u001b[0m\u001b[0;34m=\u001b[0m\u001b[0;34m<\u001b[0m\u001b[0mfunction\u001b[0m \u001b[0mread_blankline_block\u001b[0m \u001b[0mat\u001b[0m \u001b[0;36m0x7fb7ad05cb80\u001b[0m\u001b[0;34m>\u001b[0m\u001b[0;34m,\u001b[0m\u001b[0;34m\u001b[0m\n",
       "\u001b[0;34m\u001b[0m    \u001b[0mencoding\u001b[0m\u001b[0;34m=\u001b[0m\u001b[0;34m'utf8'\u001b[0m\u001b[0;34m,\u001b[0m\u001b[0;34m\u001b[0m\n",
       "\u001b[0;34m\u001b[0m\u001b[0;34m)\u001b[0m\u001b[0;34m\u001b[0m\u001b[0;34m\u001b[0m\u001b[0m\n",
       "\u001b[0;31mDocstring:\u001b[0m     \n",
       "Reader for corpora that consist of plaintext documents.  Paragraphs\n",
       "are assumed to be split using blank lines.  Sentences and words can\n",
       "be tokenized using the default tokenizers, or by custom tokenizers\n",
       "specified as parameters to the constructor.\n",
       "\n",
       "This corpus reader can be customized (e.g., to skip preface\n",
       "sections of specific document formats) by creating a subclass and\n",
       "overriding the ``CorpusView`` class variable.\n",
       "\u001b[0;31mInit docstring:\u001b[0m\n",
       "Construct a new plaintext corpus reader for a set of documents\n",
       "located at the given root directory.  Example usage:\n",
       "\n",
       "    >>> root = '/usr/local/share/nltk_data/corpora/webtext/'\n",
       "    >>> reader = PlaintextCorpusReader(root, '.*\\.txt') # doctest: +SKIP\n",
       "\n",
       ":param root: The root directory for this corpus.\n",
       ":param fileids: A list or regexp specifying the fileids in this corpus.\n",
       ":param word_tokenizer: Tokenizer for breaking sentences or\n",
       "    paragraphs into words.\n",
       ":param sent_tokenizer: Tokenizer for breaking paragraphs\n",
       "    into words.\n",
       ":param para_block_reader: The block reader used to divide the\n",
       "    corpus into paragraph blocks.\n",
       "\u001b[0;31mFile:\u001b[0m           ~/opt/anaconda3/envs/ada/lib/python3.8/site-packages/nltk/corpus/reader/plaintext.py\n",
       "\u001b[0;31mType:\u001b[0m           type\n",
       "\u001b[0;31mSubclasses:\u001b[0m     CategorizedPlaintextCorpusReader, EuroparlCorpusReader, UdhrCorpusReader\n"
      ]
     },
     "metadata": {},
     "output_type": "display_data"
    }
   ],
   "source": [
    "# Let's load our corpus via NLTK this time\n",
    "from nltk.corpus import PlaintextCorpusReader\n",
    "?PlaintextCorpusReader\n",
    "our_books = PlaintextCorpusReader(corpus_root, '.*.txt')\n",
    "print(our_books.fileids())"
   ]
  },
  {
   "cell_type": "markdown",
   "metadata": {},
   "source": [
    "### We will segment the books into equally long chunks"
   ]
  },
  {
   "cell_type": "code",
   "execution_count": 46,
   "metadata": {},
   "outputs": [
    {
     "name": "stdout",
     "output_type": "stream",
     "text": [
      "DRACULA.txt :\n",
      "Number of sentences: 9303\n",
      "Number of chunks: 187 \n",
      "\n",
      "Frankenstein.txt :\n",
      "Number of sentences: 3378\n",
      "Number of chunks: 68 \n",
      "\n",
      "Moby_Dick.txt :\n",
      "Number of sentences: 9609\n",
      "Number of chunks: 193 \n",
      "\n",
      "PRIDE_AND_PREJUDICE.txt :\n",
      "Number of sentences: 6055\n",
      "Number of chunks: 122 \n",
      "\n"
     ]
    }
   ],
   "source": [
    "def get_chunks(l, n):\n",
    "    \"\"\"Yield successive n-sized chunks from l.\"\"\"\n",
    "    for i in range(0, len(l), n):\n",
    "        yield l[i:i + n]\n",
    "\n",
    "\n",
    "# Get the data\n",
    "book_id = {f:n for n,f in enumerate(our_books.fileids())} # dictionary of books\n",
    "\n",
    "chunks = list()\n",
    "chunk_class = list() # this list contains the original book of the chunk, for evaluation\n",
    "\n",
    "limit = 500 # how many chunks total\n",
    "size = 50 # how many sentences per chunk/page\n",
    "\n",
    "for f in our_books.fileids():\n",
    "    sentences = our_books.sents(f)\n",
    "    print(f,\":\")\n",
    "    print('Number of sentences:',len(sentences))\n",
    "    \n",
    "    # create chunks\n",
    "    chunks_of_sents = [x for x in get_chunks(sentences,size)] # this is a list of lists of sentences, which are a list of tokens\n",
    "    chs = list()\n",
    "    \n",
    "    # regroup so to have a list of chunks which are strings\n",
    "    for c in chunks_of_sents:\n",
    "        grouped_chunk = list()\n",
    "        for s in c:\n",
    "            grouped_chunk.extend(s)\n",
    "        chs.append(\" \".join(grouped_chunk))\n",
    "    print(\"Number of chunks:\",len(chs),'\\n')\n",
    "    \n",
    "    # filter to the limit, to have the same number of chunks per book\n",
    "    chunks.extend(chs[:limit])\n",
    "    chunk_class.extend([book_id[f] for _ in range(len(chs[:limit]))])"
   ]
  },
  {
   "cell_type": "markdown",
   "metadata": {},
   "source": [
    "### Representing the chunks with bag-of-words"
   ]
  },
  {
   "cell_type": "code",
   "execution_count": 47,
   "metadata": {},
   "outputs": [
    {
     "name": "stdout",
     "output_type": "stream",
     "text": [
      "Number of samples: 570\n",
      "Number of features: 23116\n"
     ]
    }
   ],
   "source": [
    "vectorizer = CountVectorizer()\n",
    "\n",
    "#initialize and specify minumum number of occurences to avoid untractable number of features\n",
    "#vectorizer = CountVectorizer(min_df = 2) if we want high frequency\n",
    "\n",
    "#create bag of words features\n",
    "X = vectorizer.fit_transform(chunks)\n",
    "\n",
    "print('Number of samples:',X.toarray().shape[0])\n",
    "print('Number of features:',X.toarray().shape[1])\n",
    "\n",
    "#mask and convert to int Frankenstein\n",
    "Y = np.array(chunk_class) == 1\n",
    "Y = Y.astype(int)  \n",
    "\n",
    "#shuffle the data\n",
    "X, Y = shuffle(X, Y, random_state=0)\n",
    "\n",
    "#split into training and test set\n",
    "X_train, X_test, Y_train, Y_test = train_test_split(X, Y, test_size=0.2, random_state=42)"
   ]
  },
  {
   "cell_type": "markdown",
   "metadata": {},
   "source": [
    "### Let's fit the regularized logistic regression. We will crossvalidate the regularization parameter on the training set."
   ]
  },
  {
   "cell_type": "code",
   "execution_count": 48,
   "metadata": {},
   "outputs": [],
   "source": [
    "accs = []\n",
    "\n",
    "#the grid of regularization parameter \n",
    "grid = [0.01,0.1,1,10,100,1000,10000]\n",
    "\n",
    "for c in grid:\n",
    "    \n",
    "    #initialize the classifier\n",
    "    clf = LogisticRegression(random_state=0, solver='lbfgs',C = c)\n",
    "    \n",
    "    #crossvalidate\n",
    "    scores = cross_val_score(clf, X_train,Y_train, cv=10)\n",
    "    accs.append(np.mean(scores))"
   ]
  },
  {
   "cell_type": "code",
   "execution_count": 49,
   "metadata": {},
   "outputs": [
    {
     "data": {
      "text/plain": [
       "(0.986, 1.0)"
      ]
     },
     "execution_count": 49,
     "metadata": {},
     "output_type": "execute_result"
    },
    {
     "data": {
      "image/png": "[encoded data removed]",
      "text/plain": [
       "<Figure size 432x288 with 1 Axes>"
      ]
     },
     "metadata": {
      "needs_background": "light"
     },
     "output_type": "display_data"
    }
   ],
   "source": [
    "plt.plot(accs)\n",
    "plt.xticks(range(len(grid)), grid)\n",
    "plt.xlabel('Regularization parameter \\n (Low - strong regularization, High - weak regularization)')\n",
    "plt.ylabel('Crossvalidation accuracy')\n",
    "plt.ylim([0.986,1])"
   ]
  },
  {
   "cell_type": "markdown",
   "metadata": {},
   "source": [
    "### Let's train again, on the entire training set, with the chosen regularization parameter. We will test on the test set"
   ]
  },
  {
   "cell_type": "code",
   "execution_count": 50,
   "metadata": {},
   "outputs": [
    {
     "name": "stdout",
     "output_type": "stream",
     "text": [
      "Accuracy: 0.9824561403508771\n"
     ]
    }
   ],
   "source": [
    "clf = LogisticRegression(random_state=0, solver='lbfgs',C = 10).fit(X_train,Y_train)\n",
    "\n",
    "#predict on the test set\n",
    "print('Accuracy:',clf.score(X_test,Y_test))"
   ]
  },
  {
   "cell_type": "markdown",
   "metadata": {},
   "source": [
    "### What features characterize Frankenstein? BOW are interpretable!"
   ]
  },
  {
   "cell_type": "code",
   "execution_count": 51,
   "metadata": {},
   "outputs": [
    {
     "name": "stdout",
     "output_type": "stream",
     "text": [
      "['frankenstein' 'towards' 'death' 'poor' 'creature' 'father' 'had' 'me'\n",
      " 'misery' 'who' 'yet' 'and' 'but' 'of' 'my' 'which' 'justine' 'this'\n",
      " 'will' 'by']\n"
     ]
    }
   ],
   "source": [
    "coefs=clf.coef_[0]\n",
    "top_three = np.argpartition(coefs, -20)[-20:]\n",
    "\n",
    "print(np.array(vectorizer.get_feature_names())[top_three])"
   ]
  },
  {
   "cell_type": "markdown",
   "metadata": {},
   "source": [
    "### We can perfectly predict paragraphs from Frankenstein! We saw issues of high dimensionality when using bag of words (more features than samples) and how regularization helps."
   ]
  },
  {
   "cell_type": "markdown",
   "metadata": {},
   "source": [
    "### Alternative text representation: word emdeddings, pretrained on intergraded in Spacy (300-dimensional word vectors trained on Common Crawl with GloVe.) Depending on the application, might be suitable or not"
   ]
  },
  {
   "cell_type": "code",
   "execution_count": 52,
   "metadata": {},
   "outputs": [
    {
     "name": "stdout",
     "output_type": "stream",
     "text": [
      "I am already far north of London, and as I walk in the streets of Petersburgh, I feel a cold northern breeze play upon my cheeks, which braces my nerves and fills me with delight. \n",
      "\n",
      "Embedding representation: [0.44159147, 0.47352052, 0.38473955, -0.8381282, 0.8601264, -0.7688055, 0.01724484, 1.2903913, -0.6650688, 0.7241268] ...\n"
     ]
    }
   ],
   "source": [
    "print(example,'\\n')\n",
    "print('Embedding representation:',list((nlp(example).vector)[0:10]),'...')"
   ]
  },
  {
   "cell_type": "markdown",
   "metadata": {},
   "source": [
    "# Task 3: Topic detection"
   ]
  },
  {
   "cell_type": "code",
   "execution_count": 53,
   "metadata": {},
   "outputs": [
    {
     "name": "stdout",
     "output_type": "stream",
     "text": [
      "DRACULA.txt\n",
      "Number of sentences: 9303\n",
      "Number of chunks: 187 \n",
      "\n",
      "Frankenstein.txt\n",
      "Number of sentences: 3378\n",
      "Number of chunks: 68 \n",
      "\n",
      "Moby_Dick.txt\n",
      "Number of sentences: 9609\n",
      "Number of chunks: 193 \n",
      "\n",
      "PRIDE_AND_PREJUDICE.txt\n",
      "Number of sentences: 6055\n",
      "Number of chunks: 122 \n",
      "\n"
     ]
    }
   ],
   "source": [
    "# Get the chunks again (into smaller chunks)\n",
    "book_id = {f:n for n,f in enumerate(our_books.fileids())} # dictionary of books\n",
    "chunks = list()\n",
    "chunk_class = list() # this list contains the original book of the chunk, for evaluation\n",
    "\n",
    "limit = 60 # how many chunks total\n",
    "size = 50 # how many sentences per chunk/page\n",
    "\n",
    "for f in our_books.fileids():\n",
    "    sentences = our_books.sents(f)\n",
    "    print(f)\n",
    "    print('Number of sentences:',len(sentences))\n",
    "    \n",
    "    # create chunks\n",
    "    chunks_of_sents = [x for x in get_chunks(sentences,size)] # this is a list of lists of sentences, which are a list of tokens\n",
    "    chs = list()\n",
    "    \n",
    "    # regroup so to have a list of chunks which are strings\n",
    "    for c in chunks_of_sents:\n",
    "        grouped_chunk = list()\n",
    "        for s in c:\n",
    "            grouped_chunk.extend(s)\n",
    "        chs.append(\" \".join(grouped_chunk))\n",
    "    print(\"Number of chunks:\",len(chs),'\\n')\n",
    "    \n",
    "    # filter to the limit, to have the same number of chunks per book\n",
    "    chunks.extend(chs[:limit])\n",
    "    chunk_class.extend([book_id[f] for _ in range(len(chs[:limit]))])"
   ]
  },
  {
   "cell_type": "code",
   "execution_count": 54,
   "metadata": {},
   "outputs": [],
   "source": [
    "STOPWORDS = spacy.lang.en.stop_words.STOP_WORDS\n",
    "\n",
    "processed_docs = list()\n",
    "for doc in nlp.pipe(chunks, n_threads=5, batch_size=10):\n",
    "\n",
    "    # Process document using Spacy NLP pipeline.\n",
    "    ents = doc.ents  # Named entities\n",
    "\n",
    "    # Keep only words (no numbers, no punctuation).\n",
    "    # Lemmatize tokens, remove punctuation and remove stopwords.\n",
    "    doc = [token.lemma_ for token in doc if token.is_alpha and not token.is_stop]\n",
    "\n",
    "    # Remove common words from a stopword list and keep only words of length 3 or more.\n",
    "    doc = [token for token in doc if token not in STOPWORDS and len(token) > 2]\n",
    "\n",
    "    # Add named entities, but only if they are a compound of more than word.\n",
    "    doc.extend([str(entity) for entity in ents if len(entity) > 1])\n",
    "\n",
    "    processed_docs.append(doc)\n",
    "docs = processed_docs\n",
    "del processed_docs"
   ]
  },
  {
   "cell_type": "code",
   "execution_count": 55,
   "metadata": {},
   "outputs": [],
   "source": [
    "# Add bigrams too\n",
    "from gensim.models.phrases import Phrases\n",
    "\n",
    "# Add bigrams to docs (only ones that appear 15 times or more).\n",
    "bigram = Phrases(docs, min_count=15)\n",
    "\n",
    "for idx in range(len(docs)):\n",
    "    for token in bigram[docs[idx]]:\n",
    "        if '_' in token:\n",
    "            # Token is a bigram, add to document.\n",
    "            docs[idx].append(token)"
   ]
  },
  {
   "cell_type": "code",
   "execution_count": 56,
   "metadata": {},
   "outputs": [
    {
     "name": "stdout",
     "output_type": "stream",
     "text": [
      "Number of unique tokens: 3085\n",
      "Number of chunks: 240\n"
     ]
    }
   ],
   "source": [
    "# Create a dictionary representation of the documents, and filter out frequent and rare words.\n",
    "from gensim.corpora import Dictionary\n",
    "dictionary = Dictionary(docs)\n",
    "\n",
    "# Remove rare and common tokens.\n",
    "# Filter out words that occur too frequently or too rarely.\n",
    "max_freq = 0.5\n",
    "min_wordcount = 5\n",
    "dictionary.filter_extremes(no_below=min_wordcount, no_above=max_freq)\n",
    "\n",
    "# Bag-of-words representation of the documents.\n",
    "corpus = [dictionary.doc2bow(doc) for doc in docs]\n",
    "#MmCorpus.serialize(\"models/corpus.mm\", corpus)\n",
    "\n",
    "print('Number of unique tokens: %d' % len(dictionary))\n",
    "print('Number of chunks: %d' % len(corpus))"
   ]
  },
  {
   "cell_type": "code",
   "execution_count": 57,
   "metadata": {},
   "outputs": [],
   "source": [
    "# models\n",
    "from gensim.models import LdaMulticore\n",
    "params = {'passes': 10, 'random_state': seed}\n",
    "base_models = dict()\n",
    "model = LdaMulticore(corpus=corpus, num_topics=4, id2word=dictionary, workers=6,\n",
    "                passes=params['passes'], random_state=params['random_state'])"
   ]
  },
  {
   "cell_type": "code",
   "execution_count": 58,
   "metadata": {},
   "outputs": [
    {
     "data": {
      "text/plain": [
       "[(0,\n",
       "  '0.011*\"ship\" + 0.009*\"old\" + 0.007*\"sea\" + 0.007*\"Queequeg\" + 0.007*\"Captain\"'),\n",
       " (1,\n",
       "  '0.005*\"father\" + 0.005*\"life\" + 0.004*\"dear\" + 0.004*\"mind\" + 0.004*\"pass\"'),\n",
       " (2,\n",
       "  '0.022*\"whale\" + 0.009*\"room\" + 0.008*\"sea\" + 0.007*\"door\" + 0.006*\"bed\"'),\n",
       " (3,\n",
       "  '0.015*\"Elizabeth\" + 0.011*\"Darcy\" + 0.010*\"Bingley\" + 0.009*\"Miss\" + 0.008*\"Mrs\"')]"
      ]
     },
     "execution_count": 58,
     "metadata": {},
     "output_type": "execute_result"
    }
   ],
   "source": [
    "model.show_topics(num_words=5)"
   ]
  },
  {
   "cell_type": "code",
   "execution_count": 59,
   "metadata": {},
   "outputs": [
    {
     "data": {
      "text/plain": [
       "[('father', 0.0050770785),\n",
       " ('life', 0.0050395755),\n",
       " ('dear', 0.004173165),\n",
       " ('mind', 0.0038964867),\n",
       " ('pass', 0.0037237487),\n",
       " ('love', 0.003689481),\n",
       " ('fear', 0.0036827934),\n",
       " ('heart', 0.0036723483),\n",
       " ('feeling', 0.003627339),\n",
       " ('appear', 0.0033320955),\n",
       " ('return', 0.0031500668),\n",
       " ('word', 0.0028769658),\n",
       " ('Elizabeth', 0.0028209048),\n",
       " ('remain', 0.0028153472),\n",
       " ('sleep', 0.0027803644),\n",
       " ('old', 0.0027275952),\n",
       " ('death', 0.0027218885),\n",
       " ('wish', 0.0026919206),\n",
       " ('hope', 0.0026895665),\n",
       " ('room', 0.0026180537)]"
      ]
     },
     "execution_count": 59,
     "metadata": {},
     "output_type": "execute_result"
    }
   ],
   "source": [
    "model.show_topic(1,20)"
   ]
  },
  {
   "cell_type": "code",
   "execution_count": 60,
   "metadata": {},
   "outputs": [
    {
     "data": {
      "text/plain": [
       "[(2, 0.99721324)]"
      ]
     },
     "execution_count": 60,
     "metadata": {},
     "output_type": "execute_result"
    }
   ],
   "source": [
    "sorted(model[corpus[0]],key=lambda x:x[1],reverse=True)"
   ]
  },
  {
   "cell_type": "code",
   "execution_count": 63,
   "metadata": {},
   "outputs": [
    {
     "data": {
      "text/html": [
       "\n",
       "<link rel=\"stylesheet\" type=\"text/css\" href=\"https://cdn.jsdelivr.net/gh/bmabey/pyLDAvis@3.3.1/pyLDAvis/js/ldavis.v1.0.0.css\">\n",
       "\n",
       "\n",
       "<div id=\"ldavis_el15483140422720114240250107552\"></div>\n",
       "<script type=\"text/javascript\">\n",
       "\n",
       "var ldavis_el15483140422720114240250107552_data = {\"mdsDat\": {\"x\": [0.03410508035027598, 0.1739523456653481, -0.11267501327710731, -0.09538241273851673], \"y\": [-0.1122542629220013, 0.055321534302012865, 0.021077742509010313, 0.0358549861109781], \"topics\": [1, 2, 3, 4], \"cluster\": [1, 1, 1, 1], \"Freq\": [35.53692148899387, 28.548566476166197, 21.98547987271234, 13.92903216212759]}, \"tinfo\": {\"Term\": [\"whale\", \"Elizabeth\", \"Darcy\", \"Bingley\", \"ship\", \"Miss\", \"Bennet\", \"sea\", \"Jane\", \"Mrs\", \"Collins\", \"Queequeg\", \"Ahab\", \"sister\", \"old\", \"room\", \"Captain\", \"Whale\", \"bed\", \"door\", \"Bildad\", \"Peleg\", \"head\", \"Jonah\", \"Lady\", \"Mrs_Bennet\", \"sleep\", \"Catherine\", \"Wickham\", \"Charlotte\", \"Justine\", \"Felix\", \"Clerval\", \"Geneva\", \"Victor\", \"Safie\", \"Agatha\", \"wretch\", \"beheld\", \"creator\", \"victim\", \"inhabit\", \"horrible\", \"Frankenstein\", \"hovel\", \"fiend\", \"protector\", \"lake\", \"Ernest\", \"thirst\", \"Ingolstadt\", \"Arabian\", \"forever\", \"Mont\", \"weep\", \"contemplate\", \"unfortunate\", \"hatred\", \"ardour\", \"desolate\", \"cottage\", \"crime\", \"sensation\", \"labour\", \"cottager\", \"horror\", \"mountain\", \"murderer\", \"tale\", \"despair\", \"attendant\", \"misery\", \"miserable\", \"gentle\", \"murder\", \"human\", \"scene\", \"destroy\", \"father\", \"tear\", \"life\", \"cause\", \"fear\", \"appear\", \"mind\", \"heart\", \"discover\", \"remain\", \"feeling\", \"creature\", \"death\", \"pass\", \"month\", \"love\", \"child\", \"dear\", \"return\", \"Lucy\", \"desire\", \"thought\", \"enter\", \"happy\", \"spirit\", \"word\", \"sleep\", \"work\", \"hope\", \"wish\", \"hour\", \"old\", \"Elizabeth\", \"room\", \"moment\", \"letter\", \"Bingley\", \"Bennet\", \"Jane\", \"Collins\", \"Darcy\", \"Wickham\", \"Mrs_Bennet\", \"Catherine\", \"Lady_Catherine\", \"Miss_Bingley\", \"Charlotte\", \"Lady Catherine\", \"Lucas\", \"Netherfield\", \"Longbourn\", \"Lydia\", \"Lizzy\", \"Lady\", \"Miss_Bennet\", \"Miss\", \"Bourgh\", \"Colonel\", \"Fitzwilliam\", \"Hurst\", \"Meryton\", \"Hertfordshire\", \"Colonel_Fitzwilliam\", \"Miss_Lucas\", \"ladyship\", \"Phillips\", \"young_lady\", \"Mrs\", \"Sir_William\", \"sister\", \"dance\", \"Elizabeth\", \"lady\", \"daughter\", \"marry\", \"young\", \"family\", \"wish\", \"dear\", \"gentleman\", \"girl\", \"hope\", \"reply\", \"manner\", \"mother\", \"room\", \"believe\", \"walk\", \"love\", \"Bildad\", \"Peleg\", \"Pequod\", \"Captain_Peleg\", \"Captain_Ahab\", \"Ahab\", \"Starbuck\", \"Captain Ahab\", \"Stubb\", \"Flask\", \"fishery\", \"bulwark\", \"Tashtego\", \"dost\", \"driver\", \"didn\", \"Thou\", \"fiery\", \"seaman\", \"craft\", \"New_Bedford\", \"New Bedford\", \"pulpit\", \"aloft\", \"Bedford\", \"kick\", \"brave\", \"pious\", \"beef\", \"commander\", \"Captain\", \"thou\", \"leg\", \"deck\", \"cabin\", \"ship\", \"mate\", \"crew\", \"mast\", \"whaling\", \"captain\", \"sailor\", \"queer\", \"Queequeg\", \"aye\", \"voyage\", \"sail\", \"old\", \"sea\", \"thee\", \"don\", \"round\", \"stand\", \"whale\", \"sort\", \"head\", \"lay\", \"harpooneer\", \"God\", \"world\", \"white\", \"face\", \"water\", \"Whale\", \"Folio\", \"Sperm\", \"fin\", \"swing\", \"naturalist\", \"horn\", \"landlord\", \"spout\", \"Leviathan\", \"West\", \"wrist\", \"Jonah\", \"pier\", \"available\", \"oil\", \"sperm_whale\", \"sperm\", \"South\", \"key\", \"entry\", \"Greenland\", \"Transylvania\", \"leviathan\", \"East\", \"vault\", \"shorthand\", \"shirt\", \"Cliff\", \"Slovaks\", \"lock\", \"whale\", \"boot\", \"fish\", \"bed\", \"CHAPTER\", \"harbour\", \"door\", \"foot\", \"tomahawk\", \"sea\", \"room\", \"run\", \"sleep\", \"head\", \"window\", \"open\", \"Queequeg\", \"Count\", \"wall\", \"try\", \"sort\", \"light\", \"harpooneer\", \"heavy\", \"old\", \"white\", \"sit\", \"book\", \"ship\", \"God\", \"lie\", \"house\"], \"Freq\": [328.0, 387.0, 223.0, 207.0, 209.0, 195.0, 176.0, 220.0, 144.0, 194.0, 143.0, 161.0, 105.0, 179.0, 282.0, 258.0, 117.0, 65.0, 112.0, 167.0, 74.0, 69.0, 188.0, 63.0, 90.0, 84.0, 161.0, 79.0, 77.0, 73.0, 51.558167169129824, 45.92335880112378, 44.78230136238755, 34.38325233550381, 24.94690441281776, 23.072547596941114, 23.96721584138854, 20.202365775581764, 19.213982783634858, 17.350241248622826, 16.4183176687742, 15.443804706920766, 18.105573935100146, 14.470507937871435, 13.55227935292363, 29.799937708863673, 13.531480343479723, 31.558561557144678, 12.617838133256582, 13.516368468872878, 15.290199253977425, 13.491379177273881, 29.638694082254847, 11.66609332676437, 27.78906400518822, 11.646533898447723, 11.64508910364632, 10.715271227343761, 12.498639167061645, 10.711005498984944, 52.65009705784613, 23.089417368094832, 42.20478743668415, 31.813711564610454, 23.0504312967801, 53.31974549074884, 57.105231602199474, 26.242999273444106, 29.474625749778422, 38.211048678005454, 24.38503088194139, 48.99744153268012, 54.41058291843515, 33.30643281247028, 38.72642773137202, 55.15703558673362, 56.851358144500786, 38.688327398489065, 131.61370541114113, 49.161763364401075, 130.64151166559031, 63.27453407374877, 95.46948737719259, 86.37830432764093, 101.00908565394126, 95.19872000555499, 48.53872559616191, 72.98257735637829, 94.03193541134729, 61.38048428977488, 70.55983679085195, 96.53117842745445, 48.22185757619796, 95.64285068196838, 57.05102501374453, 108.18145445760712, 81.65955471176346, 64.24535771623988, 56.81170361982102, 59.64219772017096, 67.66614895025891, 65.76518829402347, 60.794864820736954, 74.57992438172083, 72.07571398756016, 63.170756311595966, 69.7219493593307, 69.7829762846027, 62.37670614228919, 70.70777170712304, 73.12664942701848, 67.8681154197923, 60.47616194909833, 60.02906774580247, 205.70437897457433, 174.24175559271157, 142.8475484024778, 141.8973052011543, 220.21167602465323, 76.39859138978193, 82.97654395675899, 78.22817418008378, 71.51407775566112, 67.65032788211622, 72.29886626478373, 60.06359287345163, 58.14811406368083, 48.76323086218643, 40.255881081606475, 36.39885160789132, 36.366347855900905, 87.65916921590782, 34.417824655913854, 189.7972992505778, 30.683258225705185, 29.74036091597047, 28.781996019326023, 29.636514737648913, 29.619197343715335, 24.03027331589594, 23.08128594686385, 23.022198795114004, 21.14005530195901, 19.24569168782932, 34.5433739436423, 176.24237886208581, 38.10533616538099, 156.46047951504127, 60.08419531131353, 309.9298089505929, 102.29776135010641, 73.20451044905528, 45.04755767724227, 130.62956088805265, 76.39254981821782, 105.10152573564191, 112.10489027914323, 45.80042671156025, 69.55304472049315, 89.13553341573527, 68.95476427735264, 82.51286546114643, 69.46106349050015, 92.75996238423198, 71.41007641659313, 67.8533411724998, 70.01539465221438, 73.18225418119987, 68.40303608143944, 44.42852991936648, 28.617682421256585, 38.56365069570126, 101.86913095713452, 39.13996101179108, 21.817804701384173, 42.5621811223338, 35.16297248808279, 14.32824908728781, 13.316321091332778, 12.352958529496785, 9.691634538784301, 28.188026198839548, 14.935002417602906, 9.658424571869324, 9.627553072055456, 19.106713836568964, 19.06245006169221, 14.662046828955319, 14.661839587559532, 16.34174954404713, 8.607585603575567, 14.637203066495493, 23.176783619619275, 11.159350776941357, 6.862054339447637, 7.713113535722458, 7.707752331506219, 104.96236001946426, 62.92376028078949, 33.24675879736829, 59.668953877250686, 43.35178204252014, 173.53586428469598, 51.760364562551075, 29.076770655954586, 47.524749979138136, 31.01713076983768, 41.96547153155597, 38.623451974143244, 22.266409508718713, 110.0729328395734, 23.969235509277393, 52.580073363354195, 57.086621531526106, 150.19594247876063, 116.33950936762042, 31.3550369321487, 49.19213209989842, 69.69515444449858, 76.52887039011195, 103.62340883503644, 66.5015159923902, 73.504564961718, 42.40582402385106, 44.7818298231934, 53.55093022215136, 55.65646919663516, 45.18535309230564, 46.05774601658912, 42.32842403012359, 63.585278817105035, 11.99764829763352, 13.59071947449927, 11.644794588637687, 6.163182730336184, 6.086543726130063, 13.859945167684627, 24.183626711806863, 12.765558332909865, 15.314633086772309, 8.452626082817098, 5.883252618006612, 52.69208716143725, 13.909578564810577, 6.476159979198283, 25.517125630995952, 13.535337309260067, 15.093297234293367, 10.298298248866617, 28.48393946959176, 7.6923509084022745, 18.193456469886517, 6.80109904237011, 7.527025327308244, 11.760332998973109, 5.112514922200486, 5.822300298642858, 5.715890127716897, 8.524034417764618, 6.388093819774449, 28.3419448971944, 219.18363671624536, 13.25079931088416, 36.929764617785985, 65.32901030200554, 25.71388727410188, 17.723822332753016, 72.8240033987568, 44.22521631730249, 12.023153428921168, 81.26441571508143, 88.06332052600091, 48.284244050956175, 57.283039182192326, 62.22211578130192, 41.612100759808044, 50.775334316565186, 50.675618030156286, 35.334881277803056, 23.427964154934763, 38.09366778038952, 41.47593775671075, 38.15514174723021, 28.23470080002979, 22.538076142736873, 49.308329129501516, 30.281827662166577, 32.40273038175679, 28.887299536797407, 32.3486966929886, 27.83632773001868, 26.759077192292626, 26.421484924901154], \"Total\": [328.0, 387.0, 223.0, 207.0, 209.0, 195.0, 176.0, 220.0, 144.0, 194.0, 143.0, 161.0, 105.0, 179.0, 282.0, 258.0, 117.0, 65.0, 112.0, 167.0, 74.0, 69.0, 188.0, 63.0, 90.0, 84.0, 161.0, 79.0, 77.0, 73.0, 52.55474575129128, 46.822927518599194, 45.866315610232874, 35.35650120655089, 25.80189375358282, 23.891708018156397, 24.84643023939674, 21.02574235814277, 20.069236316502632, 18.158652517221956, 17.20303259625648, 16.247932337333374, 19.117894069425265, 15.291753192119181, 14.336899036946454, 31.528162577512486, 14.336881225480655, 33.4378849252362, 13.381244037046796, 14.336802100177996, 16.246798525625728, 14.33620387205539, 31.533851224279903, 12.426003542875307, 29.647759904315308, 12.425876321913936, 12.425889776729303, 11.470377795078797, 13.38108146411803, 11.470627289216422, 56.399387714867835, 24.88218417223288, 45.932413298831754, 34.45598630991951, 24.847087546910714, 59.24849653184517, 64.06246523069397, 28.69470458868091, 32.520267207532925, 42.98186786161455, 26.771860133632323, 56.40922067572207, 63.15138101511087, 37.30893615162614, 43.968941366950666, 67.93267134464823, 70.79912421560002, 45.97462091414878, 210.38217092019804, 63.02759507544706, 213.354178602719, 87.00001676470018, 148.5436070454927, 132.10231091044378, 170.3242895864775, 160.77290438568843, 64.10130737007503, 112.94715078863834, 160.7902432034896, 89.18680388321351, 109.17534489440746, 179.8757804108881, 64.07554413415767, 181.67350538104893, 83.28520881710558, 234.32884518275574, 156.1368710220177, 105.01121281831888, 85.19810774847147, 93.68696276142985, 122.72159602927373, 117.64321911837631, 99.4973418857263, 169.55715873195118, 161.5356234992974, 112.3735106676816, 171.28782278162197, 187.53022927436143, 122.82448567266408, 282.76877219532685, 387.7467539333625, 258.5339288764573, 137.1818999884638, 138.10044749007065, 207.81667896870636, 176.21669975584877, 144.61195113337885, 143.6672939861154, 223.18261853736817, 77.57896667612452, 84.27760822072189, 79.49597888981712, 72.7944652917518, 68.9602718187339, 73.74933667441691, 61.30226622775874, 59.384512103750126, 49.80153672169937, 41.18303838589831, 37.35231699560031, 37.35300466157761, 90.06740315330528, 35.441434908516094, 195.47304205653265, 31.60843791848081, 30.650928644005557, 29.693959693677673, 30.652733627953207, 30.652241345665146, 24.90379693228542, 23.947322654085742, 23.947853028510327, 22.032086754049896, 20.11639335099763, 36.42831320233732, 194.93167245608024, 40.26765491354049, 179.97903397643105, 66.07355590366751, 387.7467539333625, 126.65655727394336, 88.1021726562893, 51.702467447284306, 221.99599298991282, 113.9084514503005, 187.53022927436143, 234.32884518275574, 54.68123168623558, 111.009450810072, 171.28782278162197, 110.04990245815287, 154.3915723425317, 115.95726888057045, 258.5339288764573, 133.92196099394067, 130.45322394703922, 181.67350538104893, 74.07088692763611, 69.3244355661424, 45.5967494943656, 29.447148797463345, 39.90208877146717, 105.45777064272103, 40.85674941949828, 22.802112189478613, 44.65135401550189, 37.05301581338457, 15.205754231821608, 14.258939905625825, 13.306170023549567, 10.456607065046233, 30.425674763953864, 16.159797779859268, 10.456588141920351, 10.456897099608199, 20.936537472659836, 20.943038901604975, 16.173417869745773, 16.173514699796023, 18.05284893339964, 9.510376367467089, 16.174671430111474, 25.662344319683854, 12.357562781771255, 7.6080685443853, 8.55789415828021, 8.558292910076414, 117.09715220471158, 70.33262825730681, 37.15787912980118, 68.57760894031479, 49.50066270411233, 209.35184219972723, 60.97098009289433, 33.36648939945681, 56.34755540458781, 36.27438319361364, 50.65672376476461, 46.83219608493451, 25.744828457120633, 161.71076018062945, 28.545231973595644, 75.62414617457976, 84.36773298917213, 282.76877219532685, 220.1399333162326, 39.98729634036532, 72.80779871816365, 122.81741038672352, 142.79066832995323, 328.57479337744155, 149.29116467278172, 188.2095337942377, 65.85844886521254, 74.33990983576189, 120.13301136437148, 157.20736787815187, 94.47970137235347, 124.86392928933707, 96.14450597205877, 65.42868533962651, 12.867185435903284, 14.833409706223254, 12.848799629117767, 6.915741914841762, 6.912321096343272, 15.793633492657356, 27.63808824930549, 14.799553560485416, 17.76064454802227, 9.864719922940186, 6.903777895907554, 63.055525574550714, 16.74517582907228, 7.879572405002725, 31.496541888841556, 16.72953594964247, 18.696492687199804, 12.798012271044128, 35.44804946304195, 9.829268038795226, 23.578393840175128, 8.84338518362773, 9.821908038341064, 15.70988965192399, 6.872733278446567, 7.853874095320496, 7.844046322750637, 11.767410150586764, 8.828454675152104, 40.200613516465836, 328.57479337744155, 18.615645141772745, 56.72653430499909, 112.19096842651543, 40.05289979905861, 27.37388147723246, 167.94787323452994, 97.01045245211013, 17.612893104061495, 220.1399333162326, 258.5339288764573, 116.23376468224347, 161.5356234992974, 188.2095337942377, 104.71745015387096, 143.19317145551872, 161.71076018062945, 90.13962839246997, 44.75772727159287, 125.5706476637852, 149.29116467278172, 140.69187095356136, 74.33990983576189, 46.614775174568386, 282.76877219532685, 94.47970137235347, 152.9590152558416, 106.12276756872203, 209.35184219972723, 120.13301136437148, 110.64349927062526, 163.3637593526388], \"Category\": [\"Default\", \"Default\", \"Default\", \"Default\", \"Default\", \"Default\", \"Default\", \"Default\", \"Default\", \"Default\", \"Default\", \"Default\", \"Default\", \"Default\", \"Default\", \"Default\", \"Default\", \"Default\", \"Default\", \"Default\", \"Default\", \"Default\", \"Default\", \"Default\", \"Default\", \"Default\", \"Default\", \"Default\", \"Default\", \"Default\", \"Topic1\", \"Topic1\", \"Topic1\", \"Topic1\", \"Topic1\", \"Topic1\", \"Topic1\", \"Topic1\", \"Topic1\", \"Topic1\", \"Topic1\", \"Topic1\", \"Topic1\", \"Topic1\", \"Topic1\", \"Topic1\", \"Topic1\", \"Topic1\", \"Topic1\", \"Topic1\", \"Topic1\", \"Topic1\", \"Topic1\", \"Topic1\", \"Topic1\", \"Topic1\", \"Topic1\", \"Topic1\", \"Topic1\", \"Topic1\", \"Topic1\", \"Topic1\", \"Topic1\", \"Topic1\", \"Topic1\", \"Topic1\", \"Topic1\", \"Topic1\", \"Topic1\", \"Topic1\", \"Topic1\", \"Topic1\", \"Topic1\", \"Topic1\", \"Topic1\", \"Topic1\", \"Topic1\", \"Topic1\", \"Topic1\", \"Topic1\", \"Topic1\", \"Topic1\", \"Topic1\", \"Topic1\", \"Topic1\", \"Topic1\", \"Topic1\", \"Topic1\", \"Topic1\", \"Topic1\", \"Topic1\", \"Topic1\", \"Topic1\", \"Topic1\", \"Topic1\", \"Topic1\", \"Topic1\", \"Topic1\", \"Topic1\", \"Topic1\", \"Topic1\", \"Topic1\", \"Topic1\", \"Topic1\", \"Topic1\", \"Topic1\", \"Topic1\", \"Topic1\", \"Topic1\", \"Topic1\", \"Topic1\", \"Topic1\", \"Topic1\", \"Topic1\", \"Topic2\", \"Topic2\", \"Topic2\", \"Topic2\", \"Topic2\", \"Topic2\", \"Topic2\", \"Topic2\", \"Topic2\", \"Topic2\", \"Topic2\", \"Topic2\", \"Topic2\", \"Topic2\", \"Topic2\", \"Topic2\", \"Topic2\", \"Topic2\", \"Topic2\", \"Topic2\", \"Topic2\", \"Topic2\", \"Topic2\", \"Topic2\", \"Topic2\", \"Topic2\", \"Topic2\", \"Topic2\", \"Topic2\", \"Topic2\", \"Topic2\", \"Topic2\", \"Topic2\", \"Topic2\", \"Topic2\", \"Topic2\", \"Topic2\", \"Topic2\", \"Topic2\", \"Topic2\", \"Topic2\", \"Topic2\", \"Topic2\", \"Topic2\", \"Topic2\", \"Topic2\", \"Topic2\", \"Topic2\", \"Topic2\", \"Topic2\", \"Topic2\", \"Topic2\", \"Topic2\", \"Topic3\", \"Topic3\", \"Topic3\", \"Topic3\", \"Topic3\", \"Topic3\", \"Topic3\", \"Topic3\", \"Topic3\", \"Topic3\", \"Topic3\", \"Topic3\", \"Topic3\", \"Topic3\", \"Topic3\", \"Topic3\", \"Topic3\", \"Topic3\", \"Topic3\", \"Topic3\", \"Topic3\", \"Topic3\", \"Topic3\", \"Topic3\", \"Topic3\", \"Topic3\", \"Topic3\", \"Topic3\", \"Topic3\", \"Topic3\", \"Topic3\", \"Topic3\", \"Topic3\", \"Topic3\", \"Topic3\", \"Topic3\", \"Topic3\", \"Topic3\", \"Topic3\", \"Topic3\", \"Topic3\", \"Topic3\", \"Topic3\", \"Topic3\", \"Topic3\", \"Topic3\", \"Topic3\", \"Topic3\", \"Topic3\", \"Topic3\", \"Topic3\", \"Topic3\", \"Topic3\", \"Topic3\", \"Topic3\", \"Topic3\", \"Topic3\", \"Topic3\", \"Topic3\", \"Topic3\", \"Topic3\", \"Topic3\", \"Topic3\", \"Topic4\", \"Topic4\", \"Topic4\", \"Topic4\", \"Topic4\", \"Topic4\", \"Topic4\", \"Topic4\", \"Topic4\", \"Topic4\", \"Topic4\", \"Topic4\", \"Topic4\", \"Topic4\", \"Topic4\", \"Topic4\", \"Topic4\", \"Topic4\", \"Topic4\", \"Topic4\", \"Topic4\", \"Topic4\", \"Topic4\", \"Topic4\", \"Topic4\", \"Topic4\", \"Topic4\", \"Topic4\", \"Topic4\", \"Topic4\", \"Topic4\", \"Topic4\", \"Topic4\", \"Topic4\", \"Topic4\", \"Topic4\", \"Topic4\", \"Topic4\", \"Topic4\", \"Topic4\", \"Topic4\", \"Topic4\", \"Topic4\", \"Topic4\", \"Topic4\", \"Topic4\", \"Topic4\", \"Topic4\", \"Topic4\", \"Topic4\", \"Topic4\", \"Topic4\", \"Topic4\", \"Topic4\", \"Topic4\", \"Topic4\", \"Topic4\", \"Topic4\", \"Topic4\", \"Topic4\", \"Topic4\", \"Topic4\", \"Topic4\"], \"logprob\": [30.0, 29.0, 28.0, 27.0, 26.0, 25.0, 24.0, 23.0, 22.0, 21.0, 20.0, 19.0, 18.0, 17.0, 16.0, 15.0, 14.0, 13.0, 12.0, 11.0, 10.0, 9.0, 8.0, 7.0, 6.0, 5.0, 4.0, 3.0, 2.0, 1.0, -6.2202, -6.3359, -6.3611, -6.6253, -6.9461, -7.0242, -6.9862, -7.1571, -7.2073, -7.3093, -7.3645, -7.4257, -7.2667, -7.4908, -7.5563, -6.7684, -7.5579, -6.711, -7.6278, -7.559, -7.4357, -7.5608, -6.7738, -7.7062, -6.8382, -7.7079, -7.708, -7.7912, -7.6373, -7.7916, -6.1992, -7.0235, -6.4204, -6.703, -7.0252, -6.1866, -6.118, -6.8955, -6.7794, -6.5198, -6.9689, -6.2711, -6.1663, -6.6571, -6.5064, -6.1527, -6.1225, -6.5074, -5.283, -6.2678, -5.2904, -6.0154, -5.6041, -5.7042, -5.5477, -5.6069, -6.2805, -5.8727, -5.6193, -6.0458, -5.9064, -5.593, -6.2871, -5.6023, -6.1189, -5.4791, -5.7603, -6.0002, -6.1231, -6.0745, -5.9483, -5.9768, -6.0554, -5.851, -5.8852, -6.017, -5.9184, -5.9175, -6.0297, -5.9043, -5.8707, -5.9453, -6.0606, -6.0681, -4.6175, -4.7835, -4.9821, -4.9888, -4.5493, -5.608, -5.5254, -5.5843, -5.674, -5.7296, -5.6631, -5.8485, -5.8809, -6.0569, -6.2487, -6.3494, -6.3503, -5.4705, -6.4054, -4.698, -6.5202, -6.5514, -6.5842, -6.5549, -6.5555, -6.7646, -6.8049, -6.8075, -6.8928, -6.9866, -6.4017, -4.7721, -6.3036, -4.8911, -5.8482, -4.2076, -5.316, -5.6507, -6.1362, -5.0716, -5.608, -5.289, -5.2245, -6.1196, -5.7018, -5.4538, -5.7105, -5.531, -5.7032, -5.4139, -5.6755, -5.7266, -5.6952, -5.3897, -5.4573, -5.8888, -6.3287, -6.0304, -5.059, -6.0156, -6.6, -5.9317, -6.1227, -7.0205, -7.0937, -7.1688, -7.4114, -6.3438, -6.979, -7.4149, -7.4181, -6.7327, -6.735, -6.9974, -6.9975, -6.889, -7.5301, -6.9991, -6.5395, -7.2704, -7.7567, -7.6398, -7.6405, -5.0291, -5.5408, -6.1787, -5.5939, -5.9134, -4.5263, -5.7361, -6.3128, -5.8214, -6.2482, -5.9459, -6.0288, -6.5796, -4.9816, -6.5059, -5.7204, -5.6381, -4.6708, -4.9262, -6.2373, -5.787, -5.4386, -5.345, -5.0419, -5.4855, -5.3854, -5.9354, -5.8809, -5.7021, -5.6635, -5.8719, -5.8528, -5.9372, -5.0739, -6.7416, -6.6169, -6.7714, -7.4077, -7.4202, -6.5973, -6.0406, -6.6795, -6.4975, -7.0918, -7.4542, -5.2618, -6.5937, -7.3582, -5.9869, -6.621, -6.512, -6.8943, -5.877, -7.1861, -6.3252, -7.3092, -7.2078, -6.7616, -7.5946, -7.4646, -7.483, -7.0834, -7.3719, -5.882, -3.8364, -6.6422, -5.6173, -5.0469, -5.9793, -6.3514, -4.9382, -5.437, -6.7395, -4.8286, -4.7482, -5.3492, -5.1783, -5.0956, -5.4979, -5.2989, -5.3008, -5.6614, -6.0724, -5.5862, -5.5012, -5.5846, -5.8857, -6.1111, -5.3282, -5.8157, -5.7481, -5.8629, -5.7497, -5.9, -5.9394, -5.9521], \"loglift\": [30.0, 29.0, 28.0, 27.0, 26.0, 25.0, 24.0, 23.0, 22.0, 21.0, 20.0, 19.0, 18.0, 17.0, 16.0, 15.0, 14.0, 13.0, 12.0, 11.0, 10.0, 9.0, 8.0, 7.0, 6.0, 5.0, 4.0, 3.0, 2.0, 1.0, 1.0155, 1.0152, 1.0107, 1.0067, 1.0009, 0.9997, 0.9986, 0.9947, 0.991, 0.9891, 0.9879, 0.9838, 0.9802, 0.9794, 0.9783, 0.9782, 0.9768, 0.9768, 0.9759, 0.9757, 0.9739, 0.9739, 0.9726, 0.9715, 0.9699, 0.9698, 0.9697, 0.9665, 0.9664, 0.9661, 0.9658, 0.9598, 0.95, 0.9548, 0.9595, 0.9292, 0.9196, 0.9453, 0.9363, 0.9169, 0.9412, 0.8937, 0.8856, 0.9211, 0.9076, 0.8263, 0.8152, 0.862, 0.5655, 0.7861, 0.5441, 0.7162, 0.5925, 0.6098, 0.5121, 0.5106, 0.7565, 0.5979, 0.4981, 0.661, 0.5981, 0.4122, 0.7503, 0.393, 0.6563, 0.2617, 0.3864, 0.5432, 0.6294, 0.583, 0.4393, 0.453, 0.542, 0.2133, 0.2276, 0.4586, 0.1358, 0.046, 0.357, -0.3515, -0.6336, -0.3029, 0.2155, 0.2014, 1.2433, 1.2423, 1.2413, 1.2412, 1.2402, 1.2382, 1.238, 1.2375, 1.2358, 1.2344, 1.2337, 1.2332, 1.2325, 1.2325, 1.2308, 1.2277, 1.2268, 1.2265, 1.2243, 1.2241, 1.2239, 1.2234, 1.2224, 1.2198, 1.2193, 1.2179, 1.2167, 1.2141, 1.2122, 1.2093, 1.2004, 1.1528, 1.1984, 1.1135, 1.1585, 1.0296, 1.04, 1.0683, 1.1158, 0.7233, 0.8541, 0.6746, 0.5163, 1.0763, 0.786, 0.6004, 0.7861, 0.627, 0.7411, 0.2286, 0.6247, 0.5999, 0.3001, 1.5027, 1.5014, 1.4888, 1.4862, 1.4807, 1.4802, 1.4719, 1.4707, 1.4669, 1.4624, 1.4553, 1.4464, 1.4405, 1.4388, 1.4384, 1.436, 1.4354, 1.4322, 1.4233, 1.4207, 1.4167, 1.4167, 1.4152, 1.415, 1.4149, 1.4129, 1.4128, 1.4116, 1.4109, 1.4101, 1.4054, 1.4035, 1.4036, 1.3756, 1.3821, 1.3272, 1.351, 1.3772, 1.3445, 1.3582, 1.3266, 1.3221, 1.3696, 1.1301, 1.3401, 1.1513, 1.1242, 0.8821, 0.877, 1.2716, 1.1227, 0.9482, 0.8911, 0.3608, 0.7061, 0.5746, 1.0746, 1.0079, 0.7068, 0.4764, 0.7772, 0.5175, 0.6944, 1.9426, 1.9012, 1.8837, 1.8728, 1.856, 1.844, 1.8406, 1.8377, 1.8233, 1.823, 1.8167, 1.8112, 1.7916, 1.7857, 1.775, 1.7607, 1.7593, 1.7571, 1.7539, 1.7525, 1.7261, 1.7119, 1.7086, 1.7051, 1.6816, 1.6753, 1.6719, 1.6547, 1.6488, 1.6477, 1.6217, 1.5663, 1.6313, 1.542, 1.4304, 1.528, 1.5365, 1.1356, 1.1857, 1.5894, 0.9746, 0.8942, 1.0927, 0.9345, 0.8643, 1.0483, 0.9344, 0.8108, 1.0347, 1.3239, 0.7784, 0.6904, 0.6663, 1.0031, 1.2445, 0.2247, 0.8334, 0.4193, 0.67, 0.1038, 0.5089, 0.5518, 0.1494]}, \"token.table\": {\"Topic\": [1, 1, 2, 3, 4, 1, 2, 3, 4, 2, 3, 4, 3, 2, 3, 4, 2, 1, 2, 3, 4, 1, 2, 3, 4, 3, 3, 3, 2, 4, 2, 3, 4, 1, 1, 3, 4, 2, 4, 2, 2, 1, 3, 4, 2, 3, 4, 1, 3, 4, 1, 2, 3, 4, 1, 1, 2, 2, 3, 4, 1, 1, 1, 2, 3, 4, 3, 4, 2, 2, 1, 2, 3, 4, 1, 3, 4, 1, 2, 4, 2, 4, 2, 4, 2, 3, 4, 2, 2, 2, 4, 1, 2, 3, 4, 2, 2, 1, 2, 3, 4, 2, 2, 4, 2, 1, 1, 2, 3, 4, 2, 3, 2, 2, 3, 4, 2, 3, 4, 3, 3, 2, 3, 4, 1, 2, 4, 1, 3, 4, 1, 3, 4, 3, 4, 1, 2, 3, 4, 2, 3, 3, 3, 1, 3, 4, 1, 1, 4, 3, 4, 2, 4, 3, 1, 2, 3, 4, 1, 1, 3, 4, 1, 4, 2, 3, 4, 1, 2, 3, 4, 3, 1, 1, 2, 3, 4, 1, 2, 3, 4, 3, 4, 2, 3, 3, 1, 3, 4, 1, 3, 4, 1, 2, 3, 4, 1, 2, 3, 4, 3, 1, 1, 3, 4, 1, 2, 3, 4, 1, 1, 2, 3, 4, 1, 3, 4, 1, 4, 1, 2, 3, 4, 1, 2, 3, 4, 1, 2, 3, 4, 1, 2, 3, 4, 1, 2, 3, 4, 1, 2, 3, 4, 1, 1, 2, 3, 1, 2, 3, 4, 3, 1, 2, 3, 4, 1, 2, 3, 4, 1, 2, 3, 4, 3, 1, 3, 4, 1, 2, 3, 4, 3, 4, 1, 2, 3, 4, 1, 2, 3, 4, 1, 2, 3, 4, 1, 2, 3, 4, 1, 2, 3, 4, 1, 3, 3, 3, 4, 1, 2, 3, 4, 3, 1, 2, 3, 4, 1, 2, 1, 2, 4, 1, 2, 3, 4, 1, 2, 3, 4, 1, 2, 3, 4, 1, 3, 4, 1, 2, 3, 4, 1, 1, 2, 3, 4, 1, 2, 3, 4, 1, 2, 3, 4, 1, 2, 3, 4, 3, 4, 1, 1, 3, 4, 1, 2, 3, 4, 1, 2, 3, 4, 1, 1, 2, 3, 4, 1, 1, 3, 4, 2, 3, 1, 4, 1, 2, 3, 4, 2, 1, 3, 2, 3, 4, 1, 2, 3, 4, 2, 3, 4, 1, 2, 3, 4, 3, 4, 1, 2, 3, 4, 1, 2, 3, 4, 1, 2, 3, 4, 1, 3, 4, 1, 2, 3, 4, 1, 2, 3, 4, 1, 2, 3, 4, 1, 3, 4, 1, 3, 4, 1, 2, 3, 4, 1, 2, 3, 4, 1, 2, 3, 4, 1, 2, 3, 4, 1, 2, 3, 4, 1, 2, 3, 4, 1, 2, 3, 4, 1, 3, 4, 1, 3, 4, 4, 2, 3, 4, 1, 2, 3, 4, 1, 2, 3, 4, 1, 2, 3, 4, 3, 4, 3, 1, 1, 3, 2, 3, 4, 1, 2, 3, 4, 1, 2, 3, 4, 1, 2, 3, 4, 1, 2, 3, 4, 1, 2, 3, 4, 1, 2, 3, 4, 1, 3, 4, 1, 2, 3, 4, 1, 2, 3, 4, 1, 2, 3, 4, 3, 4, 1, 2, 4, 1, 2, 3, 4, 3, 4, 1, 4, 1, 2, 3, 4, 1, 2, 3, 4, 1, 2, 3, 4, 1, 2, 3, 4, 3, 4, 3, 4, 1, 2, 3, 4, 1, 4, 1, 2, 3, 4, 4, 1, 3, 4, 1, 2, 3, 4, 1, 3, 4, 1, 1, 2, 3, 4, 1, 2, 3, 4, 3, 4, 1, 2, 3, 4, 1, 1, 4, 1, 1, 2, 3, 4, 1, 2, 3, 4, 1, 3, 4, 1, 2, 3, 4, 1, 3, 4, 1, 2, 3, 4, 2, 3, 4, 1, 2, 3, 4, 1, 2, 3, 4, 1, 2, 3, 4, 1, 2, 3, 4, 1, 2, 3, 4, 1, 2, 3, 4, 1, 4, 1, 2, 3, 4, 2, 4], \"Freq\": [0.9659335272213619, 0.00948246861189477, 0.00948246861189477, 0.9672117984132667, 0.00948246861189477, 0.9067951401932861, 0.06182505804342686, 0.9273758706514029, 0.06182505804342686, 0.9874206033882144, 0.005674831053955255, 0.005674831053955255, 0.98554240441751, 0.9912582619560584, 0.004811933310466303, 0.004811933310466303, 0.9807507754717272, 0.024966981292662952, 0.024966981292662952, 0.29960377551195544, 0.6491415136092368, 0.00853991733506704, 0.03415966934026816, 0.8966913201820391, 0.05123950401040224, 0.9648228996150311, 0.9773924423697782, 0.9848152090873442, 0.9811817036445255, 0.01257925261082725, 0.9762799673420827, 0.01355944399086226, 0.01355944399086226, 0.9811121604448299, 0.08498046615211559, 0.16996093230423118, 0.7648241953690403, 0.988394756107284, 0.006960526451459747, 0.9787631672904351, 0.9604413959852788, 0.5436010872671108, 0.05546949870072558, 0.38828649090507905, 0.9857398458794617, 0.004480635663088463, 0.008961271326176926, 0.12730834170786554, 0.12730834170786554, 0.7638500502471931, 0.1882672111616069, 0.7994908967136732, 0.0051580057852495045, 0.007737008677874257, 0.9715090737459612, 0.9824246888819093, 0.9766296007391218, 0.026988356495364473, 0.9445924773377566, 0.9326048854877323, 0.9155261547914006, 0.9616336130482404, 0.29134373310465556, 0.03329642664053206, 0.44950175964718286, 0.23307498648372446, 0.2120585496150514, 0.763410778614185, 0.9637084684418651, 0.9787055328938767, 0.9232588178120644, 0.9888532647492453, 0.006915057795449268, 0.006915057795449268, 0.01585903837749631, 0.14273134539746682, 0.8405290340073046, 0.9894444213674528, 0.9770460446185363, 0.02220559192314855, 0.9787566380838127, 0.01631261063473021, 0.9890861854872114, 0.013737308131766825, 0.05630426290533215, 0.05630426290533215, 0.8445639435799822, 0.9637778895209106, 0.9712736497289769, 0.9766856364613847, 0.01683940752519629, 0.6094587261907654, 0.05713675558038425, 0.09522792596730709, 0.23806981491826773, 0.963795632925272, 0.9787212511375653, 0.005115794942766536, 0.9720010391256417, 0.005115794942766536, 0.020463179771066143, 0.9593291041337116, 0.9860749995119215, 0.014501102933998844, 0.9604201250365997, 0.9657167695626834, 0.005130002669141971, 0.9028804697689868, 0.010260005338283942, 0.08208004270627153, 0.9848404784177566, 0.011865547932744056, 0.9839053817520027, 0.06182947977365809, 0.9274421966048714, 0.06182947977365809, 0.06182984994597922, 0.9274477491896883, 0.06182984994597922, 0.9808951121588468, 0.9649810674648439, 0.9445033047664946, 0.680226843761856, 0.3153779002895878, 0.9626770920907477, 0.9436854488196689, 0.0496676552010352, 0.22654021270891808, 0.11327010635445904, 0.6796206381267543, 0.15627426803809666, 0.07813713401904833, 0.7813713401904833, 0.06741538323319263, 0.9438153652646969, 0.024475760167125896, 0.024475760167125896, 0.9545546465179099, 0.024475760167125896, 0.022395737420478307, 0.9630167090805672, 0.9018372663780879, 0.9563348832598757, 0.11307886959977248, 0.11307886959977248, 0.7915520871984073, 0.9689211279900154, 0.10137135243693259, 0.8109708194954607, 0.01528381618565635, 0.9781642358820064, 0.97964697464048, 0.012890091771585262, 0.9463347876312262, 0.6510105645184515, 0.27251605026353787, 0.030279561140393093, 0.04541934171058964, 0.8967885018993823, 0.8964636704436478, 0.03735265293515199, 0.03735265293515199, 0.12691043988187758, 0.7614626392912656, 0.10509636084845979, 0.8407708867876783, 0.035032120282819934, 0.21392096294916904, 0.02674012036864613, 0.17826746912430752, 0.5793692746539995, 0.9348094112918635, 0.9467226206498244, 0.41068693731634115, 0.5301595008992768, 0.04480221134360086, 0.007467035223933475, 0.27326841039290123, 0.2826914590271392, 0.16961487541628353, 0.27326841039290123, 0.2685912823284434, 0.6983373340539529, 0.08092210556883501, 0.8901431612571852, 0.9117087305256744, 0.060605249225295144, 0.868675238895897, 0.060605249225295144, 0.019740716052694507, 0.8291100742131693, 0.15792572842155606, 0.7241377914947935, 0.16091950922106524, 0.09195400526918013, 0.022988501317295032, 0.6843952342746966, 0.18010400901965698, 0.0840485375425066, 0.060034669673219, 0.9347658562352911, 0.9657266569470941, 0.939726513839942, 0.03546137788075253, 0.017730688940376264, 0.9256618087160736, 0.040246165596351025, 0.9072226857461422, 0.047748562407691694, 0.9361928140800606, 0.6839576859361057, 0.12333663189011741, 0.07848694756643836, 0.11212421080919766, 0.02997018919276175, 0.8691354865900908, 0.08991056757828525, 0.9243561514051772, 0.04018939788718162, 0.06053859135161173, 0.9080788702741759, 0.015134647837902932, 0.015134647837902932, 0.13620549457747524, 0.8285834253463078, 0.01135045788145627, 0.01135045788145627, 0.46089076193658346, 0.4779607901564569, 0.05121008465962038, 0.00853501410993673, 0.6503299812670159, 0.05495746320566331, 0.2015106984207655, 0.09159577200943886, 0.05832807620168448, 0.01458201905042112, 0.8749211430252672, 0.05832807620168448, 0.6690289433220731, 0.23474699765686777, 0.04694939953137355, 0.04694939953137355, 0.9589710939645942, 0.8840937327885727, 0.023265624547067706, 0.06979687364120311, 0.8482941071515757, 0.021751130952604506, 0.04350226190520901, 0.08700452381041802, 0.928229437295015, 0.7644149863763168, 0.12480244675531701, 0.07800152922207314, 0.046800917533243884, 0.09614354675241242, 0.041204377179605324, 0.6730048272668869, 0.19228709350482484, 0.3393910199767915, 0.12503879683355476, 0.10122188315097291, 0.43465867470711894, 0.9563331525985562, 0.03286697855538532, 0.920275399550789, 0.03286697855538532, 0.5540997037210911, 0.2037131263680482, 0.13852492593027277, 0.10593082571138505, 0.20347395066511384, 0.8138958026604554, 0.3283574386402179, 0.10411333420299591, 0.3684010287182932, 0.20021795039037676, 0.2633693954929176, 0.667202468582058, 0.043894899248819605, 0.017557959699527843, 0.6274295935945547, 0.3184680512942058, 0.042779290472356006, 0.014259763490785334, 0.6395428378880382, 0.10771247796009066, 0.14810465719512464, 0.100980448087585, 0.5846125867291426, 0.34206055606492386, 0.037315697025264424, 0.031096414187720352, 0.951530236696938, 0.0317176745565646, 0.9563066275534721, 0.07782828193022905, 0.9339393831627486, 0.07051373839433542, 0.08814217299291928, 0.1939127805844224, 0.6522520801476027, 0.9207040825835338, 0.22677968655862574, 0.020616335141693247, 0.29893685955455207, 0.4535593731172515, 0.9513585824525329, 0.03171195274841777, 0.8845065928946801, 0.05360646017543516, 0.02680323008771758, 0.03657562089084109, 0.8412392804893452, 0.05486343133626164, 0.07315124178168218, 0.2612390187355904, 0.630576941775563, 0.09008242025365186, 0.018016484050730374, 0.5610183102316226, 0.41651359395984106, 0.017000554855503718, 0.008500277427751859, 0.1461246920107731, 0.21918703801615966, 0.6575611140484791, 0.013451724682062245, 0.013451724682062245, 0.605327610692801, 0.37664829109774284, 0.9589919527079043, 0.17002326797634162, 0.10626454248521351, 0.39317880719528997, 0.32942008170416187, 0.5908955887995804, 0.16171879272409567, 0.18037865342302978, 0.06841948922942509, 0.1930718311156873, 0.04290485135904162, 0.30033395951329134, 0.49340579062897866, 0.4086688642732315, 0.5195932702902515, 0.052543139692272624, 0.017514379897424208, 0.06331665227415285, 0.8864331318381399, 0.9415262964965851, 0.8945374668117241, 0.06751226164616786, 0.016878065411541965, 0.5047853419491157, 0.2279675737834716, 0.13840888408282204, 0.12212548595543121, 0.34279328672351245, 0.33667197803202115, 0.15915402597877365, 0.15915402597877365, 0.9765012618085502, 0.8096251613743278, 0.07360228739766617, 0.058881829918132934, 0.0441613724385997, 0.9231943910508562, 0.14105148451716612, 0.028210296903433223, 0.7898883132961303, 0.07793520245404606, 0.8962548282215297, 0.928721056253367, 0.058045066015835436, 0.0947444037504146, 0.8053274318785241, 0.02368610093760365, 0.07105830281281095, 0.9531552882134426, 0.9569983290375224, 0.029906197782422574, 0.036181952636508016, 0.10854585790952405, 0.8683668632761924, 0.18220896797249939, 0.09110448398624969, 0.6377313879037478, 0.07592040332187475, 0.026912192606762232, 0.8881023560231537, 0.0807365778202867, 0.43446636915723225, 0.44170747530985277, 0.04344663691572322, 0.07965216767882591, 0.20362642291016636, 0.8145056916406654, 0.4067116486431214, 0.02711410990954143, 0.3253693189144971, 0.24402698918587284, 0.6140025044643327, 0.17810759671484458, 0.1593594286395978, 0.051557462206928695, 0.39803294689630014, 0.0639695807511911, 0.27009378539391793, 0.27009378539391793, 0.1741266957812188, 0.09950096901783932, 0.6965067831248752, 0.5284204749539342, 0.38530659632057707, 0.07706131926411541, 0.01100875989487363, 0.3238518737866758, 0.5375941104858818, 0.06477037475733516, 0.07772444970880218, 0.07736574669436017, 0.8703646503115519, 0.03868287334718008, 0.01934143667359004, 0.01774699883286472, 0.8518559439775065, 0.12422899183005304, 0.08200622644382764, 0.8528647550158075, 0.06560498115506212, 0.59298647447885, 0.16439228995453267, 0.1820057495925183, 0.06458268533928069, 0.8550881886031736, 0.07917483227807162, 0.015834966455614326, 0.047504899366842976, 0.8686523127430669, 0.08863799109623131, 0.017727598219246264, 0.017727598219246264, 0.43737548470348964, 0.25513569941036895, 0.18223978529312068, 0.12392305399932206, 0.7491157609134053, 0.1716723618759887, 0.04681973505708783, 0.031213156704725218, 0.29321145908514035, 0.5950467846139613, 0.05174319866208359, 0.05174319866208359, 0.8897565804678063, 0.015609764569610635, 0.06243905827844254, 0.03121952913922127, 0.8869897429305501, 0.0909733069672359, 0.022743326741808977, 0.906090526900079, 0.03484963565000304, 0.03484963565000304, 0.8680152319854029, 0.03174951724951987, 0.15874758624759933, 0.8254874484875165, 0.25108854647837725, 0.04597395921435077, 0.5304687601655858, 0.17328646165409137, 0.33521151541022076, 0.14665503799197158, 0.16062218446739746, 0.3561622351233596, 0.5392610376918119, 0.25573203849302417, 0.1612223720934283, 0.050034529270374294, 0.11943738426010928, 0.836061689820765, 0.920075832540435, 0.9765024749677131, 0.05539291907272854, 0.8862867051636566, 0.038842752503305766, 0.8545405550727269, 0.07768550500661153, 0.6463199778860049, 0.16822026821690542, 0.12395177658087767, 0.06197588829043883, 0.28169039051886424, 0.6269882885742462, 0.07269429432744884, 0.01817357358186221, 0.5251802438671692, 0.40989677570120525, 0.019213911360993995, 0.051237096962650656, 0.2630215704975976, 0.35972067729818497, 0.03867964272023494, 0.3403808559380675, 0.16284336184116438, 0.06513734473646575, 0.5699517664440753, 0.2035542023014555, 0.15486033726265241, 0.09463687277162092, 0.3269273786655995, 0.4129608993670731, 0.10667585439512844, 0.6756137445024801, 0.2133517087902569, 0.021352831675593598, 0.021352831675593598, 0.8327604353481503, 0.14946982172915518, 0.8050947046523, 0.11299574802137545, 0.04237340550801579, 0.04237340550801579, 0.09539386917971557, 0.004542565199034074, 0.5269375630879526, 0.36794778112176, 0.9075044058651685, 0.047763389782377284, 0.9143869651862648, 0.021771118218720593, 0.043542236437441185, 0.014329943163996236, 0.0047766477213320785, 0.8311367035117817, 0.1528527270826265, 0.254970447356903, 0.764911342070709, 0.12732569784838046, 0.7639541870902828, 0.08334304095645001, 0.86676762594708, 0.03889341911301, 0.00555620273043, 0.2876587556895873, 0.24843256173191633, 0.2549702607248615, 0.20920636777424534, 0.4457221165231901, 0.037143509710265844, 0.16714579369619628, 0.35286334224752547, 0.053586560313428476, 0.22104456129289246, 0.44878744262496345, 0.2746311216063209, 0.16045790246284494, 0.8022895123142247, 0.17932356336901942, 0.8368432957220906, 0.6130817049369933, 0.26131351357970206, 0.09045467777758918, 0.04020207901226186, 0.06756960579337913, 0.8784048753139286, 0.16107495166877991, 0.14006517536415644, 0.5392509251520023, 0.16107495166877991, 0.867585874933172, 0.8917515903215735, 0.030750054838674948, 0.030750054838674948, 0.777437246992284, 0.04759819879544596, 0.15866066265148654, 0.015866066265148655, 0.17505559616777153, 0.7752462116001311, 0.0500158846193633, 0.9765078643183744, 0.08530891207491118, 0.014218152012485196, 0.8957435767865674, 0.014218152012485196, 0.6404306237655246, 0.14943381221195576, 0.17078149967080658, 0.042695374917701645, 0.28388294702401906, 0.6813190728576457, 0.30261849171746585, 0.24687298008530106, 0.15130924585873293, 0.30261849171746585, 0.9657256112534579, 0.14550251835555422, 0.7275125917777711, 0.9300685742746153, 0.1322328979016148, 0.01322328979016148, 0.7008343588785585, 0.17190276727209924, 0.3066233151603751, 0.5212596357726377, 0.08432141166910316, 0.09198699454811253, 0.2457676175836916, 0.22342510689426506, 0.5138777458568097, 0.31203030996610986, 0.010401010332203663, 0.43684243395255384, 0.23922323764068423, 0.9444221111600586, 0.033729361112859235, 0.033729361112859235, 0.003043447093798448, 0.01521723546899224, 0.3165184977550386, 0.6665149135418601, 0.027567663788038085, 0.8545975774291806, 0.11027065515215234, 0.1693485454292714, 0.03175285226798839, 0.4762927840198259, 0.3175285226798839, 0.43927731177953605, 0.10504457455597602, 0.06684654744471201, 0.4010792846682721, 0.3732731531916822, 0.5599097297875233, 0.05332473617024031, 0.015997420851072093, 0.44232871416868746, 0.2594995123122966, 0.21231778280096997, 0.09436345902265332, 0.5606303445151569, 0.10678673228860132, 0.16907899279028543, 0.16018009843290199, 0.30532920083748105, 0.2035528005583207, 0.3562174009770612, 0.13994255038384548, 0.9512149278407986, 0.8690893725820323, 0.18919260403906668, 0.5901007411694699, 0.18468801822861272, 0.03603668648363175, 0.9607911243541829, 0.027451174981548084], \"Term\": [\"Agatha\", \"Ahab\", \"Ahab\", \"Ahab\", \"Ahab\", \"Arabian\", \"Bedford\", \"Bedford\", \"Bedford\", \"Bennet\", \"Bennet\", \"Bennet\", \"Bildad\", \"Bingley\", \"Bingley\", \"Bingley\", \"Bourgh\", \"CHAPTER\", \"CHAPTER\", \"CHAPTER\", \"CHAPTER\", \"Captain\", \"Captain\", \"Captain\", \"Captain\", \"Captain Ahab\", \"Captain_Ahab\", \"Captain_Peleg\", \"Catherine\", \"Catherine\", \"Charlotte\", \"Charlotte\", \"Charlotte\", \"Clerval\", \"Cliff\", \"Cliff\", \"Cliff\", \"Collins\", \"Collins\", \"Colonel\", \"Colonel_Fitzwilliam\", \"Count\", \"Count\", \"Count\", \"Darcy\", \"Darcy\", \"Darcy\", \"East\", \"East\", \"East\", \"Elizabeth\", \"Elizabeth\", \"Elizabeth\", \"Elizabeth\", \"Ernest\", \"Felix\", \"Fitzwilliam\", \"Flask\", \"Flask\", \"Folio\", \"Frankenstein\", \"Geneva\", \"God\", \"God\", \"God\", \"God\", \"Greenland\", \"Greenland\", \"Hertfordshire\", \"Hurst\", \"Ingolstadt\", \"Jane\", \"Jane\", \"Jane\", \"Jonah\", \"Jonah\", \"Jonah\", \"Justine\", \"Lady\", \"Lady\", \"Lady Catherine\", \"Lady Catherine\", \"Lady_Catherine\", \"Lady_Catherine\", \"Leviathan\", \"Leviathan\", \"Leviathan\", \"Lizzy\", \"Longbourn\", \"Lucas\", \"Lucas\", \"Lucy\", \"Lucy\", \"Lucy\", \"Lucy\", \"Lydia\", \"Meryton\", \"Miss\", \"Miss\", \"Miss\", \"Miss\", \"Miss_Bennet\", \"Miss_Bingley\", \"Miss_Bingley\", \"Miss_Lucas\", \"Mont\", \"Mrs\", \"Mrs\", \"Mrs\", \"Mrs\", \"Mrs_Bennet\", \"Mrs_Bennet\", \"Netherfield\", \"New Bedford\", \"New Bedford\", \"New Bedford\", \"New_Bedford\", \"New_Bedford\", \"New_Bedford\", \"Peleg\", \"Pequod\", \"Phillips\", \"Queequeg\", \"Queequeg\", \"Safie\", \"Sir_William\", \"Sir_William\", \"Slovaks\", \"Slovaks\", \"Slovaks\", \"South\", \"South\", \"South\", \"Sperm\", \"Sperm\", \"Starbuck\", \"Starbuck\", \"Starbuck\", \"Starbuck\", \"Stubb\", \"Stubb\", \"Tashtego\", \"Thou\", \"Transylvania\", \"Transylvania\", \"Transylvania\", \"Victor\", \"West\", \"West\", \"Whale\", \"Whale\", \"Wickham\", \"Wickham\", \"aloft\", \"appear\", \"appear\", \"appear\", \"appear\", \"ardour\", \"attendant\", \"attendant\", \"attendant\", \"available\", \"available\", \"aye\", \"aye\", \"aye\", \"bed\", \"bed\", \"bed\", \"bed\", \"beef\", \"beheld\", \"believe\", \"believe\", \"believe\", \"believe\", \"book\", \"book\", \"book\", \"book\", \"boot\", \"boot\", \"brave\", \"brave\", \"bulwark\", \"cabin\", \"cabin\", \"cabin\", \"captain\", \"captain\", \"captain\", \"cause\", \"cause\", \"cause\", \"cause\", \"child\", \"child\", \"child\", \"child\", \"commander\", \"contemplate\", \"cottage\", \"cottage\", \"cottage\", \"cottager\", \"cottager\", \"craft\", \"craft\", \"creator\", \"creature\", \"creature\", \"creature\", \"creature\", \"crew\", \"crew\", \"crew\", \"crime\", \"crime\", \"dance\", \"dance\", \"dance\", \"dance\", \"daughter\", \"daughter\", \"daughter\", \"daughter\", \"dear\", \"dear\", \"dear\", \"dear\", \"death\", \"death\", \"death\", \"death\", \"deck\", \"deck\", \"deck\", \"deck\", \"desire\", \"desire\", \"desire\", \"desire\", \"desolate\", \"despair\", \"despair\", \"despair\", \"destroy\", \"destroy\", \"destroy\", \"destroy\", \"didn\", \"discover\", \"discover\", \"discover\", \"discover\", \"don\", \"don\", \"don\", \"don\", \"door\", \"door\", \"door\", \"door\", \"dost\", \"driver\", \"driver\", \"driver\", \"enter\", \"enter\", \"enter\", \"enter\", \"entry\", \"entry\", \"face\", \"face\", \"face\", \"face\", \"family\", \"family\", \"family\", \"family\", \"father\", \"father\", \"father\", \"father\", \"fear\", \"fear\", \"fear\", \"fear\", \"feeling\", \"feeling\", \"feeling\", \"feeling\", \"fiend\", \"fiend\", \"fiery\", \"fin\", \"fin\", \"fish\", \"fish\", \"fish\", \"fish\", \"fishery\", \"foot\", \"foot\", \"foot\", \"foot\", \"forever\", \"forever\", \"gentle\", \"gentle\", \"gentle\", \"gentleman\", \"gentleman\", \"gentleman\", \"gentleman\", \"girl\", \"girl\", \"girl\", \"girl\", \"happy\", \"happy\", \"happy\", \"happy\", \"harbour\", \"harbour\", \"harbour\", \"harpooneer\", \"harpooneer\", \"harpooneer\", \"harpooneer\", \"hatred\", \"head\", \"head\", \"head\", \"head\", \"heart\", \"heart\", \"heart\", \"heart\", \"heavy\", \"heavy\", \"heavy\", \"heavy\", \"hope\", \"hope\", \"hope\", \"hope\", \"horn\", \"horn\", \"horrible\", \"horror\", \"horror\", \"horror\", \"hour\", \"hour\", \"hour\", \"hour\", \"house\", \"house\", \"house\", \"house\", \"hovel\", \"human\", \"human\", \"human\", \"human\", \"inhabit\", \"key\", \"key\", \"key\", \"kick\", \"kick\", \"labour\", \"labour\", \"lady\", \"lady\", \"lady\", \"lady\", \"ladyship\", \"lake\", \"lake\", \"landlord\", \"landlord\", \"landlord\", \"lay\", \"lay\", \"lay\", \"lay\", \"leg\", \"leg\", \"leg\", \"letter\", \"letter\", \"letter\", \"letter\", \"leviathan\", \"leviathan\", \"lie\", \"lie\", \"lie\", \"lie\", \"life\", \"life\", \"life\", \"life\", \"light\", \"light\", \"light\", \"light\", \"lock\", \"lock\", \"lock\", \"love\", \"love\", \"love\", \"love\", \"manner\", \"manner\", \"manner\", \"manner\", \"marry\", \"marry\", \"marry\", \"marry\", \"mast\", \"mast\", \"mast\", \"mate\", \"mate\", \"mate\", \"mind\", \"mind\", \"mind\", \"mind\", \"miserable\", \"miserable\", \"miserable\", \"miserable\", \"misery\", \"misery\", \"misery\", \"misery\", \"moment\", \"moment\", \"moment\", \"moment\", \"month\", \"month\", \"month\", \"month\", \"mother\", \"mother\", \"mother\", \"mother\", \"mountain\", \"mountain\", \"mountain\", \"mountain\", \"murder\", \"murder\", \"murder\", \"murderer\", \"murderer\", \"murderer\", \"naturalist\", \"oil\", \"oil\", \"oil\", \"old\", \"old\", \"old\", \"old\", \"open\", \"open\", \"open\", \"open\", \"pass\", \"pass\", \"pass\", \"pass\", \"pier\", \"pier\", \"pious\", \"protector\", \"pulpit\", \"pulpit\", \"queer\", \"queer\", \"queer\", \"remain\", \"remain\", \"remain\", \"remain\", \"reply\", \"reply\", \"reply\", \"reply\", \"return\", \"return\", \"return\", \"return\", \"room\", \"room\", \"room\", \"room\", \"round\", \"round\", \"round\", \"round\", \"run\", \"run\", \"run\", \"run\", \"sail\", \"sail\", \"sail\", \"sailor\", \"sailor\", \"sailor\", \"sailor\", \"scene\", \"scene\", \"scene\", \"scene\", \"sea\", \"sea\", \"sea\", \"sea\", \"seaman\", \"seaman\", \"sensation\", \"sensation\", \"sensation\", \"ship\", \"ship\", \"ship\", \"ship\", \"shirt\", \"shirt\", \"shorthand\", \"shorthand\", \"sister\", \"sister\", \"sister\", \"sister\", \"sit\", \"sit\", \"sit\", \"sit\", \"sleep\", \"sleep\", \"sleep\", \"sleep\", \"sort\", \"sort\", \"sort\", \"sort\", \"sperm\", \"sperm\", \"sperm_whale\", \"sperm_whale\", \"spirit\", \"spirit\", \"spirit\", \"spirit\", \"spout\", \"spout\", \"stand\", \"stand\", \"stand\", \"stand\", \"swing\", \"tale\", \"tale\", \"tale\", \"tear\", \"tear\", \"tear\", \"tear\", \"thee\", \"thee\", \"thee\", \"thirst\", \"thou\", \"thou\", \"thou\", \"thou\", \"thought\", \"thought\", \"thought\", \"thought\", \"tomahawk\", \"tomahawk\", \"try\", \"try\", \"try\", \"try\", \"unfortunate\", \"vault\", \"vault\", \"victim\", \"voyage\", \"voyage\", \"voyage\", \"voyage\", \"walk\", \"walk\", \"walk\", \"walk\", \"wall\", \"wall\", \"wall\", \"water\", \"water\", \"water\", \"water\", \"weep\", \"weep\", \"weep\", \"whale\", \"whale\", \"whale\", \"whale\", \"whaling\", \"whaling\", \"whaling\", \"white\", \"white\", \"white\", \"white\", \"window\", \"window\", \"window\", \"window\", \"wish\", \"wish\", \"wish\", \"wish\", \"word\", \"word\", \"word\", \"word\", \"work\", \"work\", \"work\", \"work\", \"world\", \"world\", \"world\", \"world\", \"wretch\", \"wrist\", \"young\", \"young\", \"young\", \"young\", \"young_lady\", \"young_lady\"]}, \"R\": 30, \"lambda.step\": 0.01, \"plot.opts\": {\"xlab\": \"PC1\", \"ylab\": \"PC2\"}, \"topic.order\": [2, 4, 1, 3]};\n",
       "\n",
       "function LDAvis_load_lib(url, callback){\n",
       "  var s = document.createElement('script');\n",
       "  s.src = url;\n",
       "  s.async = true;\n",
       "  s.onreadystatechange = s.onload = callback;\n",
       "  s.onerror = function(){console.warn(\"failed to load library \" + url);};\n",
       "  document.getElementsByTagName(\"head\")[0].appendChild(s);\n",
       "}\n",
       "\n",
       "if(typeof(LDAvis) !== \"undefined\"){\n",
       "   // already loaded: just create the visualization\n",
       "   !function(LDAvis){\n",
       "       new LDAvis(\"#\" + \"ldavis_el15483140422720114240250107552\", ldavis_el15483140422720114240250107552_data);\n",
       "   }(LDAvis);\n",
       "}else if(typeof define === \"function\" && define.amd){\n",
       "   // require.js is available: use it to load d3/LDAvis\n",
       "   require.config({paths: {d3: \"https://d3js.org/d3.v5\"}});\n",
       "   require([\"d3\"], function(d3){\n",
       "      window.d3 = d3;\n",
       "      LDAvis_load_lib(\"https://cdn.jsdelivr.net/gh/bmabey/pyLDAvis@3.3.1/pyLDAvis/js/ldavis.v3.0.0.js\", function(){\n",
       "        new LDAvis(\"#\" + \"ldavis_el15483140422720114240250107552\", ldavis_el15483140422720114240250107552_data);\n",
       "      });\n",
       "    });\n",
       "}else{\n",
       "    // require.js not available: dynamically load d3 & LDAvis\n",
       "    LDAvis_load_lib(\"https://d3js.org/d3.v5.js\", function(){\n",
       "         LDAvis_load_lib(\"https://cdn.jsdelivr.net/gh/bmabey/pyLDAvis@3.3.1/pyLDAvis/js/ldavis.v3.0.0.js\", function(){\n",
       "                 new LDAvis(\"#\" + \"ldavis_el15483140422720114240250107552\", ldavis_el15483140422720114240250107552_data);\n",
       "            })\n",
       "         });\n",
       "}\n",
       "</script>"
      ],
      "text/plain": [
       "<IPython.core.display.HTML object>"
      ]
     },
     "execution_count": 63,
     "metadata": {},
     "output_type": "execute_result"
    }
   ],
   "source": [
    "# plot topics\n",
    "data =  pyLDAvis.gensim_models.prepare(model, corpus, dictionary)\n",
    "pyLDAvis.display(data)"
   ]
  },
  {
   "cell_type": "code",
   "execution_count": 64,
   "metadata": {},
   "outputs": [],
   "source": [
    "# assignment\n",
    "sent_to_cluster = list()\n",
    "for n,doc in enumerate(corpus):\n",
    "    if doc:\n",
    "        cluster = max(model[doc],key=lambda x:x[1])\n",
    "        sent_to_cluster.append(cluster[0])"
   ]
  },
  {
   "cell_type": "code",
   "execution_count": 65,
   "metadata": {},
   "outputs": [
    {
     "name": "stdout",
     "output_type": "stream",
     "text": [
      "DRACULA.txt : 1 - 26\n",
      "Accuracy: 0.43333333333333335\n",
      "------\n",
      "Frankenstein.txt : 1 - 60\n",
      "Accuracy: 1.0\n",
      "------\n",
      "Moby_Dick.txt : 0 - 42\n",
      "Accuracy: 0.7\n",
      "------\n",
      "PRIDE_AND_PREJUDICE.txt : 3 - 60\n",
      "Accuracy: 1.0\n",
      "------\n"
     ]
    }
   ],
   "source": [
    "# accuracy\n",
    "from collections import Counter\n",
    "for book, cluster in book_id.items():\n",
    "    assignments = list()\n",
    "    for real,given in zip(chunk_class,sent_to_cluster):\n",
    "        if real == cluster:\n",
    "            assignments.append(given)\n",
    "    most_common,num_most_common = Counter(assignments).most_common(1)[0] # 4, 6 times\n",
    "    print(book,\":\",most_common,\"-\",num_most_common)\n",
    "    print(\"Accuracy:\",num_most_common/limit)\n",
    "    print(\"------\")"
   ]
  },
  {
   "cell_type": "markdown",
   "metadata": {},
   "source": [
    "# Task 4: Semantic analysis based on lexical categories"
   ]
  },
  {
   "cell_type": "code",
   "execution_count": 66,
   "metadata": {},
   "outputs": [],
   "source": [
    "from empath import Empath\n",
    "lexicon = Empath()"
   ]
  },
  {
   "cell_type": "markdown",
   "metadata": {},
   "source": [
    "### Let's see what pre-build categories we can study! More information: https://hci.stanford.edu/publications/2016/ethan/empath-chi-2016.pdf"
   ]
  },
  {
   "cell_type": "code",
   "execution_count": 67,
   "metadata": {},
   "outputs": [
    {
     "name": "stdout",
     "output_type": "stream",
     "text": [
      "help\n",
      "office\n",
      "dance\n",
      "money\n",
      "wedding\n",
      "domestic_work\n",
      "sleep\n",
      "medical_emergency\n",
      "cold\n",
      "hate\n",
      "cheerfulness\n",
      "aggression\n",
      "occupation\n",
      "envy\n",
      "anticipation\n"
     ]
    }
   ],
   "source": [
    "for cat in list(lexicon.cats.keys())[:15]:\n",
    "    print(cat)"
   ]
  },
  {
   "cell_type": "markdown",
   "metadata": {},
   "source": [
    "### For each category, we can examine representative terms"
   ]
  },
  {
   "cell_type": "code",
   "execution_count": 68,
   "metadata": {},
   "outputs": [
    {
     "data": {
      "text/plain": [
       "['disorder',\n",
       " 'bedridden',\n",
       " 'arthritis',\n",
       " 'dental',\n",
       " 'medical',\n",
       " 'tumor',\n",
       " 'psychologist',\n",
       " 'relapse',\n",
       " 'malaria',\n",
       " 'biopsy',\n",
       " 'medically',\n",
       " 'cancerous',\n",
       " 'allergy',\n",
       " 'pancreatic',\n",
       " 'depressant']"
      ]
     },
     "execution_count": 68,
     "metadata": {},
     "output_type": "execute_result"
    },
    {
     "name": "stderr",
     "output_type": "stream",
     "text": [
      "/Users/JeanPierreMero/opt/anaconda3/envs/ada/lib/python3.8/site-packages/past/builtins/misc.py:45: DeprecationWarning: the imp module is deprecated in favour of importlib; see the module's documentation for alternative uses\n",
      "  from imp import reload\n",
      "/Users/JeanPierreMero/opt/anaconda3/envs/ada/lib/python3.8/site-packages/past/builtins/misc.py:45: DeprecationWarning: the imp module is deprecated in favour of importlib; see the module's documentation for alternative uses\n",
      "  from imp import reload\n",
      "/Users/JeanPierreMero/opt/anaconda3/envs/ada/lib/python3.8/site-packages/past/builtins/misc.py:45: DeprecationWarning: the imp module is deprecated in favour of importlib; see the module's documentation for alternative uses\n",
      "  from imp import reload\n"
     ]
    }
   ],
   "source": [
    "lexicon.cats[\"health\"][:15]"
   ]
  },
  {
   "cell_type": "markdown",
   "metadata": {},
   "source": [
    "### Studying Pride and Prejudice"
   ]
  },
  {
   "cell_type": "code",
   "execution_count": 69,
   "metadata": {},
   "outputs": [],
   "source": [
    "nlp = spacy.load('en_core_web_sm')\n",
    "doc = nlp(books[3])"
   ]
  },
  {
   "cell_type": "code",
   "execution_count": 70,
   "metadata": {},
   "outputs": [],
   "source": [
    "empath_features = lexicon.analyze(doc.text,categories = [\"disappointment\", \"pain\", \"joy\", \"beauty\", \"affection\"])"
   ]
  },
  {
   "cell_type": "code",
   "execution_count": 71,
   "metadata": {},
   "outputs": [
    {
     "data": {
      "text/plain": [
       "{'disappointment': 149.0,\n",
       " 'pain': 228.0,\n",
       " 'joy': 278.0,\n",
       " 'beauty': 136.0,\n",
       " 'affection': 439.0}"
      ]
     },
     "execution_count": 71,
     "metadata": {},
     "output_type": "execute_result"
    }
   ],
   "source": [
    "empath_features"
   ]
  },
  {
   "cell_type": "code",
   "execution_count": 72,
   "metadata": {},
   "outputs": [],
   "source": [
    "empath_features = lexicon.analyze(doc.text,categories = [\"disappointment\", \"pain\", \"joy\", \"beauty\", \"affection\"], normalize = True)"
   ]
  },
  {
   "cell_type": "code",
   "execution_count": 73,
   "metadata": {},
   "outputs": [
    {
     "data": {
      "text/plain": [
       "{'disappointment': 0.0012256615693403638,\n",
       " 'pain': 0.001875508978587939,\n",
       " 'joy': 0.002286804807225645,\n",
       " 'beauty': 0.0011187246538945602,\n",
       " 'affection': 0.0036111773754390585}"
      ]
     },
     "execution_count": 73,
     "metadata": {},
     "output_type": "execute_result"
    }
   ],
   "source": [
    "empath_features"
   ]
  },
  {
   "cell_type": "markdown",
   "metadata": {},
   "source": [
    "### Usecase: the evolution of topics"
   ]
  },
  {
   "cell_type": "code",
   "execution_count": 74,
   "metadata": {},
   "outputs": [],
   "source": [
    "bins = range(0,len(doc.text),150000)\n"
   ]
  },
  {
   "cell_type": "code",
   "execution_count": 75,
   "metadata": {},
   "outputs": [],
   "source": [
    "love = []\n",
    "pain = []\n",
    "beauty = []\n",
    "affection = []\n",
    "\n",
    "\n",
    "for cnt,i in enumerate(bins[:-1]):\n",
    "    empath_features = lexicon.analyze(doc.text[bins[cnt]:bins[cnt+1]],\n",
    "                                      categories = [\"love\", \"pain\", \"joy\", \"beauty\", \"affection\"], normalize = True)\n",
    "    love.append(empath_features[\"love\"])\n",
    "    pain.append(empath_features[\"pain\"])\n",
    "    beauty.append(empath_features[\"beauty\"])\n",
    "    affection.append(empath_features[\"affection\"])"
   ]
  },
  {
   "cell_type": "code",
   "execution_count": 76,
   "metadata": {},
   "outputs": [
    {
     "data": {
      "text/plain": [
       "<matplotlib.legend.Legend at 0x7fb795dc2b80>"
      ]
     },
     "execution_count": 76,
     "metadata": {},
     "output_type": "execute_result"
    },
    {
     "data": {
      "image/png": "[encoded data removed]",
      "text/plain": [
       "<Figure size 432x288 with 1 Axes>"
      ]
     },
     "metadata": {
      "needs_background": "light"
     },
     "output_type": "display_data"
    }
   ],
   "source": [
    "plt.plot(love,label = \"love\")\n",
    "plt.plot(beauty, label = \"beauty\")\n",
    "plt.plot(affection, label = \"affection\")\n",
    "plt.plot(pain,label = \"pain\")\n",
    "\n",
    "plt.xlabel(\"progression in the book\")\n",
    "plt.ylabel(\"frequency of a category\")\n",
    "plt.legend()"
   ]
  },
  {
   "cell_type": "code",
   "execution_count": 61,
   "metadata": {},
   "outputs": [],
   "source": [
    "# We can observe how as the story progresses, beauty and affection categories decrease, while love and pain intensify!"
   ]
  },
  {
   "cell_type": "markdown",
   "metadata": {},
   "source": [
    "### We can create custom categories based on seed terms!\n",
    "### Models trained on: fiction, nytimes or reddit"
   ]
  },
  {
   "cell_type": "code",
   "execution_count": 77,
   "metadata": {},
   "outputs": [
    {
     "name": "stdout",
     "output_type": "stream",
     "text": [
      "[\"avocado\", \"kale\", \"Swiss_chard\", \"escarole\", \"black_beans\", \"cucumber\", \"dill\", \"leek\", \"mango\", \"red_peppers\", \"chicory\", \"chanterelles\", \"chutney\", \"tamarind\", \"papaya\", \"black_olives\", \"endive\", \"pesto\", \"walnuts\", \"green_beans\", \"bok_choy\", \"portobello_mushrooms\", \"lemon_grass\", \"radicchio\", \"ricotta\", \"chicken_breast\", \"porcini\", \"blue_cheese\", \"snow_peas\", \"pickled\", \"Gorgonzola\", \"chorizo\", \"yams\", \"hazelnuts\", \"fresh_tomatoes\", \"shiitake_mushrooms\", \"anchovies\", \"wild_rice\", \"scallion\", \"red_onions\", \"broccoli_rape\", \"red_cabbage\", \"wasabi\", \"sweet_potato\", \"feta\", \"roasted_garlic\", \"compote\", \"napoleon\", \"aioli\", \"crab_meat\", \"cauliflower\", \"jicama\", \"parsnips\", \"apricots\", \"new_potatoes\", \"truffle_oil\", \"lemongrass\", \"pistachios\", \"saut\\u00e9ed\", \"gnocchi\", \"duck_confit\", \"fresh_herbs\", \"ratatouille\", \"white_beans\", \"croutons\", \"fresh_mozzarella\", \"squab\", \"watercress\", \"roasted_red_peppers\", \"pine_nuts\", \"fritters\", \"butternut_squash\", \"fava_beans\", \"drizzled\", \"red_onion\", \"pea_shoots\", \"rosemary\", \"romaine\", \"mustard_greens\", \"horseradish\", \"caramelized_onions\", \"artichoke_hearts\", \"fettuccine\", \"grilled_eggplant\", \"julienne\", \"plum_tomatoes\", \"grilled_chicken\", \"pineapple\", \"candied\", \"pancetta\", \"celery_root\", \"sea_scallops\", \"shiitake\", \"porcini_mushrooms\", \"sour_cream\", \"bean_sprouts\", \"oyster_mushrooms\", \"monkfish\", \"chickpeas\", \"coconut_milk\"]\n"
     ]
    }
   ],
   "source": [
    "lexicon.create_category(\"healthy_food\", [\"healthy_food\",\"low_carb\",\"kale\",\"avocado\"], model=\"nytimes\")"
   ]
  },
  {
   "cell_type": "code",
   "execution_count": 78,
   "metadata": {},
   "outputs": [
    {
     "name": "stdout",
     "output_type": "stream",
     "text": [
      "[\"green_vegetables\", \"leafy_greens\", \"whole_grain_bread\", \"brown_rice\", \"white_rice\", \"green_veggies\", \"veggies\", \"whole_wheat_bread\", \"sweet_potatoes\", \"raw_veggies\", \"lean_meat\", \"spinach\", \"fatty_meat\", \"kale\", \"sweet_potato\", \"avocado\", \"hummus\", \"chicken_breast\", \"veggie\", \"whole_grain\", \"vegetables\", \"whole_wheat_pasta\", \"salads\", \"broccoli\", \"greek_yogurt\", \"Greek_yogurt\", \"yogurt\", \"avocados\", \"rice_cakes\", \"raw_vegetables\", \"almonds\", \"lean_protein\", \"grilled_chicken\", \"quinoa\", \"steamed_broccoli\", \"whole_grain_pasta\", \"brocolli\", \"kale\", \"avocado\", \"tofu\", \"Veggies\", \"edamame\", \"more_veggies\", \"lean_meats\", \"quinoa\", \"salad\", \"cottage_cheese\", \"whole_wheat\", \"wheat_bread\", \"romaine_lettuce\", \"white_bread\", \"raw_spinach\", \"oatmeal\", \"white_potatoes\", \"almond_butter\", \"pork_rinds\", \"veg\", \"cashews\", \"greek_yoghurt\", \"baby_carrots\", \"fresh_veggies\", \"fatty_meats\", \"more_vegetables\", \"avacado\", \"veges\", \"nut_butter\", \"hard_boiled_eggs\", \"carrot_sticks\", \"whole_grains\", \"grilled_chicken_breast\", \"steamed_vegetables\", \"meats\", \"lentils\", \"green_beans\", \"low_cal\", \"nuts/seeds\", \"iceberg_lettuce\", \"carrots\", \"red_meat\", \"other_foods\", \"fried_foods\", \"smoothies\", \"healthy_fats\", \"vegies\", \"avacados\", \"other_vegetables\", \"fresh_fruit\", \"spinach_salad\", \"egg_whites\", \"steamed_veggies\", \"nut_butters\", \"ground_turkey\", \"baked_chicken\"]\n"
     ]
    }
   ],
   "source": [
    "lexicon.create_category(\"healthy_food\", [\"healthy_food\",\"low_carb\",\"kale\",\"avocado\"], model=\"reddit\")"
   ]
  },
  {
   "cell_type": "code",
   "execution_count": 79,
   "metadata": {},
   "outputs": [
    {
     "name": "stdout",
     "output_type": "stream",
     "text": [
      "[\"turkey\", \"roast_beef\", \"white_bread\", \"fried_chicken\", \"pancakes\", \"peanut_butter\", \"gefilte_fish\", \"stuffing\", \"French_fries\", \"meatloaf\", \"brisket\", \"potato_salad\", \"pumpkin_pie\", \"scrambled_eggs\", \"french_fries\", \"spaghetti\", \"gravy\", \"tamales\", \"pot_roast\", \"oatmeal\", \"lasagna\", \"corned_beef\", \"latkes\", \"pickles\", \"sauerkraut\", \"burger\", \"grits\", \"biscuits\", \"hamburger\", \"salad_bar\", \"corn_bread\", \"chicken_soup\", \"bacon\", \"cream_cheese\", \"brownies\", \"tofu\", \"pastrami\", \"pork_chops\", \"salami\", \"marshmallows\", \"collard_greens\", \"macaroni\", \"pies\", \"raw_fish\", \"eggnog\", \"cheeseburgers\", \"truffles\", \"chocolate_cake\", \"hard-boiled_eggs\", \"baked_potatoes\", \"venison\", \"cottage_cheese\", \"pheasant\", \"applesauce\", \"quail\", \"fruit_salad\", \"meatballs\", \"chocolate_chip_cookies\", \"tacos\", \"roast\", \"jelly\", \"chicken_salad\", \"omelet\", \"gumbo\", \"steaks\", \"soup\", \"lox\", \"sausage\", \"roast_chicken\", \"rye\", \"bagel\", \"fruitcake\", \"fries\", \"fried_eggs\", \"ketchup\", \"chicken_wings\", \"barbecue_sauce\", \"sweet_potatoes\", \"pasta\", \"sausages\", \"crackers\", \"omelets\", \"roasting\", \"French_toast\", \"muffins\", \"mashed_potatoes\", \"fresh_fruit\", \"baked_potato\", \"waffles\", \"cranberry_sauce\", \"baked_beans\", \"cheese\", \"tripe\", \"noodles\", \"maple_syrup\", \"quiche\", \"buns\", \"baklava\", \"stews\"]\n"
     ]
    }
   ],
   "source": [
    "lexicon.create_category(\"festive_food\", [\"festive_food\",\"turkey\",\"eggnog\"], model=\"nytimes\")"
   ]
  },
  {
   "cell_type": "markdown",
   "metadata": {},
   "source": [
    "### List of further resources\n",
    "    * NLTK\n",
    "    * Jellyfish: string similarity library\n",
    "    * TextBlob: simplified text processing\n",
    "    * PyEnchant: language detection\n",
    "    * WordNet: ontology of concepts (inc. in NLTK)\n",
    "    * Stanford NLP (Java)\n",
    "    * Tweet NLP: https://www.cs.cmu.edu/~ark/TweetNLP/"
   ]
  },
  {
   "cell_type": "markdown",
   "metadata": {},
   "source": [
    "## Part 2"
   ]
  },
  {
   "cell_type": "markdown",
   "metadata": {},
   "source": [
    "### Question 1:\n",
    "An NLP preprocessing model, using the list of stopwords ['a', 'the', 'is', 'you', 'I','my','with','was'] for the input sentence\n",
    "“I was driving down the street with my CAR! :)” <br>\n",
    "gives the following output: {driving, down, street, car, :)}.\n",
    "The model consists of: <br>\n",
    "\n",
    "a) Stopword Removal, Casefolding and Stemming <br>\n",
    "**b) Stopword Removal and Casefolding <br>**\n",
    "c) Stopword Removal and Stemming <br>\n",
    "d) Casefolding and Stemming <br>"
   ]
  },
  {
   "cell_type": "code",
   "execution_count": 65,
   "metadata": {
    "collapsed": true,
    "jupyter": {
     "outputs_hidden": true
    }
   },
   "outputs": [],
   "source": [
    "# write your code and/or answer here"
   ]
  },
  {
   "cell_type": "markdown",
   "metadata": {},
   "source": [
    "### Question 2:\n",
    "What statement is false about topic detection using LSA: <br>\n",
    "\n",
    "a) It finds the representation of documents and words in the latent \"topic space\" <br>\n",
    "b) It produces topics interpretable in “word space” <br>\n",
    "**c) A document's topic representation is a probability distribution over topics <br>**\n",
    "d) The vectors representing topics in “word space” are linearly independent <br>"
   ]
  },
  {
   "cell_type": "code",
   "execution_count": 66,
   "metadata": {
    "collapsed": true,
    "jupyter": {
     "outputs_hidden": true
    }
   },
   "outputs": [],
   "source": [
    "# write your code and/or answer here"
   ]
  },
  {
   "cell_type": "markdown",
   "metadata": {},
   "source": [
    "### Question 3:\n",
    "The problem of having more features than documents when using a TF-IDF matrix for document classification cannot be addressed by: <br>\n",
    "\n",
    "a) Using SVD for dimensionality reduction <br>\n",
    "**b) Using min-max scaling of features <br>**\n",
    "c) Penalizing very large positive and very large negative weights (a.k.a. regularization) <br>\n",
    "d) Using online feature selection <br>"
   ]
  },
  {
   "cell_type": "code",
   "execution_count": 67,
   "metadata": {
    "collapsed": true,
    "jupyter": {
     "outputs_hidden": true
    }
   },
   "outputs": [],
   "source": [
    "# write your code and/or answer here"
   ]
  },
  {
   "cell_type": "markdown",
   "metadata": {},
   "source": [
    "### Question 4:\n",
    "Which of the following is false about word vectors: <br>\n",
    "\n",
    "a) Word2vec is used to achieve a lower dimensional representation than bag of words <br>\n",
    "b) Semantically similar words typically have similar word2vec vectors <br>\n",
    "**c) Each dimension in the word2vec embedding has a clear interpretation <br>**\n",
    "d) Word2Vec can be used for the computation of sentence vectors <br>"
   ]
  },
  {
   "cell_type": "code",
   "execution_count": 68,
   "metadata": {
    "collapsed": true,
    "jupyter": {
     "outputs_hidden": true
    }
   },
   "outputs": [],
   "source": [
    "# write your code and/or answer here"
   ]
  },
  {
   "cell_type": "markdown",
   "metadata": {},
   "source": [
    "### Question 5:\n",
    "Given the following word (W) / context (C) co-occurrence frequencies, which statement is true regarding the pointwise mutual information (PMI)?\n",
    "\n",
    "|  |W1|W2|W3|\n",
    "|--|--|--|--|\n",
    "|C1| 2| 0| 3|\n",
    "|C2| 6| 4| 0|\n",
    "|C3| 1| 1| 3|\n",
    "\n",
    "a) PMI(w=W1, c=C2) > PMI(w=W2, c=C2) > PMI(w=W3, c=C3) <br>\n",
    "b) PMI(w=W2, c=C2) > PMI(w=W1, c=C2) >  PMI(w=W3, c=C3) <br>\n",
    "c) PMI(w=W3, c=C3) > PMI(w=W1, c=C2) > PMI(w=W2, c=C2) <br>\n",
    "**d) PMI(w=W3, c=C3) > PMI(w=W2, c=C2) > PMI(w=W1, c=C2) <br>**"
   ]
  },
  {
   "cell_type": "code",
   "execution_count": 69,
   "metadata": {
    "collapsed": true,
    "jupyter": {
     "outputs_hidden": true
    }
   },
   "outputs": [],
   "source": [
    "# write your code and/or answer here"
   ]
  },
  {
   "cell_type": "code",
   "execution_count": null,
   "metadata": {
    "collapsed": true,
    "jupyter": {
     "outputs_hidden": true
    }
   },
   "outputs": [],
   "source": []
  }
 ],
 "metadata": {
  "kernelspec": {
   "display_name": "Python 3 (ipykernel)",
   "language": "python",
   "name": "python3"
  },
  "language_info": {
   "codemirror_mode": {
    "name": "ipython",
    "version": 3
   },
   "file_extension": ".py",
   "mimetype": "text/x-python",
   "name": "python",
   "nbconvert_exporter": "python",
   "pygments_lexer": "ipython3",
   "version": "3.8.12"
  },
  "toc": {
   "colors": {
    "hover_highlight": "#DAA520",
    "navigate_num": "#000000",
    "navigate_text": "#333333",
    "running_highlight": "#FF0000",
    "selected_highlight": "#FFD700",
    "sidebar_border": "#EEEEEE",
    "wrapper_background": "#FFFFFF"
   },
   "moveMenuLeft": true,
   "nav_menu": {
    "height": "228px",
    "width": "252px"
   },
   "navigate_menu": true,
   "number_sections": true,
   "sideBar": true,
   "threshold": 4,
   "toc_cell": false,
   "toc_section_display": "block",
   "toc_window_display": false,
   "widenNotebook": false
  },
  "varInspector": {
   "cols": {
    "lenName": 16,
    "lenType": 16,
    "lenVar": 40
   },
   "kernels_config": {
    "python": {
     "delete_cmd_postfix": "",
     "delete_cmd_prefix": "del ",
     "library": "var_list.py",
     "varRefreshCmd": "print(var_dic_list())"
    },
    "r": {
     "delete_cmd_postfix": ") ",
     "delete_cmd_prefix": "rm(",
     "library": "var_list.r",
     "varRefreshCmd": "cat(var_dic_list()) "
    }
   },
   "types_to_exclude": [
    "module",
    "function",
    "builtin_function_or_method",
    "instance",
    "_Feature"
   ],
   "window_display": false
  }
 },
 "nbformat": 4,
 "nbformat_minor": 4
}
