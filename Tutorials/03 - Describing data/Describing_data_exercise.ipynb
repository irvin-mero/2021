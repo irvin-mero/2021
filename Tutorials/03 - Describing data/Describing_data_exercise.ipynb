{
 "cells": [
  {
   "cell_type": "markdown",
   "metadata": {},
   "source": [
    "### In this exercise, first, you will familiarize yourself with python libraries statsmodels and SciPy that let you do statistical analysis: calculate descriptive statistics, sample the. datapoints, study relationship between variables, and perform hypothesis testing. Then, second, you will work independently on a set of exercises that will let you practice your skills.\n",
    "\n",
    "### Here we show a couple of examples of how to do common analyses, but there are many more useful statistical distributions and statistical tests. In the linked documentation, you will find complete information, and a lot more details compared to what is outlined in this notebook:\n",
    "- [statsmodels](https://www.statsmodels.org/stable/examples/index.html), [more complete documentation](https://www.statsmodels.org/stable/stats.html)\n",
    "- [SciPy](https://docs.scipy.org/doc/scipy/reference/stats.html)"
   ]
  },
  {
   "cell_type": "markdown",
   "metadata": {},
   "source": [
    "# Tutorial: How to use the libraries\n",
    "\n",
    "- You will be working with the full US 2015 census dataset (acs2015_county_data.csv, available at https://www.kaggle.com/muonneutrino/us-census-demographic-data#acs2015_county_data.csv). Here we load it. Take some time to familiarize yourself with the contents. One row represents one county."
   ]
  },
  {
   "cell_type": "code",
   "execution_count": 84,
   "metadata": {
    "tags": []
   },
   "outputs": [],
   "source": [
    "import pandas as pd\n",
    "import pandas as pd\n",
    "import numpy as np\n",
    "import matplotlib.pyplot as plt\n",
    "%matplotlib inline\n",
    "import seaborn as sns\n",
    "import math\n",
    "\n",
    "#load the statistical libraries\n",
    "from statsmodels.stats import diagnostic\n",
    "from statsmodels.stats import proportion\n",
    "from scipy import stats"
   ]
  },
  {
   "cell_type": "code",
   "execution_count": 4,
   "metadata": {
    "tags": []
   },
   "outputs": [],
   "source": [
    "data_folder = './data/'\n",
    "df = pd.read_csv(data_folder + 'acs2015_county_data.csv')"
   ]
  },
  {
   "cell_type": "code",
   "execution_count": 5,
   "metadata": {},
   "outputs": [
    {
     "data": {
      "text/plain": [
       "Index(['CensusId', 'State', 'County', 'TotalPop', 'Men', 'Women', 'Hispanic',\n",
       "       'White', 'Black', 'Native', 'Asian', 'Pacific', 'Citizen', 'Income',\n",
       "       'IncomeErr', 'IncomePerCap', 'IncomePerCapErr', 'Poverty',\n",
       "       'ChildPoverty', 'Professional', 'Service', 'Office', 'Construction',\n",
       "       'Production', 'Drive', 'Carpool', 'Transit', 'Walk', 'OtherTransp',\n",
       "       'WorkAtHome', 'MeanCommute', 'Employed', 'PrivateWork', 'PublicWork',\n",
       "       'SelfEmployed', 'FamilyWork', 'Unemployment'],\n",
       "      dtype='object')"
      ]
     },
     "execution_count": 5,
     "metadata": {},
     "output_type": "execute_result"
    }
   ],
   "source": [
    "df.columns"
   ]
  },
  {
   "cell_type": "code",
   "execution_count": 22,
   "metadata": {},
   "outputs": [
    {
     "data": {
      "text/html": [
       "<div>\n",
       "<style scoped>\n",
       "    .dataframe tbody tr th:only-of-type {\n",
       "        vertical-align: middle;\n",
       "    }\n",
       "\n",
       "    .dataframe tbody tr th {\n",
       "        vertical-align: top;\n",
       "    }\n",
       "\n",
       "    .dataframe thead th {\n",
       "        text-align: right;\n",
       "    }\n",
       "</style>\n",
       "<table border=\"1\" class=\"dataframe\">\n",
       "  <thead>\n",
       "    <tr style=\"text-align: right;\">\n",
       "      <th></th>\n",
       "      <th>CensusId</th>\n",
       "      <th>State</th>\n",
       "      <th>County</th>\n",
       "      <th>TotalPop</th>\n",
       "      <th>Men</th>\n",
       "      <th>Women</th>\n",
       "      <th>Hispanic</th>\n",
       "      <th>White</th>\n",
       "      <th>Black</th>\n",
       "      <th>Native</th>\n",
       "      <th>...</th>\n",
       "      <th>Walk</th>\n",
       "      <th>OtherTransp</th>\n",
       "      <th>WorkAtHome</th>\n",
       "      <th>MeanCommute</th>\n",
       "      <th>Employed</th>\n",
       "      <th>PrivateWork</th>\n",
       "      <th>PublicWork</th>\n",
       "      <th>SelfEmployed</th>\n",
       "      <th>FamilyWork</th>\n",
       "      <th>Unemployment</th>\n",
       "    </tr>\n",
       "  </thead>\n",
       "  <tbody>\n",
       "    <tr>\n",
       "      <th>1666</th>\n",
       "      <td>31025</td>\n",
       "      <td>Nebraska</td>\n",
       "      <td>Cass</td>\n",
       "      <td>25360</td>\n",
       "      <td>12729</td>\n",
       "      <td>12631</td>\n",
       "      <td>2.9</td>\n",
       "      <td>94.6</td>\n",
       "      <td>1.0</td>\n",
       "      <td>0.2</td>\n",
       "      <td>...</td>\n",
       "      <td>2.2</td>\n",
       "      <td>0.8</td>\n",
       "      <td>3.1</td>\n",
       "      <td>26.6</td>\n",
       "      <td>13103</td>\n",
       "      <td>76.1</td>\n",
       "      <td>17.6</td>\n",
       "      <td>6.1</td>\n",
       "      <td>0.2</td>\n",
       "      <td>3.8</td>\n",
       "    </tr>\n",
       "    <tr>\n",
       "      <th>1622</th>\n",
       "      <td>30049</td>\n",
       "      <td>Montana</td>\n",
       "      <td>Lewis and Clark</td>\n",
       "      <td>65357</td>\n",
       "      <td>32482</td>\n",
       "      <td>32875</td>\n",
       "      <td>2.9</td>\n",
       "      <td>91.8</td>\n",
       "      <td>0.5</td>\n",
       "      <td>2.3</td>\n",
       "      <td>...</td>\n",
       "      <td>4.3</td>\n",
       "      <td>2.0</td>\n",
       "      <td>4.5</td>\n",
       "      <td>16.8</td>\n",
       "      <td>33126</td>\n",
       "      <td>62.8</td>\n",
       "      <td>30.6</td>\n",
       "      <td>6.4</td>\n",
       "      <td>0.2</td>\n",
       "      <td>4.9</td>\n",
       "    </tr>\n",
       "    <tr>\n",
       "      <th>998</th>\n",
       "      <td>21011</td>\n",
       "      <td>Kentucky</td>\n",
       "      <td>Bath</td>\n",
       "      <td>11978</td>\n",
       "      <td>5947</td>\n",
       "      <td>6031</td>\n",
       "      <td>1.4</td>\n",
       "      <td>95.7</td>\n",
       "      <td>1.6</td>\n",
       "      <td>0.1</td>\n",
       "      <td>...</td>\n",
       "      <td>1.6</td>\n",
       "      <td>0.4</td>\n",
       "      <td>4.4</td>\n",
       "      <td>24.2</td>\n",
       "      <td>4045</td>\n",
       "      <td>68.8</td>\n",
       "      <td>21.1</td>\n",
       "      <td>9.9</td>\n",
       "      <td>0.2</td>\n",
       "      <td>14.0</td>\n",
       "    </tr>\n",
       "    <tr>\n",
       "      <th>243</th>\n",
       "      <td>6115</td>\n",
       "      <td>California</td>\n",
       "      <td>Yuba</td>\n",
       "      <td>73437</td>\n",
       "      <td>37300</td>\n",
       "      <td>36137</td>\n",
       "      <td>26.7</td>\n",
       "      <td>56.8</td>\n",
       "      <td>3.2</td>\n",
       "      <td>1.0</td>\n",
       "      <td>...</td>\n",
       "      <td>1.5</td>\n",
       "      <td>1.8</td>\n",
       "      <td>5.0</td>\n",
       "      <td>30.6</td>\n",
       "      <td>25499</td>\n",
       "      <td>69.0</td>\n",
       "      <td>21.5</td>\n",
       "      <td>9.3</td>\n",
       "      <td>0.2</td>\n",
       "      <td>14.8</td>\n",
       "    </tr>\n",
       "    <tr>\n",
       "      <th>563</th>\n",
       "      <td>16025</td>\n",
       "      <td>Idaho</td>\n",
       "      <td>Camas</td>\n",
       "      <td>1052</td>\n",
       "      <td>538</td>\n",
       "      <td>514</td>\n",
       "      <td>11.3</td>\n",
       "      <td>87.5</td>\n",
       "      <td>0.0</td>\n",
       "      <td>1.0</td>\n",
       "      <td>...</td>\n",
       "      <td>3.6</td>\n",
       "      <td>3.0</td>\n",
       "      <td>6.9</td>\n",
       "      <td>26.7</td>\n",
       "      <td>500</td>\n",
       "      <td>66.0</td>\n",
       "      <td>21.8</td>\n",
       "      <td>11.2</td>\n",
       "      <td>1.0</td>\n",
       "      <td>5.8</td>\n",
       "    </tr>\n",
       "    <tr>\n",
       "      <th>1592</th>\n",
       "      <td>29221</td>\n",
       "      <td>Missouri</td>\n",
       "      <td>Washington</td>\n",
       "      <td>25048</td>\n",
       "      <td>12920</td>\n",
       "      <td>12128</td>\n",
       "      <td>0.3</td>\n",
       "      <td>94.5</td>\n",
       "      <td>2.0</td>\n",
       "      <td>0.6</td>\n",
       "      <td>...</td>\n",
       "      <td>0.8</td>\n",
       "      <td>1.2</td>\n",
       "      <td>2.4</td>\n",
       "      <td>35.5</td>\n",
       "      <td>9124</td>\n",
       "      <td>78.2</td>\n",
       "      <td>15.4</td>\n",
       "      <td>6.4</td>\n",
       "      <td>0.0</td>\n",
       "      <td>12.2</td>\n",
       "    </tr>\n",
       "    <tr>\n",
       "      <th>1893</th>\n",
       "      <td>37007</td>\n",
       "      <td>North Carolina</td>\n",
       "      <td>Anson</td>\n",
       "      <td>26135</td>\n",
       "      <td>13693</td>\n",
       "      <td>12442</td>\n",
       "      <td>3.4</td>\n",
       "      <td>45.4</td>\n",
       "      <td>48.8</td>\n",
       "      <td>0.3</td>\n",
       "      <td>...</td>\n",
       "      <td>1.1</td>\n",
       "      <td>0.8</td>\n",
       "      <td>1.2</td>\n",
       "      <td>27.4</td>\n",
       "      <td>9875</td>\n",
       "      <td>75.7</td>\n",
       "      <td>19.7</td>\n",
       "      <td>4.3</td>\n",
       "      <td>0.4</td>\n",
       "      <td>17.6</td>\n",
       "    </tr>\n",
       "    <tr>\n",
       "      <th>1004</th>\n",
       "      <td>21023</td>\n",
       "      <td>Kentucky</td>\n",
       "      <td>Bracken</td>\n",
       "      <td>8425</td>\n",
       "      <td>4203</td>\n",
       "      <td>4222</td>\n",
       "      <td>1.4</td>\n",
       "      <td>98.4</td>\n",
       "      <td>0.0</td>\n",
       "      <td>0.0</td>\n",
       "      <td>...</td>\n",
       "      <td>1.7</td>\n",
       "      <td>0.6</td>\n",
       "      <td>4.6</td>\n",
       "      <td>37.8</td>\n",
       "      <td>3486</td>\n",
       "      <td>77.9</td>\n",
       "      <td>15.3</td>\n",
       "      <td>6.9</td>\n",
       "      <td>0.0</td>\n",
       "      <td>8.3</td>\n",
       "    </tr>\n",
       "    <tr>\n",
       "      <th>509</th>\n",
       "      <td>13249</td>\n",
       "      <td>Georgia</td>\n",
       "      <td>Schley</td>\n",
       "      <td>5074</td>\n",
       "      <td>2517</td>\n",
       "      <td>2557</td>\n",
       "      <td>4.5</td>\n",
       "      <td>71.0</td>\n",
       "      <td>23.9</td>\n",
       "      <td>0.0</td>\n",
       "      <td>...</td>\n",
       "      <td>1.7</td>\n",
       "      <td>1.5</td>\n",
       "      <td>0.8</td>\n",
       "      <td>26.8</td>\n",
       "      <td>1964</td>\n",
       "      <td>70.9</td>\n",
       "      <td>23.6</td>\n",
       "      <td>5.5</td>\n",
       "      <td>0.0</td>\n",
       "      <td>12.4</td>\n",
       "    </tr>\n",
       "    <tr>\n",
       "      <th>599</th>\n",
       "      <td>17009</td>\n",
       "      <td>Illinois</td>\n",
       "      <td>Brown</td>\n",
       "      <td>6859</td>\n",
       "      <td>4377</td>\n",
       "      <td>2482</td>\n",
       "      <td>4.2</td>\n",
       "      <td>74.3</td>\n",
       "      <td>16.5</td>\n",
       "      <td>0.0</td>\n",
       "      <td>...</td>\n",
       "      <td>1.8</td>\n",
       "      <td>0.5</td>\n",
       "      <td>5.7</td>\n",
       "      <td>20.9</td>\n",
       "      <td>2772</td>\n",
       "      <td>73.8</td>\n",
       "      <td>17.4</td>\n",
       "      <td>8.8</td>\n",
       "      <td>0.0</td>\n",
       "      <td>5.4</td>\n",
       "    </tr>\n",
       "  </tbody>\n",
       "</table>\n",
       "<p>10 rows × 37 columns</p>\n",
       "</div>"
      ],
      "text/plain": [
       "      CensusId           State           County  TotalPop    Men  Women  \\\n",
       "1666     31025        Nebraska             Cass     25360  12729  12631   \n",
       "1622     30049         Montana  Lewis and Clark     65357  32482  32875   \n",
       "998      21011        Kentucky             Bath     11978   5947   6031   \n",
       "243       6115      California             Yuba     73437  37300  36137   \n",
       "563      16025           Idaho            Camas      1052    538    514   \n",
       "1592     29221        Missouri       Washington     25048  12920  12128   \n",
       "1893     37007  North Carolina            Anson     26135  13693  12442   \n",
       "1004     21023        Kentucky          Bracken      8425   4203   4222   \n",
       "509      13249         Georgia           Schley      5074   2517   2557   \n",
       "599      17009        Illinois            Brown      6859   4377   2482   \n",
       "\n",
       "      Hispanic  White  Black  Native  ...  Walk  OtherTransp  WorkAtHome  \\\n",
       "1666       2.9   94.6    1.0     0.2  ...   2.2          0.8         3.1   \n",
       "1622       2.9   91.8    0.5     2.3  ...   4.3          2.0         4.5   \n",
       "998        1.4   95.7    1.6     0.1  ...   1.6          0.4         4.4   \n",
       "243       26.7   56.8    3.2     1.0  ...   1.5          1.8         5.0   \n",
       "563       11.3   87.5    0.0     1.0  ...   3.6          3.0         6.9   \n",
       "1592       0.3   94.5    2.0     0.6  ...   0.8          1.2         2.4   \n",
       "1893       3.4   45.4   48.8     0.3  ...   1.1          0.8         1.2   \n",
       "1004       1.4   98.4    0.0     0.0  ...   1.7          0.6         4.6   \n",
       "509        4.5   71.0   23.9     0.0  ...   1.7          1.5         0.8   \n",
       "599        4.2   74.3   16.5     0.0  ...   1.8          0.5         5.7   \n",
       "\n",
       "      MeanCommute  Employed  PrivateWork  PublicWork  SelfEmployed  \\\n",
       "1666         26.6     13103         76.1        17.6           6.1   \n",
       "1622         16.8     33126         62.8        30.6           6.4   \n",
       "998          24.2      4045         68.8        21.1           9.9   \n",
       "243          30.6     25499         69.0        21.5           9.3   \n",
       "563          26.7       500         66.0        21.8          11.2   \n",
       "1592         35.5      9124         78.2        15.4           6.4   \n",
       "1893         27.4      9875         75.7        19.7           4.3   \n",
       "1004         37.8      3486         77.9        15.3           6.9   \n",
       "509          26.8      1964         70.9        23.6           5.5   \n",
       "599          20.9      2772         73.8        17.4           8.8   \n",
       "\n",
       "      FamilyWork  Unemployment  \n",
       "1666         0.2           3.8  \n",
       "1622         0.2           4.9  \n",
       "998          0.2          14.0  \n",
       "243          0.2          14.8  \n",
       "563          1.0           5.8  \n",
       "1592         0.0          12.2  \n",
       "1893         0.4          17.6  \n",
       "1004         0.0           8.3  \n",
       "509          0.0          12.4  \n",
       "599          0.0           5.4  \n",
       "\n",
       "[10 rows x 37 columns]"
      ]
     },
     "execution_count": 22,
     "metadata": {},
     "output_type": "execute_result"
    }
   ],
   "source": [
    "df.sample(10)"
   ]
  },
  {
   "cell_type": "markdown",
   "metadata": {},
   "source": [
    "- We will focus first on income per capita across counties."
   ]
  },
  {
   "cell_type": "code",
   "execution_count": 23,
   "metadata": {},
   "outputs": [
    {
     "data": {
      "text/plain": [
       "<AxesSubplot:>"
      ]
     },
     "execution_count": 23,
     "metadata": {},
     "output_type": "execute_result"
    },
    {
     "data": {
      "image/png": "[encoded data removed]",
      "text/plain": [
       "<Figure size 432x288 with 1 Axes>"
      ]
     },
     "metadata": {
      "needs_background": "light"
     },
     "output_type": "display_data"
    }
   ],
   "source": [
    "df['IncomePerCap'].hist(bins = 50)"
   ]
  },
  {
   "cell_type": "markdown",
   "metadata": {},
   "source": [
    "### 1. Calculating descriptive statisctics\n",
    "\n",
    "- Let's calculate basic descriptive statistics of the income per capita"
   ]
  },
  {
   "cell_type": "code",
   "execution_count": 24,
   "metadata": {},
   "outputs": [
    {
     "data": {
      "text/plain": [
       "count     3220.000000\n",
       "mean     23981.771739\n",
       "std       6204.339960\n",
       "min       5878.000000\n",
       "25%      20238.500000\n",
       "50%      23460.000000\n",
       "75%      27053.250000\n",
       "max      65600.000000\n",
       "Name: IncomePerCap, dtype: float64"
      ]
     },
     "execution_count": 24,
     "metadata": {},
     "output_type": "execute_result"
    }
   ],
   "source": [
    "df['IncomePerCap'].describe()"
   ]
  },
  {
   "cell_type": "markdown",
   "metadata": {},
   "source": [
    "- What distribution does the data come from? Here is how we can test the goodness of the fit."
   ]
  },
  {
   "cell_type": "code",
   "execution_count": 26,
   "metadata": {},
   "outputs": [
    {
     "data": {
      "text/plain": [
       "(0.0637621121184162, 0.0009999999999998899)"
      ]
     },
     "execution_count": 26,
     "metadata": {},
     "output_type": "execute_result"
    }
   ],
   "source": [
    "# does the data come from a normal distrbution?\n",
    "diagnostic.kstest_normal(df['IncomePerCap'].values, dist = 'norm')"
   ]
  },
  {
   "cell_type": "markdown",
   "metadata": {},
   "source": [
    "- p_value < 0.05 -> we can reject the null hypothesis that the data comes from a normal distribution!"
   ]
  },
  {
   "cell_type": "code",
   "execution_count": 27,
   "metadata": {},
   "outputs": [
    {
     "data": {
      "text/plain": [
       "(0.433243770582646, 0.0009999999999998899)"
      ]
     },
     "execution_count": 27,
     "metadata": {},
     "output_type": "execute_result"
    }
   ],
   "source": [
    "#how about exponential?\n",
    "diagnostic.kstest_normal(df['IncomePerCap'].values, dist = 'exp')"
   ]
  },
  {
   "cell_type": "markdown",
   "metadata": {},
   "source": [
    "- p < 0.05 -> not exponential either!"
   ]
  },
  {
   "cell_type": "markdown",
   "metadata": {},
   "source": [
    "### 2. How to sample the data"
   ]
  },
  {
   "cell_type": "markdown",
   "metadata": {},
   "source": [
    "- Often we need to find random samples from the dataset. We can do so conveniently with pandas wrappers."
   ]
  },
  {
   "cell_type": "code",
   "execution_count": 31,
   "metadata": {
    "tags": []
   },
   "outputs": [],
   "source": [
    "#make 10 samples with replacement\n",
    "sample1_counties = df.sample(n = 10, replace = True)\n",
    "\n",
    "#make 10 samples without replacement\n",
    "sample1_counties = df.sample(n = 10, replace = False)\n",
    "\n",
    "#sometimes we want to sample in an ublanaced way, so that we upsample datapoints of certain characteristic,\n",
    "#and downsample the others. this can be acieved with weights parameter\n",
    "#here we sample by upsampling counties with large population\n",
    "sample2_counties = df.sample(n = 10, replace = False, weights = df['TotalPop'])"
   ]
  },
  {
   "cell_type": "code",
   "execution_count": 32,
   "metadata": {},
   "outputs": [
    {
     "name": "stdout",
     "output_type": "stream",
     "text": [
      "103562.1\n",
      "1529235.9\n"
     ]
    }
   ],
   "source": [
    "#on avergage, the samples in the sample produce with reveighting now have higher population, as we wanted!\n",
    "print(sample1_counties['TotalPop'].mean())\n",
    "print(sample2_counties['TotalPop'].mean())"
   ]
  },
  {
   "cell_type": "markdown",
   "metadata": {},
   "source": [
    "### 3. Examining relationship between two variables"
   ]
  },
  {
   "cell_type": "markdown",
   "metadata": {},
   "source": [
    "- Is income per capita of a county correlated with the unemployment?"
   ]
  },
  {
   "cell_type": "code",
   "execution_count": 33,
   "metadata": {},
   "outputs": [
    {
     "data": {
      "text/plain": [
       "(0.2646136320394489, 9.942215354237806e-53)"
      ]
     },
     "execution_count": 33,
     "metadata": {},
     "output_type": "execute_result"
    }
   ],
   "source": [
    "stats.pearsonr(df['IncomePerCap'],df['Employed'])"
   ]
  },
  {
   "cell_type": "markdown",
   "metadata": {},
   "source": [
    "- There is a small (0.26), but significant (p < 0.05) positive correlation"
   ]
  },
  {
   "cell_type": "code",
   "execution_count": 34,
   "metadata": {},
   "outputs": [
    {
     "data": {
      "text/plain": [
       "SpearmanrResult(correlation=0.30770631560595474, pvalue=1.415296431173735e-71)"
      ]
     },
     "execution_count": 34,
     "metadata": {},
     "output_type": "execute_result"
    }
   ],
   "source": [
    "stats.spearmanr(df['IncomePerCap'],df['Employed'])"
   ]
  },
  {
   "cell_type": "markdown",
   "metadata": {},
   "source": [
    "- Spearman rank coorrelation is also significant, and slightly higher"
   ]
  },
  {
   "cell_type": "markdown",
   "metadata": {},
   "source": [
    "### 4. Hypothesis testing"
   ]
  },
  {
   "cell_type": "markdown",
   "metadata": {},
   "source": [
    "- Is income per capita higher in New York counties compared to California counties?"
   ]
  },
  {
   "cell_type": "code",
   "execution_count": 35,
   "metadata": {},
   "outputs": [
    {
     "data": {
      "text/plain": [
       "28189.75806451613"
      ]
     },
     "execution_count": 35,
     "metadata": {},
     "output_type": "execute_result"
    }
   ],
   "source": [
    "df.loc[df['State'] == 'New York']['IncomePerCap'].mean()"
   ]
  },
  {
   "cell_type": "code",
   "execution_count": 36,
   "metadata": {},
   "outputs": [
    {
     "data": {
      "text/plain": [
       "27902.603448275862"
      ]
     },
     "execution_count": 36,
     "metadata": {},
     "output_type": "execute_result"
    }
   ],
   "source": [
    "df.loc[df['State'] == 'California']['IncomePerCap'].mean()"
   ]
  },
  {
   "cell_type": "markdown",
   "metadata": {},
   "source": [
    "- We see that there is a ~300$ gap. Quite a lot!\n",
    "- But is it significantly higher? Let's use a t-test. This is a two-sided test for the null hypothesis that the two independent samples have identical average (expected) values. "
   ]
  },
  {
   "cell_type": "code",
   "execution_count": 38,
   "metadata": {},
   "outputs": [
    {
     "data": {
      "text/plain": [
       "Ttest_indResult(statistic=0.19788117232375713, pvalue=0.8434785239169611)"
      ]
     },
     "execution_count": 38,
     "metadata": {},
     "output_type": "execute_result"
    }
   ],
   "source": [
    "stats.ttest_ind(df.loc[df['State'] == 'New York']['IncomePerCap'], df.loc[df['State'] == 'California']['IncomePerCap'])"
   ]
  },
  {
   "cell_type": "markdown",
   "metadata": {},
   "source": [
    "- p is not less than 0.05 -> we cannot reject the null hypothesis that the income is the same -> there is no significant difference"
   ]
  },
  {
   "cell_type": "markdown",
   "metadata": {},
   "source": [
    "### 5. How to measure uncertainty\n",
    "- Now we see the importance of mesuring uncertainty and indicating it on data visualizations.\n",
    "- Visual inspection of 95% confidence intervals lets us see that the difference is not significant (the errorbars are overlapping)"
   ]
  },
  {
   "cell_type": "code",
   "execution_count": 39,
   "metadata": {},
   "outputs": [
    {
     "data": {
      "text/plain": [
       "(25000.0, 32000.0)"
      ]
     },
     "execution_count": 39,
     "metadata": {},
     "output_type": "execute_result"
    },
    {
     "data": {
      "image/png": "[encoded data removed]",
      "text/plain": [
       "<Figure size 432x288 with 1 Axes>"
      ]
     },
     "metadata": {
      "needs_background": "light"
     },
     "output_type": "display_data"
    }
   ],
   "source": [
    "ax = sns.barplot(x=\"State\", y=\"IncomePerCap\", data=df.loc[df['State'].isin(['New York','California'])])\n",
    "plt.ylim([25000,32000])"
   ]
  },
  {
   "cell_type": "markdown",
   "metadata": {},
   "source": [
    "# Exercise 1: Boosting the economy by incentivizing self-employment\n",
    "\n",
    "Assume the biggest priority of the local government in 2018 is to increase per-capita income. To do so, the officials plan to adopt a strategy for incentivizing self-employment through a series of campaigns, educational programs, and dedicated funds.\n",
    "\n",
    "Since it is unethical and impossible in this setting to run a controlled experiment involving citizens (e.g., fire employees and force them to self-employ), the officials have asked you, the data scientist, to establish the effect of self-employment on the economy, relying on observational data.\n",
    "\n",
    "**A)** Using suitable methods, determine and quantify the dependency between the percentage of self-employed citizens and per capita income across all 3,212 US counties. Do citizens in counties that have a higher percentage of self-employed people earn more per capita?"
   ]
  },
  {
   "cell_type": "code",
   "execution_count": 43,
   "metadata": {
    "tags": []
   },
   "outputs": [
    {
     "name": "stderr",
     "output_type": "stream",
     "text": [
      "/Users/JeanPierreMero/opt/anaconda3/envs/ada/lib/python3.8/site-packages/seaborn/_decorators.py:36: FutureWarning: Pass the following variables as keyword args: x, y. From version 0.12, the only valid positional argument will be `data`, and passing other arguments without an explicit keyword will result in an error or misinterpretation.\n",
      "  warnings.warn(\n"
     ]
    },
    {
     "data": {
      "text/plain": [
       "Text(4.925000000000011, 0.5, 'Income per Capita [$]')"
      ]
     },
     "execution_count": 43,
     "metadata": {},
     "output_type": "execute_result"
    },
    {
     "data": {
      "image/png": "[encoded data removed]",
      "text/plain": [
       "<Figure size 360x360 with 1 Axes>"
      ]
     },
     "metadata": {
      "needs_background": "light"
     },
     "output_type": "display_data"
    }
   ],
   "source": [
    "### your code and or answer here ###\n",
    "#stats.ttest_ind(df['SelfEmployed'],df['IncomePerCap'])\n",
    "import seaborn as sn\n",
    "\n",
    "per_capita_self_empl = df[['State','IncomePerCap', 'SelfEmployed']]\n",
    "sn.lmplot('SelfEmployed','IncomePerCap', data=per_capita_self_empl)\n",
    "plt.xlabel(\"Percentage of Self Employed people [%]\")\n",
    "plt.ylabel(\"Income per Capita [$]\")"
   ]
  },
  {
   "cell_type": "code",
   "execution_count": 47,
   "metadata": {},
   "outputs": [
    {
     "name": "stdout",
     "output_type": "stream",
     "text": [
      "(0.08727386609551788, 7.052861196521423e-07)\n"
     ]
    }
   ],
   "source": [
    "print(stats.pearsonr(per_capita_self_empl['SelfEmployed'],per_capita_self_empl['IncomePerCap']))"
   ]
  },
  {
   "cell_type": "markdown",
   "metadata": {},
   "source": [
    "**B)** The pilot program will involve all counties within a limited set of three US states. Set A includes Wisconsin, Tennessee, and  Minnesota. Quantify the dependency of per-capita income on self-employment rates across all the counties in set A."
   ]
  },
  {
   "cell_type": "code",
   "execution_count": 48,
   "metadata": {
    "tags": []
   },
   "outputs": [
    {
     "name": "stderr",
     "output_type": "stream",
     "text": [
      "/Users/JeanPierreMero/opt/anaconda3/envs/ada/lib/python3.8/site-packages/seaborn/_decorators.py:36: FutureWarning: Pass the following variables as keyword args: x, y. From version 0.12, the only valid positional argument will be `data`, and passing other arguments without an explicit keyword will result in an error or misinterpretation.\n",
      "  warnings.warn(\n"
     ]
    },
    {
     "data": {
      "text/plain": [
       "(0.0, 22.0)"
      ]
     },
     "execution_count": 48,
     "metadata": {},
     "output_type": "execute_result"
    },
    {
     "data": {
      "image/png": "[encoded data removed]",
      "text/plain": [
       "<Figure size 360x360 with 1 Axes>"
      ]
     },
     "metadata": {
      "needs_background": "light"
     },
     "output_type": "display_data"
    }
   ],
   "source": [
    "### your code and or answer here ###\n",
    "\n",
    "SetA_per_capita_self_empl = per_capita_self_empl.query(\"State == 'Wisconsin' | \\\n",
    "                                                        State == 'Tennessee' | \\\n",
    "                                                        State == 'Minnesota' \") \n",
    "\n",
    "sn.lmplot('SelfEmployed','IncomePerCap', data=SetA_per_capita_self_empl)\n",
    "plt.xlabel(\"Percentage of Self Employed people [%]\")\n",
    "plt.ylabel(\"Income per Capita [$]\")\n",
    "plt.ylim([10000,50000])\n",
    "plt.xlim([0,22])"
   ]
  },
  {
   "cell_type": "code",
   "execution_count": 49,
   "metadata": {},
   "outputs": [
    {
     "name": "stdout",
     "output_type": "stream",
     "text": [
      "(-0.202293507365215, 0.0011881639322139396)\n"
     ]
    }
   ],
   "source": [
    "print(stats.pearsonr(SetA_per_capita_self_empl['SelfEmployed'],SetA_per_capita_self_empl['IncomePerCap']))"
   ]
  },
  {
   "cell_type": "markdown",
   "metadata": {},
   "source": [
    "**C)** In which state within set A is the observed effect of self-employment on per-capita income the strongest?"
   ]
  },
  {
   "cell_type": "code",
   "execution_count": 50,
   "metadata": {
    "tags": []
   },
   "outputs": [
    {
     "name": "stderr",
     "output_type": "stream",
     "text": [
      "/Users/JeanPierreMero/opt/anaconda3/envs/ada/lib/python3.8/site-packages/seaborn/_decorators.py:36: FutureWarning: Pass the following variables as keyword args: x, y. From version 0.12, the only valid positional argument will be `data`, and passing other arguments without an explicit keyword will result in an error or misinterpretation.\n",
      "  warnings.warn(\n"
     ]
    },
    {
     "data": {
      "text/plain": [
       "(0.0, 22.0)"
      ]
     },
     "execution_count": 50,
     "metadata": {},
     "output_type": "execute_result"
    },
    {
     "data": {
      "image/png": "[encoded data removed]",
      "text/plain": [
       "<Figure size 448x360 with 1 Axes>"
      ]
     },
     "metadata": {
      "needs_background": "light"
     },
     "output_type": "display_data"
    }
   ],
   "source": [
    "### your code and or answer here ###\n",
    "sn.lmplot('SelfEmployed','IncomePerCap', data=SetA_per_capita_self_empl, hue = 'State')\n",
    "#hue definit le subset des données...\n",
    "plt.xlabel(\"Percentage of Self Employed people [%]\")\n",
    "plt.ylabel(\"Income per Capita [$]\")\n",
    "plt.ylim([10000,50000])\n",
    "plt.xlim([0,22])"
   ]
  },
  {
   "cell_type": "code",
   "execution_count": 52,
   "metadata": {},
   "outputs": [
    {
     "name": "stdout",
     "output_type": "stream",
     "text": [
      "(-0.32905300016378525, 0.004768134887745222)\n",
      "(-0.23836048684913147, 0.02001163195552807)\n",
      "(-0.2538551921654062, 0.01766519930091192)\n"
     ]
    }
   ],
   "source": [
    "Wisconsin_per_capita_self_empl = SetA_per_capita_self_empl.query(\"State == 'Wisconsin'\") \n",
    "Tennessee_per_capita_self_empl = SetA_per_capita_self_empl.query(\"State == 'Tennessee'\") \n",
    "Minnesota_per_capita_self_empl = SetA_per_capita_self_empl.query(\"State == 'Minnesota'\") \n",
    "\n",
    "print(stats.pearsonr(Wisconsin_per_capita_self_empl['SelfEmployed'],Wisconsin_per_capita_self_empl['IncomePerCap']))\n",
    "print(stats.pearsonr(Tennessee_per_capita_self_empl['SelfEmployed'],Tennessee_per_capita_self_empl['IncomePerCap']))\n",
    "print(stats.pearsonr(Minnesota_per_capita_self_empl['SelfEmployed'],Minnesota_per_capita_self_empl['IncomePerCap']))"
   ]
  },
  {
   "cell_type": "markdown",
   "metadata": {},
   "source": [
    "In winsconsin is the strongest negative dependency "
   ]
  },
  {
   "cell_type": "markdown",
   "metadata": {},
   "source": [
    "**D)** Set B includes New Jersey, Kansas, and Rhode Island. Repeat the analysis from steps B and C above, but now for set B. In which of the two sets A and B (if any) would you recommend incentivizing self-employment? Explain your reasoning. Hint: It is useful to add a notion of confidence to your results and explore the data visually."
   ]
  },
  {
   "cell_type": "code",
   "execution_count": 53,
   "metadata": {},
   "outputs": [
    {
     "name": "stderr",
     "output_type": "stream",
     "text": [
      "/Users/JeanPierreMero/opt/anaconda3/envs/ada/lib/python3.8/site-packages/seaborn/_decorators.py:36: FutureWarning: Pass the following variables as keyword args: x, y. From version 0.12, the only valid positional argument will be `data`, and passing other arguments without an explicit keyword will result in an error or misinterpretation.\n",
      "  warnings.warn(\n"
     ]
    },
    {
     "data": {
      "text/plain": [
       "(0.0, 22.0)"
      ]
     },
     "execution_count": 53,
     "metadata": {},
     "output_type": "execute_result"
    },
    {
     "data": {
      "image/png": "[encoded data removed]",
      "text/plain": [
       "<Figure size 360x360 with 1 Axes>"
      ]
     },
     "metadata": {
      "needs_background": "light"
     },
     "output_type": "display_data"
    }
   ],
   "source": [
    "SetB_per_capita_self_empl = per_capita_self_empl.query(\"State == 'New Jersey' | \\\n",
    "                                                        State == 'Kansas' | \\\n",
    "                                                        State == 'Rhode Island' \") \n",
    "\n",
    "sn.lmplot('SelfEmployed','IncomePerCap', data=SetB_per_capita_self_empl)\n",
    "plt.xlabel(\"Percentage of Self Employed people [%]\")\n",
    "plt.ylabel(\"Income per Capita [$]\")\n",
    "plt.ylim([10000,50000])\n",
    "plt.xlim([0,22])"
   ]
  },
  {
   "cell_type": "code",
   "execution_count": 57,
   "metadata": {},
   "outputs": [
    {
     "name": "stdout",
     "output_type": "stream",
     "text": [
      "(-0.2322214134608569, 0.007607493042857402)\n"
     ]
    }
   ],
   "source": [
    "print(stats.pearsonr(SetB_per_capita_self_empl['SelfEmployed'],SetB_per_capita_self_empl['IncomePerCap']))"
   ]
  },
  {
   "cell_type": "code",
   "execution_count": 59,
   "metadata": {},
   "outputs": [
    {
     "name": "stderr",
     "output_type": "stream",
     "text": [
      "/Users/JeanPierreMero/opt/anaconda3/envs/ada/lib/python3.8/site-packages/seaborn/_decorators.py:36: FutureWarning: Pass the following variables as keyword args: x, y. From version 0.12, the only valid positional argument will be `data`, and passing other arguments without an explicit keyword will result in an error or misinterpretation.\n",
      "  warnings.warn(\n"
     ]
    },
    {
     "data": {
      "text/plain": [
       "(0.0, 25.0)"
      ]
     },
     "execution_count": 59,
     "metadata": {},
     "output_type": "execute_result"
    },
    {
     "data": {
      "image/png": "[encoded data removed]",
      "text/plain": [
       "<Figure size 460.75x360 with 1 Axes>"
      ]
     },
     "metadata": {
      "needs_background": "light"
     },
     "output_type": "display_data"
    }
   ],
   "source": [
    "sn.lmplot('SelfEmployed','IncomePerCap', data=SetB_per_capita_self_empl, hue = 'State')\n",
    "plt.xlabel(\"Percentage of Self Employed people [%]\")\n",
    "plt.ylabel(\"Income per Capita [$]\")\n",
    "plt.ylim([10000,60000])\n",
    "plt.xlim([0,25])"
   ]
  },
  {
   "cell_type": "code",
   "execution_count": 56,
   "metadata": {
    "tags": []
   },
   "outputs": [
    {
     "name": "stdout",
     "output_type": "stream",
     "text": [
      "(0.48044784713362815, 0.027488944757806236)\n",
      "(0.2581029971443692, 0.00785335184683246)\n",
      "(0.9021788382149805, 0.03618310201575917)\n"
     ]
    }
   ],
   "source": [
    "### your code and or answer here ###\n",
    "\n",
    "NewJersey_per_capita_self_empl = SetB_per_capita_self_empl.query(\"State == 'New Jersey'\") \n",
    "Kansas_per_capita_self_empl = SetB_per_capita_self_empl.query(\"State == 'Kansas'\") \n",
    "RhodeIsland_per_capita_self_empl = SetB_per_capita_self_empl.query(\"State == 'Rhode Island'\") \n",
    "\n",
    "print(stats.pearsonr(NewJersey_per_capita_self_empl['SelfEmployed'],NewJersey_per_capita_self_empl['IncomePerCap']))\n",
    "print(stats.pearsonr(Kansas_per_capita_self_empl['SelfEmployed'],Kansas_per_capita_self_empl['IncomePerCap']))\n",
    "print(stats.pearsonr(RhodeIsland_per_capita_self_empl['SelfEmployed'],RhodeIsland_per_capita_self_empl['IncomePerCap']))"
   ]
  },
  {
   "cell_type": "markdown",
   "metadata": {},
   "source": [
    "In New Jersey higher dependancy"
   ]
  },
  {
   "cell_type": "code",
   "execution_count": 60,
   "metadata": {},
   "outputs": [],
   "source": [
    "# There is a weak negative dependency overall, moderate to strong positive when disaggregated.\n",
    "# This is a Simpson’s Paradox: the effect is reversed when the data is aggregated.\n",
    "# We would recommend in set B, not in set A (there is significant positive correlation within\n",
    "# all states separately in set B)"
   ]
  },
  {
   "cell_type": "code",
   "execution_count": null,
   "metadata": {},
   "outputs": [],
   "source": []
  },
  {
   "cell_type": "markdown",
   "metadata": {},
   "source": [
    "# Exercise 2. Data visualization and read the stats comprehension and interpretation questions.\n",
    "\n",
    "- As part of the quizes, two homeworks and the final exam, you will be at times asked to interpret your result based on the understanding of underlying concepts. The questions below can help you practice and get a sense of how well you understand the concepts covered in the class so far. Can you answer these questions confidently?"
   ]
  },
  {
   "cell_type": "markdown",
   "metadata": {},
   "source": [
    "### Question 1. The yearly salaries (in thousands of CHF) of 7000 people are summarized in the following box plot. If the 20th percentile of the salaries is 110,000, how many people earn between 110,000 and 114,000?\n",
    "\n",
    "- a) 2100\n",
    "- b) 700\n",
    "- c) 350\n",
    "- d) 70"
   ]
  },
  {
   "cell_type": "markdown",
   "metadata": {},
   "source": [
    "<img src=\"boxplot.png\" style=\"width: 400px;\" align=\"left\"/>"
   ]
  },
  {
   "cell_type": "code",
   "execution_count": 62,
   "metadata": {
    "tags": []
   },
   "outputs": [],
   "source": [
    "### your code and or answer here ###\n",
    "#350"
   ]
  },
  {
   "cell_type": "markdown",
   "metadata": {},
   "source": [
    "### Question 2. What visualizations are suitable for getting insights about the distribution of a single continuous variable?\n",
    "\n",
    "- a) Barplot and histogram\n",
    "- b) Boxplot and histogram\n",
    "- c) Scatterplot and boxplot\n",
    "- d) Barplot, boxplot, and histogram"
   ]
  },
  {
   "cell_type": "code",
   "execution_count": 61,
   "metadata": {
    "tags": []
   },
   "outputs": [],
   "source": [
    "### your code and or answer here ###\n",
    "#b"
   ]
  },
  {
   "cell_type": "markdown",
   "metadata": {},
   "source": [
    "### Question 3. In a new groundbreaking study, 28 out of 100 patients reported improvements after taking a new medicine. It is known that, when given a placebo, 20% of the patients report feeling better. What is the p-value assuming the null hypothesis that the probability of successful treatment in this groundbreaking study is the same as the probability of reporting feeling better under placebo, according to a one-sided binomial test? Hint: you may use the statsmodels.stats.proportion.binom_test function.\n",
    "\n",
    "- a) 0.00034\n",
    "- b) 0.0034\n",
    "- c) 0.034\n",
    "- d) 0.34"
   ]
  },
  {
   "cell_type": "code",
   "execution_count": 97,
   "metadata": {
    "tags": []
   },
   "outputs": [
    {
     "data": {
      "text/plain": [
       "0.03415162963907485"
      ]
     },
     "execution_count": 97,
     "metadata": {},
     "output_type": "execute_result"
    }
   ],
   "source": [
    "### your code and or answer here ###\n",
    "#prop=statsmodels.stats.proportion\n",
    "proportion.binom_test(count=28,nobs=100,prop=0.20,alternative='larger')\n",
    "#c)"
   ]
  },
  {
   "cell_type": "markdown",
   "metadata": {},
   "source": [
    "### Question 4. The 95% confidence interval of the average height of 1000 people using bootstrap resampling with 10000 bootstrap samples is calculated by:\n",
    "\n",
    "- a) Sampling 1000 height values with replacement and computing the mean. This is repeated 10000 times to create a sorted list of the 10000 means. The CI is defined by the 500th and the 9500th value in sorted order.\n",
    "- b) Sampling 10000 height values without replacement and computing the mean. This is repeated 1000 times to create a sorted list of the 1000 means. The CI is defined by the 25th and the 975th value in sorted order.\n",
    "- c) Sampling 1000 height values with replacement and computing the mean. This is repeated 10000 times to create a sorted list of the 10000 means. The CI is defined by the 250th and the 9750th value in sorted order.\n",
    "- d) Sampling 1000 height values without replacement and computing the mean. This is repeated 10000 times to create a sorted list of the 10000 means. The CI is defined by the 500th and the 9500th value in sorted order.\n",
    "\n",
    "### Implement your bootstrapping function that you will use in the rest of the course. It should take an array and the number of iterations as inputs, and output 95% confidence intervals of the mean."
   ]
  },
  {
   "cell_type": "code",
   "execution_count": 100,
   "metadata": {
    "tags": []
   },
   "outputs": [],
   "source": [
    "### your code and or answer here ###\n",
    "#c)\n",
    "def bootstrapping(samples,iterations):\n",
    "    for i in range(iterations):\n",
    "        \n",
    "\n"
   ]
  },
  {
   "cell_type": "markdown",
   "metadata": {},
   "source": [
    "### Question 5. A study conducted at EPFL revealed a negative Spearman’s correlation between GPA and entry-level job salary. Which of the following statements is true?\n",
    "\n",
    "- a) There could be a positive Spearman’s correlation between GPA and entry-level job salary in every single department of EPFL.\n",
    "- b) Spearman correlation between GPA and entry-level job salary in every single department has to be positive.\n",
    "- c) Across all levels, as opposed to entry-level only, higher GPA scores are associated with higher job salaries.\n",
    "- d) We can infer that finishing EPFL with a higher GPA causes you to have a lower entry-level job salary."
   ]
  },
  {
   "cell_type": "code",
   "execution_count": 99,
   "metadata": {
    "tags": []
   },
   "outputs": [],
   "source": [
    "### your code and or answer here ###\n",
    "#A) why ?????????"
   ]
  },
  {
   "cell_type": "markdown",
   "metadata": {},
   "source": [
    "### Question 6. The average number of requests per page during a day on a large website is 200, while the median is 15. \n",
    "\n",
    "- a) You can assume that the distribution is heavy-tailed\n",
    "- b) You are dealing with a left-skewed distribution\n",
    "- c) Half of the pages get more than 200 requests\n",
    "- d) None of the above"
   ]
  },
  {
   "cell_type": "code",
   "execution_count": 98,
   "metadata": {
    "tags": []
   },
   "outputs": [],
   "source": [
    "### your code and or answer here ###\n",
    "#d)None of the above. The data is not necessarily heavy-tailed nor skewed, a signle outlier\n",
    "# could shift the average."
   ]
  }
 ],
 "metadata": {
  "kernelspec": {
   "display_name": "Python 3 (ipykernel)",
   "language": "python",
   "name": "python3"
  },
  "language_info": {
   "codemirror_mode": {
    "name": "ipython",
    "version": 3
   },
   "file_extension": ".py",
   "mimetype": "text/x-python",
   "name": "python",
   "nbconvert_exporter": "python",
   "pygments_lexer": "ipython3",
   "version": "3.8.11"
  },
  "varInspector": {
   "cols": {
    "lenName": 16,
    "lenType": 16,
    "lenVar": 40
   },
   "kernels_config": {
    "python": {
     "delete_cmd_postfix": "",
     "delete_cmd_prefix": "del ",
     "library": "var_list.py",
     "varRefreshCmd": "print(var_dic_list())"
    },
    "r": {
     "delete_cmd_postfix": ") ",
     "delete_cmd_prefix": "rm(",
     "library": "var_list.r",
     "varRefreshCmd": "cat(var_dic_list()) "
    }
   },
   "types_to_exclude": [
    "module",
    "function",
    "builtin_function_or_method",
    "instance",
    "_Feature"
   ],
   "window_display": false
  }
 },
 "nbformat": 4,
 "nbformat_minor": 4
}
