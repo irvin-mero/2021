{
 "cells": [
  {
   "cell_type": "markdown",
   "metadata": {},
   "source": [
    "# ADA final exam (winter semester 2019/2020)"
   ]
  },
  {
   "cell_type": "markdown",
   "metadata": {},
   "source": [
    "A friend of yours wants to start a YouTube channel and ideally earn some money via ads. However, there are so many channels and videos out there that your friend has no idea where to even start. Fortunately, they know that you have taken ADA and think you might help them out by analyzing the videos that are currently on YouTube."
   ]
  },
  {
   "cell_type": "markdown",
   "metadata": {},
   "source": [
    "The data you are provided with is a subset of YouTube videos, with videos from some of the giant channels in two categories: \"Gaming\" and \"How-to & Style\", which are the categories your friend is choosing between. The dataset contains a lot of videos, with data on those videos including their titles, their total number of views in 2019, their tags and descriptions, etc. The data is, in gzip-compressed format, contained in the `data/` folder, as the file `youtube.csv.gz`."
   ]
  },
  {
   "cell_type": "markdown",
   "metadata": {},
   "source": [
    "The three tasks A, B and C are **independent** of each other, and you can solve any combination of them. The exam is designed for more than 3 hours, so don't worry if you don't manage to solve everything; you can still score a 6."
   ]
  },
  {
   "cell_type": "markdown",
   "metadata": {},
   "source": [
    "You need to run the following two cells to read and prepare the dataset."
   ]
  },
  {
   "cell_type": "code",
   "execution_count": 333,
   "metadata": {},
   "outputs": [],
   "source": [
    "import pandas as pd\n",
    "import numpy as np\n",
    "\n",
    "from sklearn.model_selection import train_test_split"
   ]
  },
  {
   "cell_type": "code",
   "execution_count": 2,
   "metadata": {},
   "outputs": [],
   "source": [
    "youtube = pd.read_csv('data/youtube.csv.gz', compression='gzip')\n",
    "youtube.upload_date = pd.to_datetime(youtube.upload_date)"
   ]
  },
  {
   "cell_type": "markdown",
   "metadata": {},
   "source": [
    "## Dataset description"
   ]
  },
  {
   "cell_type": "markdown",
   "metadata": {},
   "source": [
    "Each row of the dataset corresponds to one video that was uploaded to YouTube. There are 11 columns:\n",
    "'channel', 'upload_date', 'title', 'categories', 'tags', 'duration',\n",
    "       'view_count', 'average_rating', 'height', 'width', 'channel_cat'.\n",
    "- `channel`: The channel (account) on which the video was uploaded.\n",
    "- `upload_date`: The date on which the video was uploaded (Pandas Timestamp object).\n",
    "- `title`: The title of the video.\n",
    "- `tags`: A list of words that describe the video.\n",
    "- `duration`: The duration of the video in seconds.\n",
    "- `view_count`: The number of times the video was watched.\n",
    "- `average_rating`: The average score with which the viewers rated the video (1-5).\n",
    "- `height`: The height of the video in pixels.\n",
    "- `width`: The width of the video in pixels.\n",
    "- `channel_cat`: The category of the channel on which this video was uploaded. This dataset only contains videos from channels from the 'Gaming' and the 'Howto & Style' category."
   ]
  },
  {
   "cell_type": "code",
   "execution_count": 42,
   "metadata": {},
   "outputs": [],
   "source": [
    "%matplotlib inline\n",
    "import matplotlib.pyplot as plt\n",
    "import seaborn as sns"
   ]
  },
  {
   "cell_type": "markdown",
   "metadata": {},
   "source": [
    "# Task A: Welcome to the exam!"
   ]
  },
  {
   "cell_type": "markdown",
   "metadata": {},
   "source": [
    "All of Task A refers to the videos that were published between and including 2010 and 2018."
   ]
  },
  {
   "cell_type": "markdown",
   "metadata": {},
   "source": [
    "## A1: A growing platform?"
   ]
  },
  {
   "cell_type": "markdown",
   "metadata": {},
   "source": [
    "You would first like to know whether YouTube in general is the right platform to invest time into."
   ]
  },
  {
   "cell_type": "markdown",
   "metadata": {},
   "source": [
    "1. Using the appropriate plot type, plot the number of videos published per year between and including 2010 and 2018."
   ]
  },
  {
   "cell_type": "code",
   "execution_count": 3,
   "metadata": {},
   "outputs": [
    {
     "data": {
      "text/html": [
       "<div>\n",
       "<style scoped>\n",
       "    .dataframe tbody tr th:only-of-type {\n",
       "        vertical-align: middle;\n",
       "    }\n",
       "\n",
       "    .dataframe tbody tr th {\n",
       "        vertical-align: top;\n",
       "    }\n",
       "\n",
       "    .dataframe thead th {\n",
       "        text-align: right;\n",
       "    }\n",
       "</style>\n",
       "<table border=\"1\" class=\"dataframe\">\n",
       "  <thead>\n",
       "    <tr style=\"text-align: right;\">\n",
       "      <th></th>\n",
       "      <th>channel</th>\n",
       "      <th>upload_date</th>\n",
       "      <th>title</th>\n",
       "      <th>tags</th>\n",
       "      <th>duration</th>\n",
       "      <th>view_count</th>\n",
       "      <th>average_rating</th>\n",
       "      <th>height</th>\n",
       "      <th>width</th>\n",
       "      <th>channel_cat</th>\n",
       "    </tr>\n",
       "  </thead>\n",
       "  <tbody>\n",
       "    <tr>\n",
       "      <th>0</th>\n",
       "      <td>PewDiePie</td>\n",
       "      <td>2013-03-04</td>\n",
       "      <td>A NEW ADVENTURE! - Kingdom Hearts (1) w/ Pewds</td>\n",
       "      <td>['lets', 'play', 'horror', 'game', 'walkthroug...</td>\n",
       "      <td>1126.0</td>\n",
       "      <td>2541550.0</td>\n",
       "      <td>4.886102</td>\n",
       "      <td>720.0</td>\n",
       "      <td>1280.0</td>\n",
       "      <td>Gaming</td>\n",
       "    </tr>\n",
       "    <tr>\n",
       "      <th>1</th>\n",
       "      <td>PewDiePie</td>\n",
       "      <td>2013-03-04</td>\n",
       "      <td>SAVING PRIVATE PEWDS - Conker's Bad Fur Day (15)</td>\n",
       "      <td>['lets', 'play', 'horror', 'game', 'walkthroug...</td>\n",
       "      <td>903.0</td>\n",
       "      <td>1727646.0</td>\n",
       "      <td>4.951531</td>\n",
       "      <td>720.0</td>\n",
       "      <td>1280.0</td>\n",
       "      <td>Gaming</td>\n",
       "    </tr>\n",
       "    <tr>\n",
       "      <th>2</th>\n",
       "      <td>PewDiePie</td>\n",
       "      <td>2013-03-04</td>\n",
       "      <td>THE WORST SCARE! - Amnesia: Rain (4)</td>\n",
       "      <td>['lets', 'play', 'horror', 'game', 'walkthroug...</td>\n",
       "      <td>806.0</td>\n",
       "      <td>1402747.0</td>\n",
       "      <td>4.962706</td>\n",
       "      <td>720.0</td>\n",
       "      <td>1280.0</td>\n",
       "      <td>Gaming</td>\n",
       "    </tr>\n",
       "  </tbody>\n",
       "</table>\n",
       "</div>"
      ],
      "text/plain": [
       "     channel upload_date                                             title  \\\n",
       "0  PewDiePie  2013-03-04    A NEW ADVENTURE! - Kingdom Hearts (1) w/ Pewds   \n",
       "1  PewDiePie  2013-03-04  SAVING PRIVATE PEWDS - Conker's Bad Fur Day (15)   \n",
       "2  PewDiePie  2013-03-04              THE WORST SCARE! - Amnesia: Rain (4)   \n",
       "\n",
       "                                                tags  duration  view_count  \\\n",
       "0  ['lets', 'play', 'horror', 'game', 'walkthroug...    1126.0   2541550.0   \n",
       "1  ['lets', 'play', 'horror', 'game', 'walkthroug...     903.0   1727646.0   \n",
       "2  ['lets', 'play', 'horror', 'game', 'walkthroug...     806.0   1402747.0   \n",
       "\n",
       "   average_rating  height   width channel_cat  \n",
       "0        4.886102   720.0  1280.0      Gaming  \n",
       "1        4.951531   720.0  1280.0      Gaming  \n",
       "2        4.962706   720.0  1280.0      Gaming  "
      ]
     },
     "execution_count": 3,
     "metadata": {},
     "output_type": "execute_result"
    }
   ],
   "source": [
    "youtube.head(3)"
   ]
  },
  {
   "cell_type": "code",
   "execution_count": 39,
   "metadata": {},
   "outputs": [
    {
     "data": {
      "text/html": [
       "<div>\n",
       "<style scoped>\n",
       "    .dataframe tbody tr th:only-of-type {\n",
       "        vertical-align: middle;\n",
       "    }\n",
       "\n",
       "    .dataframe tbody tr th {\n",
       "        vertical-align: top;\n",
       "    }\n",
       "\n",
       "    .dataframe thead th {\n",
       "        text-align: right;\n",
       "    }\n",
       "</style>\n",
       "<table border=\"1\" class=\"dataframe\">\n",
       "  <thead>\n",
       "    <tr style=\"text-align: right;\">\n",
       "      <th></th>\n",
       "      <th>channel</th>\n",
       "      <th>upload_date</th>\n",
       "      <th>title</th>\n",
       "      <th>tags</th>\n",
       "      <th>duration</th>\n",
       "      <th>view_count</th>\n",
       "      <th>average_rating</th>\n",
       "      <th>height</th>\n",
       "      <th>width</th>\n",
       "      <th>channel_cat</th>\n",
       "      <th>year_published</th>\n",
       "      <th>month_published</th>\n",
       "    </tr>\n",
       "  </thead>\n",
       "  <tbody>\n",
       "    <tr>\n",
       "      <th>0</th>\n",
       "      <td>PewDiePie</td>\n",
       "      <td>2013-03-04</td>\n",
       "      <td>A NEW ADVENTURE! - Kingdom Hearts (1) w/ Pewds</td>\n",
       "      <td>['lets', 'play', 'horror', 'game', 'walkthroug...</td>\n",
       "      <td>1126.0</td>\n",
       "      <td>2541550.0</td>\n",
       "      <td>4.886102</td>\n",
       "      <td>720.0</td>\n",
       "      <td>1280.0</td>\n",
       "      <td>Gaming</td>\n",
       "      <td>2013</td>\n",
       "      <td>3</td>\n",
       "    </tr>\n",
       "    <tr>\n",
       "      <th>1</th>\n",
       "      <td>PewDiePie</td>\n",
       "      <td>2013-03-04</td>\n",
       "      <td>SAVING PRIVATE PEWDS - Conker's Bad Fur Day (15)</td>\n",
       "      <td>['lets', 'play', 'horror', 'game', 'walkthroug...</td>\n",
       "      <td>903.0</td>\n",
       "      <td>1727646.0</td>\n",
       "      <td>4.951531</td>\n",
       "      <td>720.0</td>\n",
       "      <td>1280.0</td>\n",
       "      <td>Gaming</td>\n",
       "      <td>2013</td>\n",
       "      <td>3</td>\n",
       "    </tr>\n",
       "    <tr>\n",
       "      <th>2</th>\n",
       "      <td>PewDiePie</td>\n",
       "      <td>2013-03-04</td>\n",
       "      <td>THE WORST SCARE! - Amnesia: Rain (4)</td>\n",
       "      <td>['lets', 'play', 'horror', 'game', 'walkthroug...</td>\n",
       "      <td>806.0</td>\n",
       "      <td>1402747.0</td>\n",
       "      <td>4.962706</td>\n",
       "      <td>720.0</td>\n",
       "      <td>1280.0</td>\n",
       "      <td>Gaming</td>\n",
       "      <td>2013</td>\n",
       "      <td>3</td>\n",
       "    </tr>\n",
       "  </tbody>\n",
       "</table>\n",
       "</div>"
      ],
      "text/plain": [
       "     channel upload_date                                             title  \\\n",
       "0  PewDiePie  2013-03-04    A NEW ADVENTURE! - Kingdom Hearts (1) w/ Pewds   \n",
       "1  PewDiePie  2013-03-04  SAVING PRIVATE PEWDS - Conker's Bad Fur Day (15)   \n",
       "2  PewDiePie  2013-03-04              THE WORST SCARE! - Amnesia: Rain (4)   \n",
       "\n",
       "                                                tags  duration  view_count  \\\n",
       "0  ['lets', 'play', 'horror', 'game', 'walkthroug...    1126.0   2541550.0   \n",
       "1  ['lets', 'play', 'horror', 'game', 'walkthroug...     903.0   1727646.0   \n",
       "2  ['lets', 'play', 'horror', 'game', 'walkthroug...     806.0   1402747.0   \n",
       "\n",
       "   average_rating  height   width channel_cat  year_published  month_published  \n",
       "0        4.886102   720.0  1280.0      Gaming            2013                3  \n",
       "1        4.951531   720.0  1280.0      Gaming            2013                3  \n",
       "2        4.962706   720.0  1280.0      Gaming            2013                3  "
      ]
     },
     "execution_count": 39,
     "metadata": {},
     "output_type": "execute_result"
    }
   ],
   "source": [
    "#youtube['year_published']=pd.DatetimeIndex(youtube['upload_date']).year\n",
    "#youtube.head(3)\n",
    "#or correction\n",
    "youtube['year_published']= youtube.upload_date.apply(lambda x: x.year)\n",
    "youtube['month_published']= youtube.upload_date.apply(lambda x:x.month)\n",
    "youtube.head(3)"
   ]
  },
  {
   "cell_type": "code",
   "execution_count": 71,
   "metadata": {},
   "outputs": [
    {
     "data": {
      "text/plain": [
       "139507"
      ]
     },
     "execution_count": 71,
     "metadata": {},
     "output_type": "execute_result"
    }
   ],
   "source": [
    "len(youtube)"
   ]
  },
  {
   "cell_type": "code",
   "execution_count": 75,
   "metadata": {},
   "outputs": [
    {
     "data": {
      "text/plain": [
       "139348"
      ]
     },
     "execution_count": 75,
     "metadata": {},
     "output_type": "execute_result"
    }
   ],
   "source": [
    "years=np.linspace(2010,2018,9).astype(int)\n",
    "#drop duplicates:\n",
    "youtube=youtube.drop_duplicates(keep='first')\n",
    "len(youtube)\n"
   ]
  },
  {
   "cell_type": "code",
   "execution_count": 113,
   "metadata": {},
   "outputs": [
    {
     "data": {
      "text/plain": [
       "139348"
      ]
     },
     "execution_count": 113,
     "metadata": {},
     "output_type": "execute_result"
    }
   ],
   "source": [
    "youtube=youtube.dropna()\n",
    "len(youtube)"
   ]
  },
  {
   "cell_type": "code",
   "execution_count": 76,
   "metadata": {},
   "outputs": [
    {
     "data": {
      "text/plain": [
       "Text(0.5, 1.0, 'number of videos published between 2010-2018')"
      ]
     },
     "execution_count": 76,
     "metadata": {},
     "output_type": "execute_result"
    },
    {
     "data": {
      "image/png": "[encoded data removed]",
      "text/plain": [
       "<Figure size 432x288 with 1 Axes>"
      ]
     },
     "metadata": {
      "needs_background": "light"
     },
     "output_type": "display_data"
    }
   ],
   "source": [
    "yt_10_18= youtube[youtube['year_published'].apply(lambda x : x in years )]\n",
    "#yt_10_18.head(3)\n",
    "plt.hist(x=yt_10_18.year_published,bins=20)#in exam solution a method is done \n",
    "plt.xlabel('years')\n",
    "plt.ylabel('count')\n",
    "plt.title('number of videos published between 2010-2018')"
   ]
  },
  {
   "cell_type": "code",
   "execution_count": 78,
   "metadata": {},
   "outputs": [
    {
     "data": {
      "text/plain": [
       "<AxesSubplot:xlabel='year_published', ylabel='Count'>"
      ]
     },
     "execution_count": 78,
     "metadata": {},
     "output_type": "execute_result"
    },
    {
     "data": {
      "image/png": "[encoded data removed]",
      "text/plain": [
       "<Figure size 432x288 with 1 Axes>"
      ]
     },
     "metadata": {
      "needs_background": "light"
     },
     "output_type": "display_data"
    }
   ],
   "source": [
    "sns.histplot(data=yt_10_18, x='year_published',bins=20)"
   ]
  },
  {
   "cell_type": "code",
   "execution_count": 54,
   "metadata": {},
   "outputs": [
    {
     "data": {
      "text/plain": [
       "array(['Gaming', 'Howto & Style'], dtype=object)"
      ]
     },
     "execution_count": 54,
     "metadata": {},
     "output_type": "execute_result"
    }
   ],
   "source": [
    "youtube.channel_cat.unique()"
   ]
  },
  {
   "cell_type": "code",
   "execution_count": 190,
   "metadata": {},
   "outputs": [
    {
     "data": {
      "text/plain": [
       "Text(0.5, 1.0, 'new videos')"
      ]
     },
     "execution_count": 190,
     "metadata": {},
     "output_type": "execute_result"
    },
    {
     "data": {
      "image/png": "[encoded data removed]",
      "text/plain": [
       "<Figure size 432x288 with 1 Axes>"
      ]
     },
     "metadata": {
      "needs_background": "light"
     },
     "output_type": "display_data"
    }
   ],
   "source": [
    "#other method to obtain videos !! better for after\n",
    "vid_by={}\n",
    "by=yt_10_18.groupby('year_published').count().channel.values\n",
    "i=0\n",
    "for y in years:\n",
    "    vid_by[y]=by[i]\n",
    "    i+=1\n",
    "\n",
    "#nbc_by.values()\n",
    "plt.bar(x=vid_by.keys(),height=vid_by.values())\n",
    "plt.xlabel('years')\n",
    "plt.ylabel('count')\n",
    "plt.title('new videos')"
   ]
  },
  {
   "cell_type": "markdown",
   "metadata": {},
   "source": [
    "2. Now for each year, plot the number of channels that have been created between the beginning of 2010 and the end of that year. A channel is considered to be created at the time at which they upload their first video."
   ]
  },
  {
   "cell_type": "code",
   "execution_count": 115,
   "metadata": {},
   "outputs": [],
   "source": [
    "#by_y=yt_10_18.groupby('channel')\n",
    "#only keep those doesnt having any video before 2010\n",
    "new_channels = youtube[~youtube.channel.isin(youtube.channel[youtube.upload_date < np.datetime64('2010-01-01')].unique())]\n",
    "nw_ch_10_18= new_channels[new_channels['year_published'].apply(lambda x : x in years )]\n",
    "cha_creat_year=nw_ch_10_18.groupby('channel').describe().year_published['min'] #we obtain the min year of channel so ->hist about "
   ]
  },
  {
   "cell_type": "code",
   "execution_count": 141,
   "metadata": {},
   "outputs": [],
   "source": [
    "cha_creat_year.name='new channels'"
   ]
  },
  {
   "cell_type": "code",
   "execution_count": 145,
   "metadata": {},
   "outputs": [
    {
     "data": {
      "text/plain": [
       "Text(0.5, 1.0, 'new channels')"
      ]
     },
     "execution_count": 145,
     "metadata": {},
     "output_type": "execute_result"
    },
    {
     "data": {
      "image/png": "[encoded data removed]",
      "text/plain": [
       "<Figure size 432x288 with 1 Axes>"
      ]
     },
     "metadata": {
      "needs_background": "light"
     },
     "output_type": "display_data"
    }
   ],
   "source": [
    "sns.histplot(data=cha_creat_year,bins=9,cumulative=True).set_title('new channels')"
   ]
  },
  {
   "cell_type": "code",
   "execution_count": 175,
   "metadata": {},
   "outputs": [
    {
     "data": {
      "text/plain": [
       "Text(0.5, 1.0, 'new channels')"
      ]
     },
     "execution_count": 175,
     "metadata": {},
     "output_type": "execute_result"
    },
    {
     "data": {
      "image/png": "[encoded data removed]",
      "text/plain": [
       "<Figure size 432x288 with 1 Axes>"
      ]
     },
     "metadata": {
      "needs_background": "light"
     },
     "output_type": "display_data"
    }
   ],
   "source": [
    "#other method to obtain new channels\n",
    "nbc_by={}\n",
    "for y in years:\n",
    "    if y==2010:\n",
    "        nbc_by[y]=np.sum(cha_creat_year==y)\n",
    "    else :\n",
    "        x=y-1\n",
    "        nbc_by[y]=np.sum(cha_creat_year==y)+nbc_by[x]\n",
    "#nbc_by.values()\n",
    "plt.bar(x=nbc_by.keys(),height=nbc_by.values())\n",
    "plt.xlabel('years')\n",
    "plt.ylabel('count')\n",
    "plt.title('new channels')"
   ]
  },
  {
   "cell_type": "markdown",
   "metadata": {},
   "source": [
    "3. Normalize the number of videos published each year by the number of channels that have been created between the beginning of 2010 and the end of that year, and plot these quantities. Do seperate plots for gaming channels, how-to channels, and both together. Can you conclude from the plot that both gaming and how-to channels have been becoming less and less active recently? Why, or why not?"
   ]
  },
  {
   "cell_type": "code",
   "execution_count": 200,
   "metadata": {},
   "outputs": [
    {
     "data": {
      "text/plain": [
       "Text(0.5, 1.0, 'Both')"
      ]
     },
     "execution_count": 200,
     "metadata": {},
     "output_type": "execute_result"
    },
    {
     "data": {
      "image/png": "[encoded data removed]",
      "text/plain": [
       "<Figure size 432x288 with 1 Axes>"
      ]
     },
     "metadata": {
      "needs_background": "light"
     },
     "output_type": "display_data"
    }
   ],
   "source": [
    "#first with both\n",
    "plt.bar(x=vid_by.keys(),height=np.array(list(vid_by.values()))/np.array(list(nbc_by.values())))\n",
    "plt.xlabel('years')\n",
    "plt.ylabel('count')\n",
    "plt.title('Both')"
   ]
  },
  {
   "cell_type": "code",
   "execution_count": 219,
   "metadata": {},
   "outputs": [
    {
     "data": {
      "image/png": "[encoded data removed]",
      "text/plain": [
       "<Figure size 1224x504 with 3 Axes>"
      ]
     },
     "metadata": {
      "needs_background": "light"
     },
     "output_type": "display_data"
    }
   ],
   "source": [
    "games=yt_10_18[yt_10_18['channel_cat']=='Gaming']\n",
    "how=yt_10_18[yt_10_18['channel_cat']=='Howto & Style']\n",
    "vid_gam={}\n",
    "vid_how={}\n",
    "by_g=games.groupby('year_published').count().channel.values\n",
    "by_h=how.groupby('year_published').count().channel.values\n",
    "i=0\n",
    "for y in years:\n",
    "    vid_gam[y]=by_g[i]\n",
    "    vid_how[y]=by_h[i]\n",
    "    i+=1\n",
    "#nbc_by is created before it is the number of new channel accumulative\n",
    "fig, axes = plt.subplots(1, 3, figsize = (17,7),gridspec_kw={'hspace': 0.4, 'wspace': 0.2})\n",
    "fig.suptitle(\"number of videos normalized\", fontsize=15)\n",
    "axes[0].bar(x=np.array(list(vid_gam.keys())),height=np.array(list(vid_gam.values()))/np.array(list(nbc_by.values())))\n",
    "axes[1].bar(x=np.array(list(vid_how.keys())),height=np.array(list(vid_how.values()))/np.array(list(nbc_by.values()))) \n",
    "axes[2].bar(x=np.array(list(vid_by.keys())),height=np.array(list(vid_by.values()))/np.array(list(nbc_by.values())))\n",
    "\n",
    "titles=['Gaming','How-to & Style', 'Both']\n",
    "\n",
    "for x in range(0,axes.shape[0]):\n",
    "        axes[x].set_xlabel('years', fontsize = 10)\n",
    "        axes[x].set_ylabel('count', fontsize = 10)\n",
    "        axes[x].set_title(titles[x], fontsize = 10)\n",
    "        #axes[x].legend(fontsize=15)\n",
    "#fig.subplots_adjust(top=-2)\n",
    "plt.show()\n",
    "#plt.subplots()\n",
    "#plt.bar(x=vid_gam.keys(),height=np.array(list(vid_gam.values()))/np.array(list(nbc_by.values())))\n",
    "#plt.xlabel('years')\n",
    "#plt.ylabel('count')\n",
    "#plt.title('gaming')"
   ]
  },
  {
   "cell_type": "markdown",
   "metadata": {},
   "source": [
    "**answer :** So together, it seems that activity has gone down, but truth is, gaming has gone down dramatically while howto has risen in recent years."
   ]
  },
  {
   "cell_type": "markdown",
   "metadata": {},
   "source": [
    "## A2: The one thing we all love: cash money"
   ]
  },
  {
   "cell_type": "markdown",
   "metadata": {},
   "source": [
    "Your friend is really keen on making money from their YouTube channel through ads and wants you to help them choose the most profitable channel category (Gaming or Howto & Style). The ad profit is directly proportional to the number of views of a video."
   ]
  },
  {
   "cell_type": "markdown",
   "metadata": {},
   "source": [
    "1. Since your friend wants to keep producing videos for several years to come, it might also be worth looking at the growth of the two categories.\n",
    "  1. Compute the total number of views in each category per year for the years 2010-2018.\n",
    "  2. Divide the yearly view count by the number of channels that posted a video in each category in each year. Plot these normalized counts.\n",
    "\n",
    "\n"
   ]
  },
  {
   "cell_type": "code",
   "execution_count": 291,
   "metadata": {},
   "outputs": [
    {
     "data": {
      "image/png": "[encoded data removed]",
      "text/plain": [
       "<Figure size 1224x504 with 2 Axes>"
      ]
     },
     "metadata": {
      "needs_background": "light"
     },
     "output_type": "display_data"
    }
   ],
   "source": [
    "#number channels posted in each category \n",
    "nb_ch_g =np.array(list(games.groupby('year_published')['channel'].nunique()))#group by year and give the number of diff channels\n",
    "nb_ch_h =np.array(list(how.groupby('year_published')['channel'].nunique()))\n",
    "\n",
    "view_g_y=np.array(list(games.groupby('year_published')['view_count'].sum()))\n",
    "view_h_y=np.array(list(how.groupby('year_published')['view_count'].sum()))\n",
    "\n",
    "normalized_views_games=view_g_y/nb_ch_g\n",
    "normalized_views_how=view_h_y/nb_ch_h\n",
    "\n",
    "fig, axes = plt.subplots(1,2 , figsize = (17,7),gridspec_kw={'hspace': 0.4, 'wspace': 0.2})\n",
    "fig.suptitle(\"number of videos normalized\", fontsize=15)\n",
    "axes[0].bar(x=years,height=normalized_views_games)\n",
    "axes[1].bar(x=years,height=normalized_views_how) \n",
    "\n",
    "titles=['Gaming','How-to & Style']\n",
    "\n",
    "for x in range(0,axes.shape[0]):\n",
    "        axes[x].set_xlabel('years', fontsize = 10)\n",
    "        axes[x].set_ylabel('number of views', fontsize = 10)\n",
    "        axes[x].set_title(titles[x], fontsize = 10)\n",
    "        #axes[x].legend(fontsize=15)\n",
    "#fig.subplots_adjust(top=-2)\n",
    "plt.show()\n",
    "\n"
   ]
  },
  {
   "cell_type": "markdown",
   "metadata": {},
   "source": [
    "2. Your friend's channel will be brand new, so you decide to look more closely at newer channels. For this question and all the following questions in A2, only consider channels that uploaded their first video in  2016 or later. Compute the total number of views in each category and divide it by the number of channels in that category.\n"
   ]
  },
  {
   "cell_type": "code",
   "execution_count": 296,
   "metadata": {},
   "outputs": [
    {
     "data": {
      "text/plain": [
       "array(['5-Minute Crafts', '5-Minute Crafts GIRLY', '5-Minute Crafts PLAY',\n",
       "       'Anaysa', 'Antonio Garza', 'BRICO SYMPA', 'BRIGHT SIDE', 'Blossom',\n",
       "       'Ceeday', 'Chris Smoove', 'Clash Royale', 'Crafty Panda',\n",
       "       'Daequan Loco', 'Denis', 'Frost Diamond', 'GameGrumps',\n",
       "       'Grandpa Kitchen', 'Health Tips for You', 'Homemade solutions',\n",
       "       'Hong Giang DIY Slime', 'Indian Health', 'Izabela Stress',\n",
       "       'Jess No Limit', 'MeLlamanFredy', 'SHORT TIME SECRET',\n",
       "       'Satisfying Slime Videos', 'So Yummy', 'Tasty', 'Tom Slime',\n",
       "       'Xyz Gyan', 'YourHealth'], dtype=object)"
      ]
     },
     "execution_count": 296,
     "metadata": {},
     "output_type": "execute_result"
    }
   ],
   "source": [
    "#only keep those doesnt having any video before 2016\n",
    "channel_starts = youtube[['channel', 'year_published']].groupby('channel').min().reset_index()#on prend la date commence\n",
    "channels_late = channel_starts.loc[channel_starts.year_published >= 2016].channel.values\n",
    "channels_late #on garde que ceux >2016"
   ]
  },
  {
   "cell_type": "code",
   "execution_count": 300,
   "metadata": {},
   "outputs": [],
   "source": [
    "h=len(youtube.loc[(youtube.channel_cat == 'Howto & Style') &  #le nombre de channel obtained from late and cat\n",
    "            (youtube.channel.apply(lambda x: x in channels_late))].channel.unique())"
   ]
  },
  {
   "cell_type": "code",
   "execution_count": 301,
   "metadata": {},
   "outputs": [],
   "source": [
    "g=len(youtube.loc[(youtube.channel_cat == 'Gaming') & \n",
    "             (youtube.channel.apply(lambda x: x in channels_late))].channel.unique())"
   ]
  },
  {
   "cell_type": "code",
   "execution_count": 302,
   "metadata": {},
   "outputs": [
    {
     "name": "stdout",
     "output_type": "stream",
     "text": [
      "for gaming total vi/nb cha : 893451818.375\n",
      "for howto total vi/nb cha : 1370858344.7391305\n"
     ]
    }
   ],
   "source": [
    "#now calculate the nmb total of view of each cat and divide by nb channels\n",
    "view_cha_g= youtube.loc[(youtube.channel_cat == 'Gaming') & \n",
    "                      (youtube.channel.apply(lambda x: x in channels_late))].view_count.sum() /g\n",
    "print(f'for gaming total vi/nb cha : {view_cha_g}')\n",
    "\n",
    "view_cha_h= youtube.loc[(youtube.channel_cat == 'Howto & Style') & \n",
    "                      (youtube.channel.apply(lambda x: x in channels_late))].view_count.sum() /h\n",
    "print(f'for howto total vi/nb cha : {view_cha_h}')"
   ]
  },
  {
   "cell_type": "markdown",
   "metadata": {},
   "source": [
    "3. The number of views might be very unevenly over the different channels, and channels might upload different numbers of videos.\n",
    "  1. Compute the mean number of views per video for each channel.\n",
    "  2. Compute the mean of these means for each of the two categories. Print these values.\n",
    "  3. Using bootstrapping, compute 95% confidence intervals for these two means. From this analysis, can you draw a recommendation for one of the two categories? Why, or why not?"
   ]
  },
  {
   "cell_type": "code",
   "execution_count": 304,
   "metadata": {},
   "outputs": [
    {
     "name": "stdout",
     "output_type": "stream",
     "text": [
      "mean of means of videos per channel in gaming : 1404667.8269039588 and How : 3371424.8751483313\n"
     ]
    }
   ],
   "source": [
    "View_Gam_Mean_per_ch=youtube.loc[(youtube.channel_cat == 'Gaming') & \n",
    "                      (youtube.channel.apply(lambda x: x in channels_late))].groupby('channel')['view_count'].mean()\n",
    "View_How_Mean_per_ch=youtube.loc[(youtube.channel_cat == 'Howto & Style') & \n",
    "                      (youtube.channel.apply(lambda x: x in channels_late))].groupby('channel')['view_count'].mean()\n",
    "print(f'mean of means of videos per channel in gaming : {np.mean(View_Gam_Mean_per_ch)} and How : {np.mean(View_How_Mean_per_ch)}')"
   ]
  },
  {
   "cell_type": "code",
   "execution_count": null,
   "metadata": {},
   "outputs": [],
   "source": []
  },
  {
   "cell_type": "code",
   "execution_count": 307,
   "metadata": {},
   "outputs": [],
   "source": [
    "def do_bootstrap(data, n=1000): #from solution!!!\n",
    "    sample_statistic = [] \n",
    "    for _ in range(n):\n",
    "        sampled_data = np.random.choice(data, size=len(data))  #créer numbre sample random (numbr=#channel)\n",
    "        sample_statistic.append(np.mean(sampled_data)) #calcule la moyenne pour voir si proche similar en general..\n",
    "    return (np.percentile(sample_statistic, 2.5), np.percentile(sample_statistic, 97.5))"
   ]
  },
  {
   "cell_type": "code",
   "execution_count": 306,
   "metadata": {},
   "outputs": [
    {
     "name": "stdout",
     "output_type": "stream",
     "text": [
      "CI of 95% for Gaming : (927746.0715028724, 1924808.808371474) and for how : (2196121.0487894835, 5199900.968096732)\n"
     ]
    }
   ],
   "source": [
    "print(f'CI of 95% for Gaming : {do_bootstrap(View_Gam_Mean_per_ch)} and for how : {do_bootstrap(View_How_Mean_per_ch)}')"
   ]
  },
  {
   "cell_type": "markdown",
   "metadata": {},
   "source": [
    "**Answer:** The difference is significant, as the two confidence intervals have no overlap. (how to more views..)"
   ]
  },
  {
   "cell_type": "markdown",
   "metadata": {},
   "source": [
    "# Task B: View forecasting (Machine Learning)"
   ]
  },
  {
   "cell_type": "markdown",
   "metadata": {},
   "source": [
    "Your friend wants to figure out how they can optimize their videos for getting the maximum number of views (without using shocking thumbnails and clickbait titles). In this task, you will build a machine learning (ML) model for predicting the success of a video."
   ]
  },
  {
   "cell_type": "markdown",
   "metadata": {},
   "source": [
    "## B1: Get those shovels out again"
   ]
  },
  {
   "cell_type": "markdown",
   "metadata": {},
   "source": [
    "1. For the prediction model, use all rows of the dataset, but keep only the following columns: `view_count, channel, upload_date, duration, average_rating, height, width`."
   ]
  },
  {
   "cell_type": "code",
   "execution_count": 330,
   "metadata": {},
   "outputs": [
    {
     "data": {
      "text/html": [
       "<div>\n",
       "<style scoped>\n",
       "    .dataframe tbody tr th:only-of-type {\n",
       "        vertical-align: middle;\n",
       "    }\n",
       "\n",
       "    .dataframe tbody tr th {\n",
       "        vertical-align: top;\n",
       "    }\n",
       "\n",
       "    .dataframe thead th {\n",
       "        text-align: right;\n",
       "    }\n",
       "</style>\n",
       "<table border=\"1\" class=\"dataframe\">\n",
       "  <thead>\n",
       "    <tr style=\"text-align: right;\">\n",
       "      <th></th>\n",
       "      <th>view_count</th>\n",
       "      <th>channel</th>\n",
       "      <th>upload_date</th>\n",
       "      <th>duration</th>\n",
       "      <th>average_rating</th>\n",
       "      <th>height</th>\n",
       "      <th>width</th>\n",
       "    </tr>\n",
       "  </thead>\n",
       "  <tbody>\n",
       "    <tr>\n",
       "      <th>0</th>\n",
       "      <td>2541550.0</td>\n",
       "      <td>PewDiePie</td>\n",
       "      <td>2013-03-04</td>\n",
       "      <td>1126.0</td>\n",
       "      <td>4.886102</td>\n",
       "      <td>720.0</td>\n",
       "      <td>1280.0</td>\n",
       "    </tr>\n",
       "    <tr>\n",
       "      <th>1</th>\n",
       "      <td>1727646.0</td>\n",
       "      <td>PewDiePie</td>\n",
       "      <td>2013-03-04</td>\n",
       "      <td>903.0</td>\n",
       "      <td>4.951531</td>\n",
       "      <td>720.0</td>\n",
       "      <td>1280.0</td>\n",
       "    </tr>\n",
       "    <tr>\n",
       "      <th>2</th>\n",
       "      <td>1402747.0</td>\n",
       "      <td>PewDiePie</td>\n",
       "      <td>2013-03-04</td>\n",
       "      <td>806.0</td>\n",
       "      <td>4.962706</td>\n",
       "      <td>720.0</td>\n",
       "      <td>1280.0</td>\n",
       "    </tr>\n",
       "    <tr>\n",
       "      <th>3</th>\n",
       "      <td>4348296.0</td>\n",
       "      <td>PewDiePie</td>\n",
       "      <td>2013-03-03</td>\n",
       "      <td>909.0</td>\n",
       "      <td>4.937665</td>\n",
       "      <td>720.0</td>\n",
       "      <td>1280.0</td>\n",
       "    </tr>\n",
       "    <tr>\n",
       "      <th>4</th>\n",
       "      <td>1410659.0</td>\n",
       "      <td>PewDiePie</td>\n",
       "      <td>2013-03-03</td>\n",
       "      <td>834.0</td>\n",
       "      <td>4.957545</td>\n",
       "      <td>720.0</td>\n",
       "      <td>1280.0</td>\n",
       "    </tr>\n",
       "    <tr>\n",
       "      <th>...</th>\n",
       "      <td>...</td>\n",
       "      <td>...</td>\n",
       "      <td>...</td>\n",
       "      <td>...</td>\n",
       "      <td>...</td>\n",
       "      <td>...</td>\n",
       "      <td>...</td>\n",
       "    </tr>\n",
       "    <tr>\n",
       "      <th>139502</th>\n",
       "      <td>284147.0</td>\n",
       "      <td>cutepolish</td>\n",
       "      <td>2010-02-23</td>\n",
       "      <td>201.0</td>\n",
       "      <td>4.608439</td>\n",
       "      <td>480.0</td>\n",
       "      <td>640.0</td>\n",
       "    </tr>\n",
       "    <tr>\n",
       "      <th>139503</th>\n",
       "      <td>136278.0</td>\n",
       "      <td>cutepolish</td>\n",
       "      <td>2010-02-22</td>\n",
       "      <td>180.0</td>\n",
       "      <td>4.638451</td>\n",
       "      <td>480.0</td>\n",
       "      <td>640.0</td>\n",
       "    </tr>\n",
       "    <tr>\n",
       "      <th>139504</th>\n",
       "      <td>228384.0</td>\n",
       "      <td>cutepolish</td>\n",
       "      <td>2010-02-21</td>\n",
       "      <td>277.0</td>\n",
       "      <td>4.836411</td>\n",
       "      <td>480.0</td>\n",
       "      <td>640.0</td>\n",
       "    </tr>\n",
       "    <tr>\n",
       "      <th>139505</th>\n",
       "      <td>247053.0</td>\n",
       "      <td>cutepolish</td>\n",
       "      <td>2010-02-20</td>\n",
       "      <td>174.0</td>\n",
       "      <td>4.855700</td>\n",
       "      <td>480.0</td>\n",
       "      <td>640.0</td>\n",
       "    </tr>\n",
       "    <tr>\n",
       "      <th>139506</th>\n",
       "      <td>331964.0</td>\n",
       "      <td>cutepolish</td>\n",
       "      <td>2010-02-20</td>\n",
       "      <td>329.0</td>\n",
       "      <td>4.462126</td>\n",
       "      <td>480.0</td>\n",
       "      <td>640.0</td>\n",
       "    </tr>\n",
       "  </tbody>\n",
       "</table>\n",
       "<p>139348 rows × 7 columns</p>\n",
       "</div>"
      ],
      "text/plain": [
       "        view_count     channel upload_date  duration  average_rating  height  \\\n",
       "0        2541550.0   PewDiePie  2013-03-04    1126.0        4.886102   720.0   \n",
       "1        1727646.0   PewDiePie  2013-03-04     903.0        4.951531   720.0   \n",
       "2        1402747.0   PewDiePie  2013-03-04     806.0        4.962706   720.0   \n",
       "3        4348296.0   PewDiePie  2013-03-03     909.0        4.937665   720.0   \n",
       "4        1410659.0   PewDiePie  2013-03-03     834.0        4.957545   720.0   \n",
       "...            ...         ...         ...       ...             ...     ...   \n",
       "139502    284147.0  cutepolish  2010-02-23     201.0        4.608439   480.0   \n",
       "139503    136278.0  cutepolish  2010-02-22     180.0        4.638451   480.0   \n",
       "139504    228384.0  cutepolish  2010-02-21     277.0        4.836411   480.0   \n",
       "139505    247053.0  cutepolish  2010-02-20     174.0        4.855700   480.0   \n",
       "139506    331964.0  cutepolish  2010-02-20     329.0        4.462126   480.0   \n",
       "\n",
       "         width  \n",
       "0       1280.0  \n",
       "1       1280.0  \n",
       "2       1280.0  \n",
       "3       1280.0  \n",
       "4       1280.0  \n",
       "...        ...  \n",
       "139502   640.0  \n",
       "139503   640.0  \n",
       "139504   640.0  \n",
       "139505   640.0  \n",
       "139506   640.0  \n",
       "\n",
       "[139348 rows x 7 columns]"
      ]
     },
     "execution_count": 330,
     "metadata": {},
     "output_type": "execute_result"
    }
   ],
   "source": [
    "df=youtube[['view_count','channel','upload_date','duration','average_rating','height','width']]\n",
    "df"
   ]
  },
  {
   "cell_type": "markdown",
   "metadata": {},
   "source": [
    "2. Extract the upload year and upload month from the `upload_date` column into the two columns `upload_year` and `upload_month`, and remove `upload_date`."
   ]
  },
  {
   "cell_type": "code",
   "execution_count": 331,
   "metadata": {},
   "outputs": [
    {
     "name": "stderr",
     "output_type": "stream",
     "text": [
      "/var/folders/r7/jht38nh56px_s6jkntzx89n00000gn/T/ipykernel_90429/2935542069.py:1: SettingWithCopyWarning: \n",
      "A value is trying to be set on a copy of a slice from a DataFrame.\n",
      "Try using .loc[row_indexer,col_indexer] = value instead\n",
      "\n",
      "See the caveats in the documentation: https://pandas.pydata.org/pandas-docs/stable/user_guide/indexing.html#returning-a-view-versus-a-copy\n",
      "  df['upload_year']=df['upload_date'].apply(lambda x: x.year)\n",
      "/var/folders/r7/jht38nh56px_s6jkntzx89n00000gn/T/ipykernel_90429/2935542069.py:2: SettingWithCopyWarning: \n",
      "A value is trying to be set on a copy of a slice from a DataFrame.\n",
      "Try using .loc[row_indexer,col_indexer] = value instead\n",
      "\n",
      "See the caveats in the documentation: https://pandas.pydata.org/pandas-docs/stable/user_guide/indexing.html#returning-a-view-versus-a-copy\n",
      "  df['upload_month']=df['upload_date'].apply(lambda x: x.month)\n"
     ]
    },
    {
     "data": {
      "text/html": [
       "<div>\n",
       "<style scoped>\n",
       "    .dataframe tbody tr th:only-of-type {\n",
       "        vertical-align: middle;\n",
       "    }\n",
       "\n",
       "    .dataframe tbody tr th {\n",
       "        vertical-align: top;\n",
       "    }\n",
       "\n",
       "    .dataframe thead th {\n",
       "        text-align: right;\n",
       "    }\n",
       "</style>\n",
       "<table border=\"1\" class=\"dataframe\">\n",
       "  <thead>\n",
       "    <tr style=\"text-align: right;\">\n",
       "      <th></th>\n",
       "      <th>view_count</th>\n",
       "      <th>channel</th>\n",
       "      <th>duration</th>\n",
       "      <th>average_rating</th>\n",
       "      <th>height</th>\n",
       "      <th>width</th>\n",
       "      <th>upload_year</th>\n",
       "      <th>upload_month</th>\n",
       "    </tr>\n",
       "  </thead>\n",
       "  <tbody>\n",
       "    <tr>\n",
       "      <th>0</th>\n",
       "      <td>2541550.0</td>\n",
       "      <td>PewDiePie</td>\n",
       "      <td>1126.0</td>\n",
       "      <td>4.886102</td>\n",
       "      <td>720.0</td>\n",
       "      <td>1280.0</td>\n",
       "      <td>2013</td>\n",
       "      <td>3</td>\n",
       "    </tr>\n",
       "    <tr>\n",
       "      <th>1</th>\n",
       "      <td>1727646.0</td>\n",
       "      <td>PewDiePie</td>\n",
       "      <td>903.0</td>\n",
       "      <td>4.951531</td>\n",
       "      <td>720.0</td>\n",
       "      <td>1280.0</td>\n",
       "      <td>2013</td>\n",
       "      <td>3</td>\n",
       "    </tr>\n",
       "    <tr>\n",
       "      <th>2</th>\n",
       "      <td>1402747.0</td>\n",
       "      <td>PewDiePie</td>\n",
       "      <td>806.0</td>\n",
       "      <td>4.962706</td>\n",
       "      <td>720.0</td>\n",
       "      <td>1280.0</td>\n",
       "      <td>2013</td>\n",
       "      <td>3</td>\n",
       "    </tr>\n",
       "    <tr>\n",
       "      <th>3</th>\n",
       "      <td>4348296.0</td>\n",
       "      <td>PewDiePie</td>\n",
       "      <td>909.0</td>\n",
       "      <td>4.937665</td>\n",
       "      <td>720.0</td>\n",
       "      <td>1280.0</td>\n",
       "      <td>2013</td>\n",
       "      <td>3</td>\n",
       "    </tr>\n",
       "    <tr>\n",
       "      <th>4</th>\n",
       "      <td>1410659.0</td>\n",
       "      <td>PewDiePie</td>\n",
       "      <td>834.0</td>\n",
       "      <td>4.957545</td>\n",
       "      <td>720.0</td>\n",
       "      <td>1280.0</td>\n",
       "      <td>2013</td>\n",
       "      <td>3</td>\n",
       "    </tr>\n",
       "    <tr>\n",
       "      <th>...</th>\n",
       "      <td>...</td>\n",
       "      <td>...</td>\n",
       "      <td>...</td>\n",
       "      <td>...</td>\n",
       "      <td>...</td>\n",
       "      <td>...</td>\n",
       "      <td>...</td>\n",
       "      <td>...</td>\n",
       "    </tr>\n",
       "    <tr>\n",
       "      <th>139502</th>\n",
       "      <td>284147.0</td>\n",
       "      <td>cutepolish</td>\n",
       "      <td>201.0</td>\n",
       "      <td>4.608439</td>\n",
       "      <td>480.0</td>\n",
       "      <td>640.0</td>\n",
       "      <td>2010</td>\n",
       "      <td>2</td>\n",
       "    </tr>\n",
       "    <tr>\n",
       "      <th>139503</th>\n",
       "      <td>136278.0</td>\n",
       "      <td>cutepolish</td>\n",
       "      <td>180.0</td>\n",
       "      <td>4.638451</td>\n",
       "      <td>480.0</td>\n",
       "      <td>640.0</td>\n",
       "      <td>2010</td>\n",
       "      <td>2</td>\n",
       "    </tr>\n",
       "    <tr>\n",
       "      <th>139504</th>\n",
       "      <td>228384.0</td>\n",
       "      <td>cutepolish</td>\n",
       "      <td>277.0</td>\n",
       "      <td>4.836411</td>\n",
       "      <td>480.0</td>\n",
       "      <td>640.0</td>\n",
       "      <td>2010</td>\n",
       "      <td>2</td>\n",
       "    </tr>\n",
       "    <tr>\n",
       "      <th>139505</th>\n",
       "      <td>247053.0</td>\n",
       "      <td>cutepolish</td>\n",
       "      <td>174.0</td>\n",
       "      <td>4.855700</td>\n",
       "      <td>480.0</td>\n",
       "      <td>640.0</td>\n",
       "      <td>2010</td>\n",
       "      <td>2</td>\n",
       "    </tr>\n",
       "    <tr>\n",
       "      <th>139506</th>\n",
       "      <td>331964.0</td>\n",
       "      <td>cutepolish</td>\n",
       "      <td>329.0</td>\n",
       "      <td>4.462126</td>\n",
       "      <td>480.0</td>\n",
       "      <td>640.0</td>\n",
       "      <td>2010</td>\n",
       "      <td>2</td>\n",
       "    </tr>\n",
       "  </tbody>\n",
       "</table>\n",
       "<p>139348 rows × 8 columns</p>\n",
       "</div>"
      ],
      "text/plain": [
       "        view_count     channel  duration  average_rating  height   width  \\\n",
       "0        2541550.0   PewDiePie    1126.0        4.886102   720.0  1280.0   \n",
       "1        1727646.0   PewDiePie     903.0        4.951531   720.0  1280.0   \n",
       "2        1402747.0   PewDiePie     806.0        4.962706   720.0  1280.0   \n",
       "3        4348296.0   PewDiePie     909.0        4.937665   720.0  1280.0   \n",
       "4        1410659.0   PewDiePie     834.0        4.957545   720.0  1280.0   \n",
       "...            ...         ...       ...             ...     ...     ...   \n",
       "139502    284147.0  cutepolish     201.0        4.608439   480.0   640.0   \n",
       "139503    136278.0  cutepolish     180.0        4.638451   480.0   640.0   \n",
       "139504    228384.0  cutepolish     277.0        4.836411   480.0   640.0   \n",
       "139505    247053.0  cutepolish     174.0        4.855700   480.0   640.0   \n",
       "139506    331964.0  cutepolish     329.0        4.462126   480.0   640.0   \n",
       "\n",
       "        upload_year  upload_month  \n",
       "0              2013             3  \n",
       "1              2013             3  \n",
       "2              2013             3  \n",
       "3              2013             3  \n",
       "4              2013             3  \n",
       "...             ...           ...  \n",
       "139502         2010             2  \n",
       "139503         2010             2  \n",
       "139504         2010             2  \n",
       "139505         2010             2  \n",
       "139506         2010             2  \n",
       "\n",
       "[139348 rows x 8 columns]"
      ]
     },
     "execution_count": 331,
     "metadata": {},
     "output_type": "execute_result"
    }
   ],
   "source": [
    "df['upload_year']=df['upload_date'].apply(lambda x: x.year)\n",
    "df['upload_month']=df['upload_date'].apply(lambda x: x.month)\n",
    "df=df.drop(labels='upload_date',axis=1)\n",
    "df"
   ]
  },
  {
   "cell_type": "markdown",
   "metadata": {},
   "source": [
    "3. The entry in the channel column for a video indicates on which channel the video was uploaded. Encode this column via one-hot encoding."
   ]
  },
  {
   "cell_type": "code",
   "execution_count": 332,
   "metadata": {},
   "outputs": [
    {
     "data": {
      "text/html": [
       "<div>\n",
       "<style scoped>\n",
       "    .dataframe tbody tr th:only-of-type {\n",
       "        vertical-align: middle;\n",
       "    }\n",
       "\n",
       "    .dataframe tbody tr th {\n",
       "        vertical-align: top;\n",
       "    }\n",
       "\n",
       "    .dataframe thead th {\n",
       "        text-align: right;\n",
       "    }\n",
       "</style>\n",
       "<table border=\"1\" class=\"dataframe\">\n",
       "  <thead>\n",
       "    <tr style=\"text-align: right;\">\n",
       "      <th></th>\n",
       "      <th>view_count</th>\n",
       "      <th>duration</th>\n",
       "      <th>average_rating</th>\n",
       "      <th>height</th>\n",
       "      <th>width</th>\n",
       "      <th>upload_year</th>\n",
       "      <th>upload_month</th>\n",
       "      <th>channel__5-Minute Crafts</th>\n",
       "      <th>channel__5-Minute Crafts GIRLY</th>\n",
       "      <th>channel__5-Minute Crafts PLAY</th>\n",
       "      <th>...</th>\n",
       "      <th>channel__grav3yardgirl</th>\n",
       "      <th>channel__iHasCupquake</th>\n",
       "      <th>channel__jacksepticeye</th>\n",
       "      <th>channel__jaipurthepinkcity</th>\n",
       "      <th>channel__jeffreestar</th>\n",
       "      <th>channel__speedyw03</th>\n",
       "      <th>channel__stampylonghead</th>\n",
       "      <th>channel__theRadBrad</th>\n",
       "      <th>channel__videogamedunkey</th>\n",
       "      <th>channel__windy31</th>\n",
       "    </tr>\n",
       "  </thead>\n",
       "  <tbody>\n",
       "    <tr>\n",
       "      <th>0</th>\n",
       "      <td>2541550.0</td>\n",
       "      <td>1126.0</td>\n",
       "      <td>4.886102</td>\n",
       "      <td>720.0</td>\n",
       "      <td>1280.0</td>\n",
       "      <td>2013</td>\n",
       "      <td>3</td>\n",
       "      <td>0</td>\n",
       "      <td>0</td>\n",
       "      <td>0</td>\n",
       "      <td>...</td>\n",
       "      <td>0</td>\n",
       "      <td>0</td>\n",
       "      <td>0</td>\n",
       "      <td>0</td>\n",
       "      <td>0</td>\n",
       "      <td>0</td>\n",
       "      <td>0</td>\n",
       "      <td>0</td>\n",
       "      <td>0</td>\n",
       "      <td>0</td>\n",
       "    </tr>\n",
       "    <tr>\n",
       "      <th>1</th>\n",
       "      <td>1727646.0</td>\n",
       "      <td>903.0</td>\n",
       "      <td>4.951531</td>\n",
       "      <td>720.0</td>\n",
       "      <td>1280.0</td>\n",
       "      <td>2013</td>\n",
       "      <td>3</td>\n",
       "      <td>0</td>\n",
       "      <td>0</td>\n",
       "      <td>0</td>\n",
       "      <td>...</td>\n",
       "      <td>0</td>\n",
       "      <td>0</td>\n",
       "      <td>0</td>\n",
       "      <td>0</td>\n",
       "      <td>0</td>\n",
       "      <td>0</td>\n",
       "      <td>0</td>\n",
       "      <td>0</td>\n",
       "      <td>0</td>\n",
       "      <td>0</td>\n",
       "    </tr>\n",
       "    <tr>\n",
       "      <th>2</th>\n",
       "      <td>1402747.0</td>\n",
       "      <td>806.0</td>\n",
       "      <td>4.962706</td>\n",
       "      <td>720.0</td>\n",
       "      <td>1280.0</td>\n",
       "      <td>2013</td>\n",
       "      <td>3</td>\n",
       "      <td>0</td>\n",
       "      <td>0</td>\n",
       "      <td>0</td>\n",
       "      <td>...</td>\n",
       "      <td>0</td>\n",
       "      <td>0</td>\n",
       "      <td>0</td>\n",
       "      <td>0</td>\n",
       "      <td>0</td>\n",
       "      <td>0</td>\n",
       "      <td>0</td>\n",
       "      <td>0</td>\n",
       "      <td>0</td>\n",
       "      <td>0</td>\n",
       "    </tr>\n",
       "  </tbody>\n",
       "</table>\n",
       "<p>3 rows × 202 columns</p>\n",
       "</div>"
      ],
      "text/plain": [
       "   view_count  duration  average_rating  height   width  upload_year  \\\n",
       "0   2541550.0    1126.0        4.886102   720.0  1280.0         2013   \n",
       "1   1727646.0     903.0        4.951531   720.0  1280.0         2013   \n",
       "2   1402747.0     806.0        4.962706   720.0  1280.0         2013   \n",
       "\n",
       "   upload_month  channel__5-Minute Crafts  channel__5-Minute Crafts GIRLY  \\\n",
       "0             3                         0                               0   \n",
       "1             3                         0                               0   \n",
       "2             3                         0                               0   \n",
       "\n",
       "   channel__5-Minute Crafts PLAY  ...  channel__grav3yardgirl  \\\n",
       "0                              0  ...                       0   \n",
       "1                              0  ...                       0   \n",
       "2                              0  ...                       0   \n",
       "\n",
       "   channel__iHasCupquake  channel__jacksepticeye  channel__jaipurthepinkcity  \\\n",
       "0                      0                       0                           0   \n",
       "1                      0                       0                           0   \n",
       "2                      0                       0                           0   \n",
       "\n",
       "   channel__jeffreestar  channel__speedyw03  channel__stampylonghead  \\\n",
       "0                     0                   0                        0   \n",
       "1                     0                   0                        0   \n",
       "2                     0                   0                        0   \n",
       "\n",
       "   channel__theRadBrad  channel__videogamedunkey  channel__windy31  \n",
       "0                    0                         0                 0  \n",
       "1                    0                         0                 0  \n",
       "2                    0                         0                 0  \n",
       "\n",
       "[3 rows x 202 columns]"
      ]
     },
     "execution_count": 332,
     "metadata": {},
     "output_type": "execute_result"
    }
   ],
   "source": [
    "#they mean -> features -> as number !!! GET DUMMIE methode is useful for !!!\n",
    "df=pd.get_dummies(df,columns=['channel'], prefix='channel_')\n",
    "df.head(3)"
   ]
  },
  {
   "cell_type": "markdown",
   "metadata": {},
   "source": [
    "4. Split the data into a train (70%) and a test set (30%) with the appropriate function from sklearn, using 42 as the random seed."
   ]
  },
  {
   "cell_type": "code",
   "execution_count": 365,
   "metadata": {},
   "outputs": [],
   "source": [
    "train,test= train_test_split(df,test_size=0.3,random_state=42)"
   ]
  },
  {
   "cell_type": "markdown",
   "metadata": {},
   "source": [
    "## B2: Who is the most viewed of them all?"
   ]
  },
  {
   "cell_type": "markdown",
   "metadata": {},
   "source": [
    "1. Train a ridge regression model (i.e., an L2-regularized linear regression model) on the train set that predicts the view count from the other features. Find and use the optimal regularization parameter $\\alpha$ from the set {0.001, 0.01, 0.1} via 3-fold cross validation."
   ]
  },
  {
   "cell_type": "code",
   "execution_count": 366,
   "metadata": {},
   "outputs": [],
   "source": [
    "X_train = train.drop(columns=['view_count'])\n",
    "y_train = train['view_count']\n",
    "X_test = test.drop(columns=['view_count'])\n",
    "y_test = test['view_count']\n",
    "#we split it to te values wanted!"
   ]
  },
  {
   "cell_type": "code",
   "execution_count": 342,
   "metadata": {},
   "outputs": [],
   "source": [
    "from sklearn.linear_model import Ridge\n",
    "from sklearn.model_selection import GridSearchCV #Exhaustive search over specified parameter values for an estimator.\n"
   ]
  },
  {
   "cell_type": "code",
   "execution_count": 343,
   "metadata": {},
   "outputs": [
    {
     "data": {
      "text/plain": [
       "GridSearchCV(cv=3, estimator=Ridge(), param_grid={'alpha': (0.001, 0.01, 0.1)})"
      ]
     },
     "execution_count": 343,
     "metadata": {},
     "output_type": "execute_result"
    }
   ],
   "source": [
    "ridge=Ridge()\n",
    "ridge_hyper = {'alpha':(0.001, 0.01, 0.1)}#create a set!!\n",
    "\n",
    "ridge_cv= GridSearchCV(ridge,ridge_hyper,cv=3) #add the parameters\n",
    "ridge_cv.fit(X_train,y_train)\n"
   ]
  },
  {
   "cell_type": "code",
   "execution_count": 345,
   "metadata": {},
   "outputs": [
    {
     "data": {
      "text/plain": [
       "{'alpha': 0.1}"
      ]
     },
     "execution_count": 345,
     "metadata": {},
     "output_type": "execute_result"
    }
   ],
   "source": [
    "ridge_cv.best_params_"
   ]
  },
  {
   "cell_type": "code",
   "execution_count": 348,
   "metadata": {},
   "outputs": [
    {
     "data": {
      "text/plain": [
       "array([0.088118  , 0.08811856, 0.08812404])"
      ]
     },
     "execution_count": 348,
     "metadata": {},
     "output_type": "execute_result"
    }
   ],
   "source": [
    "ridge_cv.cv_results_['mean_test_score']"
   ]
  },
  {
   "cell_type": "markdown",
   "metadata": {},
   "source": [
    "2. Report the mean absolute error that the model makes on the test set."
   ]
  },
  {
   "cell_type": "code",
   "execution_count": 350,
   "metadata": {},
   "outputs": [],
   "source": [
    "from sklearn.metrics import mean_absolute_error"
   ]
  },
  {
   "cell_type": "code",
   "execution_count": 351,
   "metadata": {},
   "outputs": [
    {
     "data": {
      "text/plain": [
       "1423869.117418618"
      ]
     },
     "execution_count": 351,
     "metadata": {},
     "output_type": "execute_result"
    }
   ],
   "source": [
    "mean_absolute_error(y_test,ridge_cv.predict(X_test))"
   ]
  },
  {
   "cell_type": "markdown",
   "metadata": {},
   "source": [
    "## B3: Checking our ambitions"
   ]
  },
  {
   "cell_type": "markdown",
   "metadata": {},
   "source": [
    "To improve performance, you want to make the task of the ML model easier and turn it into a classification task. Now it only has to predict whether a video has a high view count (defined as being larger than the median of the view counts in the training set) or a low view count (defined as being smaller or equal to the median of the view counts in the training set)."
   ]
  },
  {
   "cell_type": "markdown",
   "metadata": {},
   "source": [
    "1. Train a logistic regression model for this classification task. Find and use the optimal regularization parameter C (as defined in scikit-learn's documentation) from the set {1, 10, 100} via 3-fold cross validation. Use the random seed 42. _Hint_: If you get a warning about the training algorithm failing to converge, increase the maximum number of training iterations."
   ]
  },
  {
   "cell_type": "code",
   "execution_count": 367,
   "metadata": {},
   "outputs": [],
   "source": [
    "y_train=(y_train>y_train.median()).astype(int)\n",
    "y_test=(y_test>y_train.median()).astype(int)"
   ]
  },
  {
   "cell_type": "code",
   "execution_count": 370,
   "metadata": {},
   "outputs": [
    {
     "data": {
      "text/plain": [
       "11447     0\n",
       "96685     0\n",
       "96040     1\n",
       "38279     1\n",
       "23089     0\n",
       "         ..\n",
       "110397    0\n",
       "120022    1\n",
       "103814    0\n",
       "132085    1\n",
       "122105    1\n",
       "Name: view_count, Length: 97543, dtype: int64"
      ]
     },
     "execution_count": 370,
     "metadata": {},
     "output_type": "execute_result"
    }
   ],
   "source": [
    "y_train"
   ]
  },
  {
   "cell_type": "code",
   "execution_count": 355,
   "metadata": {},
   "outputs": [],
   "source": [
    "from sklearn.linear_model import LogisticRegressionCV"
   ]
  },
  {
   "cell_type": "code",
   "execution_count": 405,
   "metadata": {},
   "outputs": [
    {
     "data": {
      "text/plain": [
       "LogisticRegressionCV(Cs=(1, 10, 100), cv=3, max_iter=150, random_state=42)"
      ]
     },
     "execution_count": 405,
     "metadata": {},
     "output_type": "execute_result"
    }
   ],
   "source": [
    "\n",
    "param= (1,10,100)\n",
    "\n",
    "logistic = LogisticRegressionCV(Cs=param, cv=3, random_state=42, max_iter=150)\n",
    "\n",
    "logistic.fit(X_train,y_train)\n",
    "logistic"
   ]
  },
  {
   "cell_type": "code",
   "execution_count": 406,
   "metadata": {},
   "outputs": [
    {
     "data": {
      "text/plain": [
       "1"
      ]
     },
     "execution_count": 406,
     "metadata": {},
     "output_type": "execute_result"
    }
   ],
   "source": [
    "optimalC= logistic.C_[0]\n",
    "optimalC"
   ]
  },
  {
   "cell_type": "code",
   "execution_count": 407,
   "metadata": {},
   "outputs": [
    {
     "data": {
      "text/plain": [
       "array([0.74559942, 0.74559942, 0.74559942])"
      ]
     },
     "execution_count": 407,
     "metadata": {},
     "output_type": "execute_result"
    }
   ],
   "source": [
    "logistic.scores_[1].mean(axis=0)"
   ]
  },
  {
   "cell_type": "markdown",
   "metadata": {},
   "source": [
    "2. Compute the accuracy of the logistic regression model on the test set."
   ]
  },
  {
   "cell_type": "code",
   "execution_count": 408,
   "metadata": {},
   "outputs": [
    {
     "data": {
      "text/plain": [
       "0.5132878842243751"
      ]
     },
     "execution_count": 408,
     "metadata": {},
     "output_type": "execute_result"
    }
   ],
   "source": [
    "logistic.score(X_test,y_test)\n"
   ]
  },
  {
   "cell_type": "markdown",
   "metadata": {},
   "source": [
    "## B4: ...something's not right."
   ]
  },
  {
   "cell_type": "markdown",
   "metadata": {},
   "source": [
    "You are satisfied with the model performance. In fact, you are a bit surprised at how good the model is given the relatively little amount of information about the videos. So you take a closer look at the features and realize that the (one-hot-encoded) channel feature does not make sense for the application that your friend has in mind."
   ]
  },
  {
   "cell_type": "markdown",
   "metadata": {},
   "source": [
    "1. Why does the channel feature not make sense?"
   ]
  },
  {
   "cell_type": "markdown",
   "metadata": {},
   "source": [
    "**Answer:** Even though your friend knows who will upload their videos (your friend, of course), no video with this channel is in the training set and thus the corresponding one-hot feature does not exist in the model. Thus they wouldn't be able to use the trained model for predictions on their own videos."
   ]
  },
  {
   "cell_type": "markdown",
   "metadata": {},
   "source": [
    "2. Train another logistic regression model with all the features from B3 except the one-hot-encoded channel. Use again 42 as the seed for the train test split and perform the same hyperparameter optimization as in B3. How does the model performance change?"
   ]
  },
  {
   "cell_type": "code",
   "execution_count": 424,
   "metadata": {
    "tags": []
   },
   "outputs": [],
   "source": [
    "df2=df[['view_count','duration','average_rating','height','width','upload_year','upload_month']]\n",
    "\n",
    "train2,test2= train_test_split(df2,test_size=0.3,random_state=42)\n"
   ]
  },
  {
   "cell_type": "code",
   "execution_count": 415,
   "metadata": {},
   "outputs": [],
   "source": [
    "X_train2 = train2.drop(columns=['view_count'])\n",
    "y_train2 = train2['view_count']\n",
    "X_test2 = test2.drop(columns=['view_count'])\n",
    "y_test2 = test2['view_count']\n",
    "\n",
    "y_train2=(y_train2>y_train2.median()).astype(int)\n",
    "y_test2=(y_test2>y_train2.median()).astype(int)\n",
    "\n"
   ]
  },
  {
   "cell_type": "code",
   "execution_count": 416,
   "metadata": {},
   "outputs": [
    {
     "data": {
      "text/plain": [
       "LogisticRegressionCV(Cs=(1, 10, 100), cv=3, max_iter=150, random_state=42)"
      ]
     },
     "execution_count": 416,
     "metadata": {},
     "output_type": "execute_result"
    }
   ],
   "source": [
    "logistic.fit(X_train2,y_train2)\n",
    "logistic"
   ]
  },
  {
   "cell_type": "code",
   "execution_count": 419,
   "metadata": {},
   "outputs": [
    {
     "data": {
      "text/plain": [
       "10"
      ]
     },
     "execution_count": 419,
     "metadata": {},
     "output_type": "execute_result"
    }
   ],
   "source": [
    "opt_C = logistic.C_[0]\n",
    "opt_C"
   ]
  },
  {
   "cell_type": "code",
   "execution_count": 420,
   "metadata": {},
   "outputs": [
    {
     "data": {
      "text/plain": [
       "0.5130725989714149"
      ]
     },
     "execution_count": 420,
     "metadata": {},
     "output_type": "execute_result"
    }
   ],
   "source": [
    "logistic.score(X_test2,y_test2)"
   ]
  },
  {
   "cell_type": "markdown",
   "metadata": {},
   "source": [
    "Without the channel, the accuracy drops by 15 percentage points, and is not that far from uniformly random prediction anymore."
   ]
  },
  {
   "cell_type": "markdown",
   "metadata": {},
   "source": [
    "## B5: \"We kinda forgot about categories.\""
   ]
  },
  {
   "cell_type": "markdown",
   "metadata": {},
   "source": [
    "On second thought, there is actually one feature that you may use about the channel. Namely, the channel category. The reason this one makes sense might also help you answer B4.1."
   ]
  },
  {
   "cell_type": "markdown",
   "metadata": {},
   "source": [
    "1. Train and evaluate another logistic regression model (in the same way as in B4 regarding train/test split and hyperparameter) that additionally includes the one-hot-encoded channel category."
   ]
  },
  {
   "cell_type": "code",
   "execution_count": 438,
   "metadata": {},
   "outputs": [],
   "source": [
    "df3=[]"
   ]
  },
  {
   "cell_type": "code",
   "execution_count": 439,
   "metadata": {},
   "outputs": [
    {
     "name": "stderr",
     "output_type": "stream",
     "text": [
      "/var/folders/r7/jht38nh56px_s6jkntzx89n00000gn/T/ipykernel_90429/3106007195.py:4: SettingWithCopyWarning: \n",
      "A value is trying to be set on a copy of a slice from a DataFrame.\n",
      "Try using .loc[row_indexer,col_indexer] = value instead\n",
      "\n",
      "See the caveats in the documentation: https://pandas.pydata.org/pandas-docs/stable/user_guide/indexing.html#returning-a-view-versus-a-copy\n",
      "  df3['upload_year']=df3['upload_date'].apply(lambda x: x.year)\n",
      "/var/folders/r7/jht38nh56px_s6jkntzx89n00000gn/T/ipykernel_90429/3106007195.py:5: SettingWithCopyWarning: \n",
      "A value is trying to be set on a copy of a slice from a DataFrame.\n",
      "Try using .loc[row_indexer,col_indexer] = value instead\n",
      "\n",
      "See the caveats in the documentation: https://pandas.pydata.org/pandas-docs/stable/user_guide/indexing.html#returning-a-view-versus-a-copy\n",
      "  df3['upload_month']=df3['upload_date'].apply(lambda x: x.month)\n"
     ]
    }
   ],
   "source": [
    "df3=youtube[['view_count','upload_date','duration','average_rating','height','width']]\n",
    "\n",
    "\n",
    "df3['upload_year']=df3['upload_date'].apply(lambda x: x.year)\n",
    "df3['upload_month']=df3['upload_date'].apply(lambda x: x.month)\n",
    "df3=df3.drop(labels='upload_date',axis=1)\n",
    "\n",
    "df3['channel_cat']=youtube['channel_cat']\n",
    "youtube_ml = pd.get_dummies(df3, columns=['channel_cat'], prefix='cat_')\n",
    "\n",
    "train, test = train_test_split(youtube_ml, test_size=0.3, random_state=1)\n",
    "X_train = train.drop(columns=['view_count'])\n",
    "y_train = train['view_count']\n",
    "X_test = test.drop(columns=['view_count'])\n",
    "y_test = test['view_count']\n",
    "\n",
    "threshold = y_train.median()\n",
    "\n",
    "y_train_binary = (y_train > threshold).astype(int)\n",
    "y_test_binary = (y_test > threshold).astype(int)\n",
    "\n"
   ]
  },
  {
   "cell_type": "code",
   "execution_count": 441,
   "metadata": {},
   "outputs": [
    {
     "data": {
      "text/plain": [
       "10"
      ]
     },
     "execution_count": 441,
     "metadata": {},
     "output_type": "execute_result"
    }
   ],
   "source": [
    "logistic.fit(X_train, y_train_binary)\n",
    "opt_C = logistic.C_[0]\n",
    "opt_C"
   ]
  },
  {
   "cell_type": "code",
   "execution_count": 443,
   "metadata": {},
   "outputs": [
    {
     "data": {
      "text/plain": [
       "0.6177490730773831"
      ]
     },
     "execution_count": 443,
     "metadata": {},
     "output_type": "execute_result"
    }
   ],
   "source": [
    "logistic.score(X_test, y_test_binary)"
   ]
  },
  {
   "cell_type": "markdown",
   "metadata": {},
   "source": [
    "2. The dynamics of the two categories might differ a lot, and the two communities might value different properties of a video differently. For instance, for one community, a long duration might be more important, for the other one, a large picture width. Thus, having only a single weight for, e.g., the duration of a video, might not give the best results. Is there something smarter that you can do than simply including the category as a single one-hot-encoded feature to improve the classification performance? Implement your idea and compare the accuracy on the test set with that of the first model (from task B5.1)."
   ]
  },
  {
   "cell_type": "markdown",
   "metadata": {},
   "source": [
    "---\n",
    "**Answer:**\n",
    "We can instead train two separate models, one for each category."
   ]
  },
  {
   "cell_type": "code",
   "execution_count": 444,
   "metadata": {},
   "outputs": [],
   "source": [
    "youtube_ml = youtube_ml[['view_count', 'duration', 'average_rating', 'height', 'width', 'upload_year', 'upload_month']]\n",
    "youtube_ml_gaming = youtube_ml[youtube['channel_cat'] == 'Gaming']\n",
    "youtube_ml_howto = youtube_ml[youtube['channel_cat'] == 'Howto & Style']"
   ]
  },
  {
   "cell_type": "code",
   "execution_count": 445,
   "metadata": {},
   "outputs": [],
   "source": [
    "train_gaming, test_gaming = train_test_split(youtube_ml_gaming, test_size=0.3, random_state=1)\n",
    "X_train_gaming = train_gaming.drop(columns=['view_count'])\n",
    "y_train_gaming = train_gaming['view_count']\n",
    "X_test_gaming = test_gaming.drop(columns=['view_count'])\n",
    "y_test_gaming = test_gaming['view_count']\n",
    "\n",
    "train_howto, test_howto = train_test_split(youtube_ml_howto, test_size=0.3, random_state=1)\n",
    "X_train_howto = train_howto.drop(columns=['view_count'])\n",
    "y_train_howto = train_howto['view_count']\n",
    "X_test_howto = test_howto.drop(columns=['view_count'])\n",
    "y_test_howto = test_howto['view_count']"
   ]
  },
  {
   "cell_type": "code",
   "execution_count": 446,
   "metadata": {},
   "outputs": [],
   "source": [
    "y_train_binary_gaming = (y_train_gaming > y_train_gaming.median()).astype(int)\n",
    "y_test_binary_gaming = (y_test_gaming > y_train_gaming.median()).astype(int)\n",
    "y_train_binary_howto = (y_train_howto > y_train_howto.median()).astype(int)\n",
    "y_test_binary_howto = (y_test_howto > y_train_howto.median()).astype(int)"
   ]
  },
  {
   "cell_type": "markdown",
   "metadata": {},
   "source": [
    "Training separate models for the two categories gives slightly better accuracies.\n",
    "for gaming cat:"
   ]
  },
  {
   "cell_type": "code",
   "execution_count": 447,
   "metadata": {},
   "outputs": [
    {
     "data": {
      "text/plain": [
       "0.6383157726052642"
      ]
     },
     "execution_count": 447,
     "metadata": {},
     "output_type": "execute_result"
    }
   ],
   "source": [
    "logistic.fit(X_train_gaming, y_train_binary_gaming)\n",
    "logistic.score(X_test_gaming, y_test_binary_gaming)"
   ]
  },
  {
   "cell_type": "code",
   "execution_count": 448,
   "metadata": {},
   "outputs": [
    {
     "data": {
      "text/plain": [
       "0.6506767988601282"
      ]
     },
     "execution_count": 448,
     "metadata": {},
     "output_type": "execute_result"
    }
   ],
   "source": [
    "#for how to cat :\n",
    "logistic.fit(X_train_howto, y_train_binary_howto)\n",
    "logistic.score(X_test_howto, y_test_binary_howto)"
   ]
  },
  {
   "cell_type": "code",
   "execution_count": null,
   "metadata": {},
   "outputs": [],
   "source": []
  },
  {
   "cell_type": "markdown",
   "metadata": {},
   "source": [
    "# Task C: A map of the channels (Graphs)"
   ]
  },
  {
   "cell_type": "markdown",
   "metadata": {},
   "source": [
    "Your friend wants to map out the channels and represent their similarities. For this purpose, we have created two undirected and unweighted graphs for you, where in each graph, each channel has a node and similar channels have edges connecting them. In one graph, the similarity between two channels is based on how similar their video descriptions are, while in the other, the similarity is based on how similar their video tags are. We will call the former $G_{text}$ and the latter $G_{tags}$. You will be analyzing the two graphs loaded by running the cell below."
   ]
  },
  {
   "cell_type": "code",
   "execution_count": 462,
   "metadata": {},
   "outputs": [],
   "source": [
    "from networkx import from_numpy_array\n",
    "import json\n",
    "g_text_adj = np.loadtxt(open('data/g_text_adj.csv', 'r'), delimiter=',', skiprows=0)\n",
    "g_tags_adj = np.loadtxt(open('data/g_tags_adj.csv', 'r'), delimiter=',', skiprows=0)\n",
    "channel_to_index = json.load(open('data/channel_indices.json', 'r'))\n",
    "g_text = from_numpy_array(g_text_adj)\n",
    "g_tags = from_numpy_array(g_tags_adj)"
   ]
  },
  {
   "cell_type": "markdown",
   "metadata": {},
   "source": [
    "## C1: Does YouTube have a content diversity problem?"
   ]
  },
  {
   "cell_type": "markdown",
   "metadata": {},
   "source": [
    "1. For each graph, calculate its diameter (i.e., the largest shortest-path length, where the maximization is done over all node pairs). What difference do you see? _Hint_: Don't worry if you get an error, just read the error message carefully."
   ]
  },
  {
   "cell_type": "code",
   "execution_count": 463,
   "metadata": {},
   "outputs": [],
   "source": [
    "from networkx.algorithms.distance_measures import diameter"
   ]
  },
  {
   "cell_type": "code",
   "execution_count": 464,
   "metadata": {},
   "outputs": [
    {
     "data": {
      "text/plain": [
       "2"
      ]
     },
     "execution_count": 464,
     "metadata": {},
     "output_type": "execute_result"
    }
   ],
   "source": [
    "diameter(g_text)"
   ]
  },
  {
   "cell_type": "code",
   "execution_count": 465,
   "metadata": {},
   "outputs": [
    {
     "ename": "NetworkXError",
     "evalue": "Found infinite path length because the graph is not connected",
     "output_type": "error",
     "traceback": [
      "\u001b[0;31m---------------------------------------------------------------------------\u001b[0m",
      "\u001b[0;31mNetworkXError\u001b[0m                             Traceback (most recent call last)",
      "\u001b[0;32m/var/folders/r7/jht38nh56px_s6jkntzx89n00000gn/T/ipykernel_90429/556314742.py\u001b[0m in \u001b[0;36m<module>\u001b[0;34m\u001b[0m\n\u001b[0;32m----> 1\u001b[0;31m \u001b[0mdiameter\u001b[0m\u001b[0;34m(\u001b[0m\u001b[0mg_tags\u001b[0m\u001b[0;34m)\u001b[0m\u001b[0;34m\u001b[0m\u001b[0;34m\u001b[0m\u001b[0m\n\u001b[0m",
      "\u001b[0;32m~/opt/anaconda3/envs/adaexam/lib/python3.8/site-packages/networkx/algorithms/distance_measures.py\u001b[0m in \u001b[0;36mdiameter\u001b[0;34m(G, e, usebounds)\u001b[0m\n\u001b[1;32m    297\u001b[0m         \u001b[0;32mreturn\u001b[0m \u001b[0mextrema_bounding\u001b[0m\u001b[0;34m(\u001b[0m\u001b[0mG\u001b[0m\u001b[0;34m,\u001b[0m \u001b[0mcompute\u001b[0m\u001b[0;34m=\u001b[0m\u001b[0;34m\"diameter\"\u001b[0m\u001b[0;34m)\u001b[0m\u001b[0;34m\u001b[0m\u001b[0;34m\u001b[0m\u001b[0m\n\u001b[1;32m    298\u001b[0m     \u001b[0;32mif\u001b[0m \u001b[0me\u001b[0m \u001b[0;32mis\u001b[0m \u001b[0;32mNone\u001b[0m\u001b[0;34m:\u001b[0m\u001b[0;34m\u001b[0m\u001b[0;34m\u001b[0m\u001b[0m\n\u001b[0;32m--> 299\u001b[0;31m         \u001b[0me\u001b[0m \u001b[0;34m=\u001b[0m \u001b[0meccentricity\u001b[0m\u001b[0;34m(\u001b[0m\u001b[0mG\u001b[0m\u001b[0;34m)\u001b[0m\u001b[0;34m\u001b[0m\u001b[0;34m\u001b[0m\u001b[0m\n\u001b[0m\u001b[1;32m    300\u001b[0m     \u001b[0;32mreturn\u001b[0m \u001b[0mmax\u001b[0m\u001b[0;34m(\u001b[0m\u001b[0me\u001b[0m\u001b[0;34m.\u001b[0m\u001b[0mvalues\u001b[0m\u001b[0;34m(\u001b[0m\u001b[0;34m)\u001b[0m\u001b[0;34m)\u001b[0m\u001b[0;34m\u001b[0m\u001b[0;34m\u001b[0m\u001b[0m\n\u001b[1;32m    301\u001b[0m \u001b[0;34m\u001b[0m\u001b[0m\n",
      "\u001b[0;32m~/opt/anaconda3/envs/adaexam/lib/python3.8/site-packages/networkx/algorithms/distance_measures.py\u001b[0m in \u001b[0;36meccentricity\u001b[0;34m(G, v, sp)\u001b[0m\n\u001b[1;32m    262\u001b[0m             \u001b[0;32melse\u001b[0m\u001b[0;34m:\u001b[0m\u001b[0;34m\u001b[0m\u001b[0;34m\u001b[0m\u001b[0m\n\u001b[1;32m    263\u001b[0m                 \u001b[0mmsg\u001b[0m \u001b[0;34m=\u001b[0m \u001b[0;34m\"Found infinite path length because the graph is not\"\u001b[0m \u001b[0;34m\" connected\"\u001b[0m\u001b[0;34m\u001b[0m\u001b[0;34m\u001b[0m\u001b[0m\n\u001b[0;32m--> 264\u001b[0;31m             \u001b[0;32mraise\u001b[0m \u001b[0mnx\u001b[0m\u001b[0;34m.\u001b[0m\u001b[0mNetworkXError\u001b[0m\u001b[0;34m(\u001b[0m\u001b[0mmsg\u001b[0m\u001b[0;34m)\u001b[0m\u001b[0;34m\u001b[0m\u001b[0;34m\u001b[0m\u001b[0m\n\u001b[0m\u001b[1;32m    265\u001b[0m \u001b[0;34m\u001b[0m\u001b[0m\n\u001b[1;32m    266\u001b[0m         \u001b[0me\u001b[0m\u001b[0;34m[\u001b[0m\u001b[0mn\u001b[0m\u001b[0;34m]\u001b[0m \u001b[0;34m=\u001b[0m \u001b[0mmax\u001b[0m\u001b[0;34m(\u001b[0m\u001b[0mlength\u001b[0m\u001b[0;34m.\u001b[0m\u001b[0mvalues\u001b[0m\u001b[0;34m(\u001b[0m\u001b[0;34m)\u001b[0m\u001b[0;34m)\u001b[0m\u001b[0;34m\u001b[0m\u001b[0;34m\u001b[0m\u001b[0m\n",
      "\u001b[0;31mNetworkXError\u001b[0m: Found infinite path length because the graph is not connected"
     ]
    }
   ],
   "source": [
    "diameter(g_tags)"
   ]
  },
  {
   "cell_type": "markdown",
   "metadata": {},
   "source": [
    "**Answer:** the Diameter of Gtext is 2 and Gtags is unconnected"
   ]
  },
  {
   "cell_type": "markdown",
   "metadata": {},
   "source": [
    "2. What does the diameter of $G_{text}$ say about the diversity of the channels’ contents? How about the diameter of $G_{tags}$?"
   ]
  },
  {
   "cell_type": "markdown",
   "metadata": {},
   "source": [
    "**Answer:** What the diameter says in case of $G_{text}$ is that thethe longest shortest path is just 2 edges long, which could mean relatively low diversity, while $G_{tags}$ doesn't tell us much because its diameter is undefined."
   ]
  },
  {
   "cell_type": "markdown",
   "metadata": {},
   "source": [
    "3. Based on what you have calculated, which one has greater diversity: descriptions used by channels, or tags used by channels? Justify your answer."
   ]
  },
  {
   "cell_type": "markdown",
   "metadata": {},
   "source": [
    "**Answer:** The tags are more diverse because the graph is unconnected."
   ]
  },
  {
   "cell_type": "code",
   "execution_count": 467,
   "metadata": {},
   "outputs": [],
   "source": [
    "import networkx"
   ]
  },
  {
   "cell_type": "code",
   "execution_count": 468,
   "metadata": {},
   "outputs": [
    {
     "data": {
      "text/plain": [
       "1"
      ]
     },
     "execution_count": 468,
     "metadata": {},
     "output_type": "execute_result"
    }
   ],
   "source": [
    "networkx.number_connected_components(g_text)"
   ]
  },
  {
   "cell_type": "code",
   "execution_count": 469,
   "metadata": {},
   "outputs": [
    {
     "data": {
      "text/plain": [
       "2"
      ]
     },
     "execution_count": 469,
     "metadata": {},
     "output_type": "execute_result"
    }
   ],
   "source": [
    "networkx.number_connected_components(g_tags)"
   ]
  },
  {
   "cell_type": "markdown",
   "metadata": {},
   "source": [
    "4. Imagine that you want to **compare** content diversity between two sets of channels (i.e., you want to see which set of channels has more diverse content), and you have calculated a tag-based graph for each set. Do you think the diameter is a good measure for doing the comparison? Justify your answer."
   ]
  },
  {
   "cell_type": "markdown",
   "metadata": {},
   "source": [
    "**Answer:** No, because as we saw, the diameter can end up being undefined for both, which implies that both are diverse but does not provide much of a comparison."
   ]
  },
  {
   "cell_type": "markdown",
   "metadata": {},
   "source": [
    "5. Back to our own two graphs. Based on $G_{text}$, for each category of channels, which channel is the one most representative of the contents of all channels in that category? In other words, for each category, if you needed to provide a summary of all channels in the category via one channel, which channel would you choose? Show us (us being the exam designers and your friend) the descriptions of this channel’s two most-viewed videos. What metric did you use for this purpose? Explain your choice."
   ]
  },
  {
   "cell_type": "markdown",
   "metadata": {},
   "source": [
    "**Answer:** They can use either betweenness centrality (number of shortest paths passing through the node, i.e. the channel) or just the degree. Here we use the former."
   ]
  },
  {
   "cell_type": "code",
   "execution_count": 473,
   "metadata": {},
   "outputs": [],
   "source": [
    "centr =networkx.betweenness_centrality(g_text)"
   ]
  },
  {
   "cell_type": "code",
   "execution_count": 482,
   "metadata": {},
   "outputs": [
    {
     "data": {
      "text/plain": [
       "1"
      ]
     },
     "execution_count": 482,
     "metadata": {},
     "output_type": "execute_result"
    }
   ],
   "source": [
    "highest_cent= sorted(centr.keys(),key=lambda x: centr[x], reverse=True)[0]\n",
    "highest_cent # we have the index  now we need to have the channel"
   ]
  },
  {
   "cell_type": "code",
   "execution_count": 485,
   "metadata": {},
   "outputs": [
    {
     "data": {
      "text/plain": [
       "'Desi Perkins'"
      ]
     },
     "execution_count": 485,
     "metadata": {},
     "output_type": "execute_result"
    }
   ],
   "source": [
    "{k:v for v,k in channel_to_index.items()}[highest_cent]"
   ]
  },
  {
   "cell_type": "code",
   "execution_count": 488,
   "metadata": {},
   "outputs": [
    {
     "data": {
      "text/html": [
       "<div>\n",
       "<style scoped>\n",
       "    .dataframe tbody tr th:only-of-type {\n",
       "        vertical-align: middle;\n",
       "    }\n",
       "\n",
       "    .dataframe tbody tr th {\n",
       "        vertical-align: top;\n",
       "    }\n",
       "\n",
       "    .dataframe thead th {\n",
       "        text-align: right;\n",
       "    }\n",
       "</style>\n",
       "<table border=\"1\" class=\"dataframe\">\n",
       "  <thead>\n",
       "    <tr style=\"text-align: right;\">\n",
       "      <th></th>\n",
       "      <th>channel</th>\n",
       "      <th>upload_date</th>\n",
       "      <th>title</th>\n",
       "      <th>tags</th>\n",
       "      <th>duration</th>\n",
       "      <th>view_count</th>\n",
       "      <th>average_rating</th>\n",
       "      <th>height</th>\n",
       "      <th>width</th>\n",
       "      <th>channel_cat</th>\n",
       "      <th>year_published</th>\n",
       "      <th>month_published</th>\n",
       "    </tr>\n",
       "  </thead>\n",
       "  <tbody>\n",
       "    <tr>\n",
       "      <th>137477</th>\n",
       "      <td>Desi Perkins</td>\n",
       "      <td>2014-05-04</td>\n",
       "      <td>EYEBROW TUTORIAL</td>\n",
       "      <td>['how to', 'makeup', 'tutorial']</td>\n",
       "      <td>528.0</td>\n",
       "      <td>16851339.0</td>\n",
       "      <td>4.922917</td>\n",
       "      <td>1080.0</td>\n",
       "      <td>1920.0</td>\n",
       "      <td>Howto &amp; Style</td>\n",
       "      <td>2014</td>\n",
       "      <td>5</td>\n",
       "    </tr>\n",
       "    <tr>\n",
       "      <th>137267</th>\n",
       "      <td>Desi Perkins</td>\n",
       "      <td>2017-08-16</td>\n",
       "      <td>KIM KARDASHIAN WEST MAKEUP TUTORIAL + NEW KKW ...</td>\n",
       "      <td>[]</td>\n",
       "      <td>1499.0</td>\n",
       "      <td>8925152.0</td>\n",
       "      <td>4.888759</td>\n",
       "      <td>1080.0</td>\n",
       "      <td>1920.0</td>\n",
       "      <td>Howto &amp; Style</td>\n",
       "      <td>2017</td>\n",
       "      <td>8</td>\n",
       "    </tr>\n",
       "  </tbody>\n",
       "</table>\n",
       "</div>"
      ],
      "text/plain": [
       "             channel upload_date  \\\n",
       "137477  Desi Perkins  2014-05-04   \n",
       "137267  Desi Perkins  2017-08-16   \n",
       "\n",
       "                                                    title  \\\n",
       "137477                                   EYEBROW TUTORIAL   \n",
       "137267  KIM KARDASHIAN WEST MAKEUP TUTORIAL + NEW KKW ...   \n",
       "\n",
       "                                    tags  duration  view_count  \\\n",
       "137477  ['how to', 'makeup', 'tutorial']     528.0  16851339.0   \n",
       "137267                                []    1499.0   8925152.0   \n",
       "\n",
       "        average_rating  height   width    channel_cat  year_published  \\\n",
       "137477        4.922917  1080.0  1920.0  Howto & Style            2014   \n",
       "137267        4.888759  1080.0  1920.0  Howto & Style            2017   \n",
       "\n",
       "        month_published  \n",
       "137477                5  \n",
       "137267                8  "
      ]
     },
     "execution_count": 488,
     "metadata": {},
     "output_type": "execute_result"
    }
   ],
   "source": [
    "youtube.loc[youtube.channel=='Desi Perkins'].sort_values('view_count',ascending=False).head(2)"
   ]
  },
  {
   "cell_type": "markdown",
   "metadata": {},
   "source": [
    "## C2: Going back to categories again"
   ]
  },
  {
   "cell_type": "markdown",
   "metadata": {},
   "source": [
    "1. We want to use the two graphs to cluster channels from the same category together, and we want to compare their effectiveness at doing so. Use Kernighan-Lin bisection in the networkx package (`networkx.algorithms.community.kernighan_lin_bisection`) to divide each graph into two communities. Use 42 as the random seed. For each graph, show how many members of each category fall into each of the two communities."
   ]
  },
  {
   "cell_type": "code",
   "execution_count": 493,
   "metadata": {},
   "outputs": [],
   "source": [
    "biss_text= networkx.algorithms.community.kernighan_lin_bisection(g_text,max_iter=100, seed=42)\n",
    "biss_tags=networkx.algorithms.community.kernighan_lin_bisection(g_tags,max_iter=100, seed=42)"
   ]
  },
  {
   "cell_type": "code",
   "execution_count": 491,
   "metadata": {},
   "outputs": [],
   "source": [
    "cats_df = youtube.loc[(youtube.channel_cat == 'Gaming') | (youtube.channel_cat == 'Howto & Style'), #on prend chaque les cat et enleve les dupli, on a qu'un chanel with its cate\n",
    "                   ['channel', 'channel_cat']].drop_duplicates(subset='channel')\n",
    "cats_dict = {channel_to_index[cats_df.channel.values[i]]: cats_df.channel_cat.values[i] #on fait un dict avc key=index et value=categorie\n",
    "             for i in range(cats_df.shape[0])}\n",
    "cats_dict = {k:1 if v == 'Gaming' else 0 for k,v in cats_dict.items()} # si la cat est gaming -> value of dict sera 1 sinon 0"
   ]
  },
  {
   "cell_type": "code",
   "execution_count": 499,
   "metadata": {},
   "outputs": [],
   "source": [
    "def calculate_community_probabilities(bisection, category, channel_cats):\n",
    "    total_cat = len([x for x in channel_cats if channel_cats[x] == category]) #check sur dict of categ if category is same -> if case give number on member \n",
    "    p_com1_cat = len([x for x in bisection[0] if channel_cats[x] == category]) / total_cat # same before but check only in bissect0 and give number\n",
    "    p_com2_cat = len([x for x in bisection[1] if channel_cats[x] == category]) / total_cat\n",
    "    return p_com1_cat, p_com2_cat, p_com1_cat*total_cat, p_com2_cat*total_cat #% first com, % second, and # first com, #secon com"
   ]
  },
  {
   "cell_type": "code",
   "execution_count": 495,
   "metadata": {},
   "outputs": [
    {
     "name": "stdout",
     "output_type": "stream",
     "text": [
      "for Gtext we have for gaming (0.5353535353535354, 0.46464646464646464, 53.0, 46.0)\n"
     ]
    }
   ],
   "source": [
    "print(f'for Gtext we have for gaming {calculate_community_probabilities(biss_text,1,cats_dict)}')"
   ]
  },
  {
   "cell_type": "code",
   "execution_count": 496,
   "metadata": {},
   "outputs": [
    {
     "name": "stdout",
     "output_type": "stream",
     "text": [
      "for Gtext we have for Howto (0.4583333333333333, 0.5416666666666666, 44.0, 52.0)\n"
     ]
    }
   ],
   "source": [
    "print(f'for Gtext we have for Howto {calculate_community_probabilities(biss_text,0,cats_dict)}')"
   ]
  },
  {
   "cell_type": "code",
   "execution_count": 497,
   "metadata": {},
   "outputs": [
    {
     "name": "stdout",
     "output_type": "stream",
     "text": [
      "for Gtags we have for gaming (0.8181818181818182, 0.18181818181818182, 81.0, 18.0)\n"
     ]
    }
   ],
   "source": [
    "print(f'for Gtags we have for gaming {calculate_community_probabilities(biss_tags,1,cats_dict)}')"
   ]
  },
  {
   "cell_type": "code",
   "execution_count": 498,
   "metadata": {},
   "outputs": [
    {
     "name": "stdout",
     "output_type": "stream",
     "text": [
      "for Gtags we have for Howto (0.16666666666666666, 0.8333333333333334, 16.0, 80.0)\n"
     ]
    }
   ],
   "source": [
    "print(f'for Gtags we have for Howto {calculate_community_probabilities(biss_tags,0,cats_dict)}')"
   ]
  },
  {
   "cell_type": "markdown",
   "metadata": {},
   "source": [
    "2. If one of these graphs were ideal for this clustering task, what would the resulting communities look like? If it were the absolute worst possible graph for the task, what would the resulting communities look like?"
   ]
  },
  {
   "cell_type": "markdown",
   "metadata": {},
   "source": [
    "**Answer:** The ideal communities would be such that each would contain only **one** category. The worst communities would be evenly split between the two categories (i.e. 50% gaming and 50% howto)."
   ]
  },
  {
   "cell_type": "markdown",
   "metadata": {},
   "source": [
    "3. Calculate the probability $P(community|category)$ for each community and category within each graph. Design a metric, using the four $P(community|category)$ values in a graph, whose value would be 1 for the ideal graph and 0 for the worst graph. Calculate this metric for both graphs and compare the two. What do the results say about how representative tags and descriptions are regarding the channel categories? Are tags better suited, or descriptions?"
   ]
  },
  {
   "cell_type": "markdown",
   "metadata": {},
   "source": [
    "**Answer:** Check the results in C2.1, the percentages were provided as well.\n",
    "\n",
    "For the metric, one could be:\n",
    "$$1 - 2*min_{community, category}\\{P(community|category)\\}$$\n",
    "\n",
    "which would yield 1 if one of the probabilities is 0, and yield 0 if they are all 0.5.\n",
    "\n",
    "For the two graphs we have, they can simply spot the minimum and calculate this metric, which would yield the following:"
   ]
  },
  {
   "cell_type": "code",
   "execution_count": 500,
   "metadata": {},
   "outputs": [
    {
     "data": {
      "text/plain": [
       "0.09999999999999998"
      ]
     },
     "execution_count": 500,
     "metadata": {},
     "output_type": "execute_result"
    }
   ],
   "source": [
    "#Gtest:\n",
    "1-2*0.45"
   ]
  },
  {
   "cell_type": "code",
   "execution_count": 501,
   "metadata": {},
   "outputs": [
    {
     "data": {
      "text/plain": [
       "0.64"
      ]
     },
     "execution_count": 501,
     "metadata": {},
     "output_type": "execute_result"
    }
   ],
   "source": [
    "#Gtags\n",
    "1-2*0.18"
   ]
  },
  {
   "cell_type": "markdown",
   "metadata": {},
   "source": [
    "Based on this, $G_{tags}$ is quite superior in its discrimination between the two categories."
   ]
  },
  {
   "cell_type": "markdown",
   "metadata": {},
   "source": [
    "4. The Kernighan-Lin bisection you used above performs a min-edge cut: It attempts to partition the nodes of the graph into two sets of almost-equal size by deleting as few edges as possible. It starts off by creating a random partition of the nodes of the graph into two sets A and B that are almost equal in size, and then iteratively and in a greedy fashion moves nodes between A and B to reduce the number of edges between A and B. Show at least one toy example of a graph where the initialization could also be the final result. (Hint: Think of how, as we explained, the bisection algorithm relies on a minimum edge cut with a random initialization; under what circumstances could the original A and B be the best partition given that graph?)"
   ]
  },
  {
   "cell_type": "markdown",
   "metadata": {},
   "source": [
    "**Answer:** \n",
    "A case where the initialisation would also be the final result would be when we have a graph with two connected components, and where each community in the initialisation is one of the two connected components. Since this is a bipartition with no edge deletions, it essentially is a local minimum of the algorithm and is also the final result."
   ]
  }
 ],
 "metadata": {
  "kernelspec": {
   "display_name": "Python 3 (ipykernel)",
   "language": "python",
   "name": "python3"
  },
  "language_info": {
   "codemirror_mode": {
    "name": "ipython",
    "version": 3
   },
   "file_extension": ".py",
   "mimetype": "text/x-python",
   "name": "python",
   "nbconvert_exporter": "python",
   "pygments_lexer": "ipython3",
   "version": "3.8.12"
  }
 },
 "nbformat": 4,
 "nbformat_minor": 4
}
